{
 "cells": [
  {
   "cell_type": "markdown",
   "metadata": {
    "slideshow": {
     "slide_type": "slide"
    }
   },
   "source": [
    "# Lecture 1\n",
    "* Introduction to Data Science\n",
    "* Getting Started with Git and Python Demonstrations\n",
    "* Introduction to Python\n",
    "* Random Experiments and Simulations"
   ]
  },
  {
   "cell_type": "markdown",
   "metadata": {
    "slideshow": {
     "slide_type": "slide"
    }
   },
   "source": [
    "# Instructor: Shreya Saxena\n",
    "\n",
    "**Assistant Professor @ ECE, UF**\n",
    "\n",
    "* Office: NEB 433\n",
    "* Email: shreya.saxena@ece.ufl.edu"
   ]
  },
  {
   "cell_type": "markdown",
   "metadata": {
    "slideshow": {
     "slide_type": "slide"
    }
   },
   "source": [
    "## About Me\n",
    "\n",
    "* My pronous are she/her/hers\n",
    "\n",
    "* PhD in Electrical and Computer Engineering @ MIT\n",
    "\n",
    "* Postdoc in the Zuckerman Institute for Mind, Brain, Behavior @ Columbia University\n",
    "\n",
    "* Research interests: Neuro-AI (Neuroscience meets Artificial Intelligence)\n",
    "\n",
    "* I have lived in India, Switzerland, and the U.S. for approximately 1/3 of my life each.\n",
    "\n",
    "* I speak English, French, Hindi, and a little Spanish."
   ]
  },
  {
   "cell_type": "markdown",
   "metadata": {
    "slideshow": {
     "slide_type": "slide"
    }
   },
   "source": [
    "## Why should you care about Data Science?\n",
    "\n",
    "According to **Glassdoor**'s report [50 Best Jobs in America for 2022](https://www.glassdoor.com/List/Best-Jobs-in-America-LST_KQ0,20.htm):\n",
    "\n",
    "<div class=\"alert alert-info\" role=\"alert\">\n",
    "  <strong>Data Scientist ranks #3</strong>\n",
    "  \n",
    "Job Satisfaction: 4.1/5\n",
    "\n",
    "Median Base Salary: \\\\$120,000\n",
    "</div>\n",
    "\n",
    "\n",
    "[Why Data Science is Still a Top Job](https://www.datanami.com/2020/11/16/why-data-science-is-still-a-top-job/)"
   ]
  },
  {
   "cell_type": "markdown",
   "metadata": {
    "slideshow": {
     "slide_type": "subslide"
    }
   },
   "source": [
    "## What tools will we use to perform data science?"
   ]
  },
  {
   "cell_type": "code",
   "execution_count": 1,
   "metadata": {
    "slideshow": {
     "slide_type": "subslide"
    }
   },
   "outputs": [
    {
     "data": {
      "image/png": "[encoded data removed]",
      "text/plain": [
       "<IPython.core.display.Image object>"
      ]
     },
     "execution_count": 1,
     "metadata": {
      "image/png": {
       "width": 700
      }
     },
     "output_type": "execute_result"
    }
   ],
   "source": [
    "from IPython.display import Image\n",
    "Image('figures/tools.png', width=700)"
   ]
  },
  {
   "cell_type": "markdown",
   "metadata": {
    "slideshow": {
     "slide_type": "slide"
    }
   },
   "source": [
    "# EEL 3850 Data Science for ECE\n",
    "\n",
    "**Course Description:** (4 credits) Analysis, processing, simulation, and reasoning of data. Includes data conditioning and plotting, linear algebra, statistical methods, probability, simulation, and experimental design.\n",
    "\n",
    "* **<font color=blue>This course relies on both programming and math!</font>**\n",
    "\n",
    "* We will use **Python** almost every class, for class assignments, **and for exams**"
   ]
  },
  {
   "cell_type": "markdown",
   "metadata": {
    "slideshow": {
     "slide_type": "slide"
    }
   },
   "source": [
    "## Why Python?\n",
    "\n",
    "![DataScienceSoftware](https://i2.wp.com/r4stats.com/wp-content/uploads/2019/05/Fig-1a-IndeedJobs-2019-1.png?w=650)"
   ]
  },
  {
   "cell_type": "markdown",
   "metadata": {
    "slideshow": {
     "slide_type": "subslide"
    }
   },
   "source": [
    "## Programming in Python\n",
    "\n",
    "* You are **not** expected to already know Python\n",
    "* However, you do need good basic programming skills (in any language) to do well in this course"
   ]
  },
  {
   "cell_type": "markdown",
   "metadata": {
    "slideshow": {
     "slide_type": "subslide"
    }
   },
   "source": [
    "#### What Python proficiency to expect to learn in this class?\n",
    "\n",
    "I will **not** teach you **everything** you need to know about Python during class; instead, I will teach you how to use it for visualization, data processing, simulation, etc.\n",
    "\n",
    "* I **will** provide you with lots of resources and help to get going in Python\n",
    "\n",
    "* The teaching team **will** be available during office hours to help you with Python issues\n",
    "\n",
    "* You should expect to be at an intermediate proficiency by the end of the course, assuming you put in the work"
   ]
  },
  {
   "cell_type": "markdown",
   "metadata": {
    "slideshow": {
     "slide_type": "slide"
    }
   },
   "source": [
    "## Analytical work\n",
    "\n",
    "I will also be doing demonstrations and solving analytical exercises using probability and statistics concepts, which will require you to be proficient in Calculus.\n",
    "\n",
    "* I have uploaded to GitHub ([Lecture 0](https://github.com/EEL3850-F22/Lectures)) a set of notes with review material up to Calculus II (equivalent to MAC 2312).\n",
    "* No prior knowledge of probability or statistics is needed\n",
    "\n",
    "**Pre-requisite:** MAC 2312 (Calculus 2) and EEL 3134 (Programming 1). Students are expected to bring a portable computer to class meetings."
   ]
  },
  {
   "cell_type": "markdown",
   "metadata": {
    "slideshow": {
     "slide_type": "slide"
    }
   },
   "source": [
    "# So... what is Data Science?"
   ]
  },
  {
   "cell_type": "markdown",
   "metadata": {
    "slideshow": {
     "slide_type": "subslide"
    }
   },
   "source": [
    "Data science is a multidisciplinary approach to extracting actionable insights from the large and ever-increasing volumes of data collected and created by today’s organizations. Data science encompasses preparing data for analysis and processing, performing advanced data analysis, and presenting the results to reveal patterns and enable stakeholders to draw informed conclusions.\n",
    "\n",
    "Data preparation can involve cleansing, aggregating, and manipulating it to be ready for specific types of processing. Analysis requires the development and use of algorithms, analytics and AI models. It’s driven by software that combs through data to find patterns within to transform these patterns into predictions that support business decision-making. The accuracy of these predictions must be validated through scientifically designed tests and experiments. And the results should be shared through the skillful use of data visualization tools that make it possible for anyone to see the patterns and understand trends."
   ]
  },
  {
   "cell_type": "markdown",
   "metadata": {},
   "source": [
    "As a result, data scientists require computer science and pure science skills beyond those of a typical data analyst. A data scientist must be able to do the following:\n",
    "\n",
    "* Apply mathematics, statistics, and the scientific method\n",
    "* Use a wide range of tools and techniques for evaluating and preparing data\n",
    "* Extract insights from data using predictive analytics and artificial intelligence (AI), including machine learning and deep learning models\n",
    "* Write applications that automate data processing and calculations\n",
    "* Tell—and illustrate—stories that clearly convey the meaning of results to decision-makers and stakeholders at every level of technical knowledge and understanding\n",
    "* Explain how these results can be used to solve business problems\n",
    "\n",
    "This combination of skills is rare, and it's no surprise that data scientists are currently in high demand"
   ]
  },
  {
   "cell_type": "markdown",
   "metadata": {},
   "source": [
    "## The Data Science Lifecycle\n",
    "\n",
    "The data science lifecycle—also called the data science pipeline—includes anywhere from five to sixteen (depending on whom you ask) overlapping, continuing processes. The processes common to just about everyone’s definition of the lifecycle include the following:\n",
    "\n",
    "1. **Capture**: This is the gathering of raw structured and unstructured data from all relevant sources via just about any method—from manual entry and web scraping to capturing data from systems and devices in real time.\n",
    "\n",
    "2. **Prepare and maintain**: This involves putting the raw data into a consistent format for analytics or machine learning or deep learning models. This can include everything from cleansing, deduplicating, and reformatting the data, to using ETL (extract, transform, load) or other data integration technologies to combine the data into a data warehouse, data lake, or other unified store for analysis.\n",
    "\n",
    "3. **Preprocess or process**: Here, data scientists examine biases, patterns, ranges, and distributions of values within the data to determine the data's suitability for use with predictive analytics, machine learning, and/or deep learning algorithms (or other analytical methods).\n",
    "\n",
    "4. **Analyze**: This is where the discovery happens—where data scientists perform statistical analysis, predictive analytics, regression, machine learning and deep learning algorithms, and more to extract insights from the prepared data.\n",
    "\n",
    "5. **Communicate**: Finally, the insights are presented as reports, charts, and other data visualizations that make the insights—and their impact on the business—easier for decision-makers to understand. A data science programming language such as Python (see below) includes components for generating visualizations such as Jupyter Notebooks; alternatively, data scientists can use dedicated visualization tools."
   ]
  },
  {
   "cell_type": "markdown",
   "metadata": {
    "slideshow": {
     "slide_type": "subslide"
    }
   },
   "source": [
    "### Some examples of data science problems we have studied in previous years:\n",
    "\n",
    "* Do gun laws reduce firearms mortality?\n",
    "\n",
    "* If we look at the effect of state laws on firearms mortalities, what other factors might be responsible for any observed differences? Do urban and rural states have different firearms mortalities? How about richer or poorer states?\n",
    "\n",
    "* Do males score higher on standardized high school math and science tests than females?\n",
    "\n",
    "* Do first pregnancies last longer than other pregnancies?\n",
    "\n",
    "* How should we measure the effectiveness of medical tests, including risks with false identification and missed detection of disease?\n",
    "\n",
    "* Has the temperature been increasing over the last decades?"
   ]
  },
  {
   "cell_type": "markdown",
   "metadata": {
    "slideshow": {
     "slide_type": "subslide"
    }
   },
   "source": [
    "## How does a typical lecture looks like?\n",
    "\n",
    "* We will use Jupyter Notebooks such as this one\n",
    "* I will publish the class notes **before** class\n",
    "* I will do live coding, you can follow along with your laptops\n",
    "* I will share the notebook with edits after class, and also push its pdf\n",
    "* I will use my iPad as a virtual whiteboard\n",
    "* I will share the handwritten whiteboard notes after class\n",
    "\n",
    "**All lectures will be pushed to GitHub**"
   ]
  },
  {
   "cell_type": "markdown",
   "metadata": {
    "slideshow": {
     "slide_type": "slide"
    }
   },
   "source": [
    "## Course Homepage\n",
    "\n",
    "In this course we will use two main organizations:\n",
    "\n",
    "1. [Canvas page](https://ufl.instructure.com/courses/462942): announcements, grades, send/receive emails, participation assignments through discussion boards, question and answering on assignment issues through discussion boards.\n",
    "\n",
    "2. [GitHub Organization](https://github.com/EEL3850-F22): I will post all lecture notes in this private organization. You will complete all assignments in a private repository and send its URL to Canvas as the assignment submission.\n",
    "    * In order to receive an invitation to join the organization, join the GitHub Classroom first by accepting and creating your repository for [Short Assignment 0](https://ufl.instructure.com/courses/462942/assignments/5366998) repository.\n",
    "    * **Clone the \"Lectures\" repository to your local machine and pull from that repository before class**\n",
    "    * Be sure to [download Git](https://git-scm.com/downloads)\n",
    "    * Complete one (or a few) introductory tutorials:\n",
    "        * Git bootcamp: https://help.github.com/categories/bootcamp/\n",
    "        * Tutorials: https://www.atlassian.com/git/tutorials/\n",
    "        * Interactive Introduction: https://try.github.io/"
   ]
  },
  {
   "cell_type": "markdown",
   "metadata": {
    "slideshow": {
     "slide_type": "subslide"
    }
   },
   "source": [
    "# Intro to GitHub\n",
    "\n",
    "Basic git commands:\n",
    "* ```git status```\n",
    "* ```git pull```\n",
    "* ```git add```\n",
    "* ```git commit```\n",
    "* ```git push```"
   ]
  },
  {
   "cell_type": "markdown",
   "metadata": {
    "slideshow": {
     "slide_type": "subslide"
    }
   },
   "source": [
    "## Git Demonstration\n",
    "\n",
    "Install and download [Git](https://git-scm.com/downloads) and [GitHub Desktop](https://desktop.github.com/).\n",
    "\n",
    "### 1. How to ```clone``` a repository\n",
    "\n",
    "You can use **Git Bash** to clone a repo or use GitHub Desktop. **I will demonstrate how to do it using Git Bash.** But all can also be easily performed using the interface GitHub Desktop. (Download and install [GitHub Desktop](https://desktop.github.com/))\n",
    "\n",
    "For example, let's create [\"Short Assignment 0\"](https://classroom.github.com/a/7r42e2Vn) repository and clone it."
   ]
  },
  {
   "cell_type": "markdown",
   "metadata": {
    "slideshow": {
     "slide_type": "subslide"
    }
   },
   "source": [
    "### 2. Getting the latest edits from a repository - use ```git pull```\n",
    "\n",
    "To ```pull``` from a repository, simply call ```git pull``` using Git Bash.\n"
   ]
  },
  {
   "cell_type": "markdown",
   "metadata": {
    "slideshow": {
     "slide_type": "subslide"
    }
   },
   "source": [
    "### 3. How to manage files within a repo\n",
    "\n",
    "The 3 most used Git commands are: ```git pull```, ```git add```, ```git commit``` and ```git push```. You can call these commands directly on the **Git Bash** console within the cloned repository on your machine."
   ]
  },
  {
   "cell_type": "markdown",
   "metadata": {
    "slideshow": {
     "slide_type": "subslide"
    }
   },
   "source": [
    "This should be sufficient to get you started with Git and GitHub in this course. To learn more, watch the tutorials below:\n",
    "\n",
    "* Git bootcamp: https://help.github.com/categories/bootcamp/\n",
    "* Tutorials: https://www.atlassian.com/git/tutorials/\n",
    "* Interactive Introduction: https://try.github.io/\n",
    "\n",
    "The [Curious git](https://matthew-brett.github.io/curious-git/curious_git.html) is also a great resource."
   ]
  },
  {
   "cell_type": "markdown",
   "metadata": {
    "slideshow": {
     "slide_type": "slide"
    }
   },
   "source": [
    "## Course Objectives (as time allows)\n",
    "\n",
    "Upon completion of this course, the student will be able to:\n",
    "1. Implement, debug, and deploy Python code\n",
    "2. Generate visualizations to expose meaning in data\n",
    "3. Generate and understand the meaning and uses of summary statistics of data\n",
    "4. Model random phenomena using random variables\n",
    "5. Generate random variables with specified densities or distributions\n",
    "6. Conduct hypothesis tests using simulations and analysis\n",
    "7. Understand and use conditioning to simplify problems\n",
    "8. Estimate parameters of distributions from samples\n",
    "9. Understand dependence and independence among random phenomena\n",
    "10. Use statistical tests to determine or characterize dependence among random phenomena\n",
    "11. Design experiments to understand random phenomena\n",
    "12. Understand the difference between Bayesian statistics and classical statistics\n",
    "13. Use simulation to calculate Bayesian statistics\n",
    "14. Apply linear algebra for data processing and statistical calculations\n",
    "\n",
    "The main goal of this course is to equip the students with a data science mindset for successful practical implementations, in particular: understand, analyze, and design an approach to work with a data science or electrical engineering problem."
   ]
  },
  {
   "cell_type": "markdown",
   "metadata": {
    "slideshow": {
     "slide_type": "subslide"
    }
   },
   "source": [
    "### Contribution of course to meeting the professional component\n",
    "\n",
    "4 credits of Engineering Science\n",
    "\n",
    "**Relationship of course to program outcomes:**\n",
    "1. An ability to identify, formulate, and solve engineering problems by applying principles of engineering, science, and mathematics. $\\Rightarrow$ High\n",
    "\n",
    "2. An ability to apply both analysis and synthesis in the engineering design process, resulting in designs that meet desired needs. $\\Rightarrow$ High\n",
    "\n",
    "3. An ability to develop and conduct appropriate experimentation, analyze and interpret data, and use engineering judgment to draw conclusions. $\\Rightarrow$ High"
   ]
  },
  {
   "cell_type": "markdown",
   "metadata": {
    "slideshow": {
     "slide_type": "subslide"
    }
   },
   "source": [
    "## Time commitment\n",
    "\n",
    "This is an estimate:\n",
    "\n",
    "| Work | Hours/Week |\n",
    "| ---      |     ---    |\n",
    "| Attend lectures, ask questions |    3.33     |\n",
    "| Study/Read ~20 pages of lecture notes and code    |     4      |\n",
    "| Reading assignments  |   1.2  |\n",
    "| Homework exercises |   3 |\n",
    "| **Total**   | **11.5** | "
   ]
  },
  {
   "cell_type": "markdown",
   "metadata": {
    "slideshow": {
     "slide_type": "subslide"
    }
   },
   "source": [
    "## Software Required\n",
    "\n",
    "1. [**Anaconda Distribution**](https://www.anaconda.com/products/individual)\n",
    "\n",
    "* with Python 3.8\n",
    "* It includes all libraries, modules and tools we will use: Jupyter notebooks, ```NumPy```, ```Matplotlib```, ```SciPy```, ```Pandas```, ```scikit-learn```, ```random```\n",
    "* Download and install it before next class\n",
    "\n",
    "<h5 align=\"center\">Some popular libraries in Anaconda</h5>\n",
    "\n",
    "![Anaconda](https://optimise2.assets-servd.host/voracious-blesbok/production/Products/open-source-logos2x.png?w=700&q=80&auto=format&fit=crop&fp-x=0.5&fp-y=0.5&dm=1632326988&s=6dedae1aec55ae8f498d90b586fbc46f)"
   ]
  },
  {
   "cell_type": "markdown",
   "metadata": {
    "slideshow": {
     "slide_type": "subslide"
    }
   },
   "source": [
    "You have 2 options to manage your packages and virtual environment/s:\n",
    "\n",
    "1. using ```pip```. System that manages Python packages.\n",
    "2. using ```conda```. System that manages packages that may be written in any programming language. \n",
    "\n",
    "Since we will use Python packages, you can use either one of these systems to manage your virtual environment. Which one to use typically comes with your specific needs. I typically use ```conda``` and that would be sufficient for this course. \n",
    "\n",
    "Find help for creating and managing your **virtual environments**:\n",
    "\n",
    "* using ```conda``` to [manage virtual environments](https://docs.conda.io/projects/conda/en/latest/user-guide/tasks/manage-environments.html?highlight=environment#creating-an-environment-with-commands).\n",
    "* using ```pip``` to [manage virtual environments](https://packaging.python.org/guides/installing-using-pip-and-virtual-environments/)."
   ]
  },
  {
   "cell_type": "markdown",
   "metadata": {
    "slideshow": {
     "slide_type": "slide"
    }
   },
   "source": [
    "## Textbooks - Required"
   ]
  },
  {
   "cell_type": "markdown",
   "metadata": {
    "cell_style": "split",
    "slideshow": {
     "slide_type": "subslide"
    }
   },
   "source": [
    "1. **Introduction to Probability**\n",
    "\n",
    "* Author: Dimitri P. Bertsekas, John N. Tsitsiklis\n",
    "* Edition: 2nd\n",
    "* Publisher: Athena Scientific\n",
    "* Year: 2008\n",
    "* ISBN: 978-1-886529-23-6\n",
    "\n",
    "An **e-book version** will be cheaper and is perfectly fine for this course. The authors created an instructional digital version of the book and you can download it [here](https://www.vfu.bg/en/e-Learning/Math--Bertsekas_Tsitsiklis_Introduction_to_probability.pdf)\n",
    "\n",
    "![BertsekasTextbook](https://images-na.ssl-images-amazon.com/images/I/51YN28ow7rL._SX389_BO1,204,203,200_.jpg)"
   ]
  },
  {
   "cell_type": "markdown",
   "metadata": {
    "cell_style": "split",
    "slideshow": {
     "slide_type": "subslide"
    }
   },
   "source": [
    "2. **Introduction to Applied Linear Algebra - Vectors, Matrices, and Least Squares**\n",
    "\n",
    "* Author: Stephen Boyd\n",
    "* Edition: 1st\n",
    "* Publisher: Cambridge University Press\n",
    "* Year: 2018\n",
    "* ISBN: 978-1-886529-23-6\n",
    "\n",
    "An **e-book version** is freely available and is perfectly fine for this course: you can download it [here](http://vmls-book.stanford.edu/)\n",
    "\n",
    "![BoydTextbook](https://images-na.ssl-images-amazon.com/images/I/418ANMKbtQL._SX379_BO1,204,203,200_.jpg)"
   ]
  },
  {
   "cell_type": "markdown",
   "metadata": {
    "slideshow": {
     "slide_type": "subslide"
    }
   },
   "source": [
    "## Library Course Reserves\n",
    "\n",
    "* Additional readings will be listed in our Canvas page\n",
    "* All reading materials are available on Course Reserves with both hard copy (at Marston't library) and electronic access"
   ]
  },
  {
   "cell_type": "markdown",
   "metadata": {
    "slideshow": {
     "slide_type": "subslide"
    }
   },
   "source": [
    "## Course Schedule\n",
    "\n",
    "A complete course schedule can be found in our [Syllabus](https://ufl.instructure.com/courses/462942/assignments/syllabus).\n",
    "\n",
    "The semester will have 2 parts:\n",
    "\n",
    "1. **Probability and Statistics.** Main textbook is \"Introduction to Probability\". Week 1-8\n",
    "2. **Linear Algebra.** Main textbook is \"Introduction to Applied Linear Algebra\". Week 9-15"
   ]
  },
  {
   "cell_type": "markdown",
   "metadata": {
    "slideshow": {
     "slide_type": "subslide"
    }
   },
   "source": [
    "## Course Policies\n",
    "\n",
    "Please read the syllabus carefully.\n",
    "\n",
    "1. **How to get help:** office hours, email (via Canvas or at shreya.saxena@ufl.edu), telephone, or Slack.\n",
    "    * Slack channel: https://uf-eel3850-fall2022.slack.com/    \n",
    "    \n",
    "    * Office Hours (Saxena): R 5 (11:45am-12:35pm) NEB 433\n",
    "    * Office Hours (Hellwege): MW 12:30pm-1:20pm NEB 501\n",
    "    * Office Hours (Santiago): MW 4:30pm-5:20pm NEB 501\n",
    "    \n",
    "2. **Attendance:** attendance is not required though summative and cumulative assessments may happen during class time. I will prepare course materials with the expectation that students will attend class synchronously. If any schedule conflict comes up, please email me so I'm informed and we can work together for alternative arrangements.\n",
    "\n",
    "3. **Grading:** make sure your submissions are carefully completed with clean and well documented code. Make full use of Jupyter features, such as markdown text. Individual assignments will **not** be curved. Final grades **will** be curved.\n",
    "\n",
    "4. **Late Work:** I will accept all assignment submissions as long as solutions have not yet been released, but you will lose the **on-time** points listed in the rubric. Solutions will typically be released 1 week after the assignment is due.\n",
    "\n",
    "5. **Make-Up Policy:** If you feel that any assignment needs to be re-graded, you must discuss this with me within 1 week of grades being posted. If approved, the entire assignment will be subject to complete evaluation. Excused absences must be consistent with university policies in the [graduate catalog](https://catalog.ufl.edu/graduate/?catoid=10&navoid=2020#attendance) and require appropriate documentation\n",
    "\n",
    "6. **Collaboration:** healthy collaboration is encouraged. If another student contributes substantially to your understanding of a problem, you should cite this student. You will not be negatively judged for citing another student.\n",
    "\n",
    "7. **Cheating and Plagiarism:** you are expected to submit your own work. If you are suspected of dishonest academic activity, I will invite you to discuss it further in private. Academic dishonesty will likely result in grade reduction, with severity depending on the nature of the dishonest activity. I am obligated to report on academic misconduct with a letter to the department, college and/or university leadership. Repeat offenses will be treated with significantly greater severity."
   ]
  },
  {
   "cell_type": "markdown",
   "metadata": {
    "slideshow": {
     "slide_type": "subslide"
    }
   },
   "source": [
    "## Grading\n",
    "\n",
    "Grading will be based on: \n",
    "\n",
    "|Assignment|Total|Percentage Final Grade|\n",
    "|---|---|---|\n",
    "| Exams | 3 | 20% each|\n",
    "| Homework | ~ 6 | 15%|\n",
    "| Short Assignments | ~ 8 | 15% |\n",
    "| Participation | ~5 | 10%|\n",
    "\n",
    "**Homeworks** will have 2 parts: (1) analytical exercises, typically solved on paper. (2) practical problems to be implemented in Python.\n",
    "\n",
    "**Exams** will be drawn from lectures and readings. Practice exams will be provided. \n",
    "\n",
    "**Short Assignments** will typically consist of short problems (with shorter turnaround time) to help consolidate and retain the information learned in class.\n",
    "\n",
    "**Participation** will be in the form of discussion boards participation and class participation"
   ]
  },
  {
   "cell_type": "markdown",
   "metadata": {
    "slideshow": {
     "slide_type": "subslide"
    }
   },
   "source": [
    "**<h2 align=\"center\"><font color=orange> Exams!</font></h2>**\n",
    "\n",
    "* <h3><font color=blue> Exam 1: September 26th @ 8:20 PM - 10:10 PM (tentative)</font></h3>\n",
    "\n",
    "* <h3><font color=blue> Exam 2: November 2nd @ 8:20 PM - 10:10 PM (tentative)</font></h3>\n",
    "\n",
    "* <h3><font color=blue> Exam 3: December 15th @ 10:00 AM - 12:00 PM</font></h3>"
   ]
  },
  {
   "cell_type": "markdown",
   "metadata": {
    "slideshow": {
     "slide_type": "subslide"
    }
   },
   "source": [
    "#### Grading Scale\n",
    "\n",
    "Individual assignments will not be curved. **Final grades will be curved**, participation points will be used in grade boosting.\n",
    "\n",
    "|Percent|Grade|Grade Points|\n",
    "|--|--|--|\n",
    "|93.4 - 100| A| 4.00|\n",
    "|90.0 - 93.3| A-|3.67|\n",
    "|86.7 - 89.9| B+|3.33|\n",
    "|83.4 - 86.6| B |3.00|\n",
    "|80.0 - 83.3| B- |2.67|\n",
    "|76.7 - 79.9| C+ |2.33|\n",
    "|73.4 - 76.6| C |2.00|\n",
    "|70.0 - 73.3| C- |1.67|\n",
    "|66.7 - 69.9| D+ |1.33|\n",
    "|63.4 - 66.6| D |1.00|\n",
    "|60.0 - 63.3| D- |0.67|\n",
    "|0 - 59.9| E |0.00|"
   ]
  },
  {
   "cell_type": "markdown",
   "metadata": {
    "slideshow": {
     "slide_type": "subslide"
    }
   },
   "source": [
    "## Students Requiring Accommodations\n",
    "\n",
    "Students with disabilities who experience learning barriers and would like to request academic accommodations should connect with the disability Resource Center by visiting https://disability.ufl.edu/students/get-started/. \n",
    "\n",
    "* Please make sure you share your accommodation letter with me as soon as you have it, so we can discuss your access needs."
   ]
  },
  {
   "cell_type": "markdown",
   "metadata": {
    "slideshow": {
     "slide_type": "subslide"
    }
   },
   "source": [
    "## Course Evaluations\n",
    "\n",
    "You are expected to provide professional and respectful feedback on the quality of instruction in this course by completing the course evaluations online via GatorEvals.\n",
    "\n",
    "* The University is using a relatively new evaluation system, and evaluation results are now publicly available here: https://gatorevals.aa.ufl.edu/public-results/\n",
    "\n",
    "* Guidance on how to give feedback in a professional and respectful manner is available at https://gatorevals.aa.ufl.edu/students/. \n",
    "\n",
    "* You will be notified when the evaluation period opens, and can complete evaluations through the email you receive from GatorEvals, in the Canvas course menu under GatorEvals, or via https://ufl.bluera.com/ufl/."
   ]
  },
  {
   "cell_type": "markdown",
   "metadata": {
    "slideshow": {
     "slide_type": "subslide"
    }
   },
   "source": [
    "## University Honesty Policy\n",
    "\n",
    "All UF students are bound by The Honor Pledge which states:\n",
    "\n",
    "<h5 align=\"center\">We, the members of the University of Florida community, pledge to hold ourselves and our peers to the highest standards of honor and integrity by abiding by the Honor Code. On all work submitted for credit by students at the University of Florida, the following pledge is either required or implied: \"On my honor, I have neither given nor received unauthorized aid in doing this assignment.\"</h5>\n",
    "\n",
    "The [Honor Code](https://sccr.dso.ufl.edu/policies/student-honor-code-student-conduct-code/) specifies a number of behaviors that are in violation of this code and the possible sanctions. Furthermore, you are obligated to report any condition that facilitates academic misconduct to appropriate personnel. If you have any questions or concerns, please consult with the instructor or TAs in this class."
   ]
  },
  {
   "cell_type": "markdown",
   "metadata": {
    "slideshow": {
     "slide_type": "subslide"
    }
   },
   "source": [
    "## Commitment to a Safe and Inclusive Learning Environment\n",
    "\n",
    "The Herbert Wertheim College of Engineering values broad diversity within our community and is committed to individual and group empowerment, inclusion, and the elimination of discrimination.  It is expected that every person in this class will treat one another with dignity and respect regardless of gender, sexuality, disability, age, socioeconomic status, ethnicity, race, and culture.\n",
    "\n",
    "If you feel like your performance in class is being impacted by discrimination or harassment of any kind, please contact your instructor or any of the following:\n",
    "\n",
    "* Your academic advisor or Graduate Program Coordinator\n",
    "* Robin Bielling, Director of Human Resources, 352-392-0903, rbielling@eng.ufl.edu\n",
    "* Curtis Taylor, Associate Dean of Student Affairs, 352-392-2177, taylor@eng.ufl.edu\n",
    "* Toshikazu Nishida, Associate Dean of Academic Affairs, 352-392-0943, nishida@eng.ufl.edu\n",
    "\n",
    "**Software Use**\n",
    "\n",
    "All faculty, staff, and students of the University are required and expected to obey the laws and legal agreements governing software use.  Failure to do so can lead to monetary damages and/or criminal penalties for the individual violator.  Because such violations are also against University policies and rules, disciplinary action will be taken as appropriate.  We, the members of the University of Florida community, pledge to uphold ourselves and our peers to the highest standards of honesty and integrity.\n",
    "\n",
    "**Student Privacy**\n",
    "\n",
    "There are federal laws protecting your privacy with regards to grades earned in courses and on individual assignments.  For more information, please see:  https://registrar.ufl.edu/ferpa.html\n",
    "\n"
   ]
  },
  {
   "cell_type": "markdown",
   "metadata": {
    "slideshow": {
     "slide_type": "subslide"
    }
   },
   "source": [
    "## Health and Wellness\n",
    "\n",
    "**U Matter, We Care:**\n",
    "\n",
    "Your well-being is important to the University of Florida.  The U Matter, We Care initiative is committed to creating a culture of care on our campus by encouraging members of our community to look out for one another and to reach out for help if a member of our community is in need.  If you or a friend is in distress, please contact umatter@ufl.edu so that the U Matter, We Care Team can reach out to the student in distress.  A nighttime and weekend crisis counselor is available by phone at 352-392-1575.  The U Matter, We Care Team can help connect students to the many other helping resources available including, but not limited to, Victim Advocates, Housing staff, and the Counseling and Wellness Center.  Please remember that asking for help is a sign of strength.  In case of emergency, call 9-1-1.\n",
    "\n",
    "**Counseling and Wellness Center:** http://www.counseling.ufl.edu/cwc, and  392-1575; and the University Police Department: 392-1111 or 9-1-1 for emergencies. \n",
    "\n",
    "**Sexual Discrimination, Harassment, Assault, or Violence**\n",
    "If you or a friend has been subjected to sexual discrimination, sexual harassment, sexual assault, or violence contact the Office of Title IX Compliance, located at Yon Hall Room 427, 1908 Stadium Road, (352) 273-1094, title-ix@ufl.edu\n",
    "\n",
    "**Sexual Assault Recovery Services (SARS)**, Student Health Care Center, 392-1161. \n",
    "\n",
    "**University Police Department** at 392-1111 (or 9-1-1 for emergencies), or http://www.police.ufl.edu/. \n"
   ]
  },
  {
   "cell_type": "markdown",
   "metadata": {
    "slideshow": {
     "slide_type": "subslide"
    }
   },
   "source": [
    "## Academic Resources\n",
    "\n",
    "**E-learning technical support**, 352-392-4357 (select option 2) or e-mail to Learning-support@ufl.edu. https://lss.at.ufl.edu/help.shtml.\n",
    "\n",
    "**Career Resource Center**, Reitz Union, 392-1601.  Career assistance and counseling. https://www.crc.ufl.edu/.\n",
    "\n",
    "**Library Support**, http://cms.uflib.ufl.edu/ask. Various ways to receive assistance with respect to using the libraries or finding resources.\n",
    "\n",
    "**Teaching Center**, Broward Hall, 392-2010 or 392-6420. General study skills and tutoring. https://teachingcenter.ufl.edu/.\n",
    "\n",
    "**Writing Studio, 302 Tigert Hall**, 846-1138. Help brainstorming, formatting, and writing papers. https://writing.ufl.edu/writing-studio/.\n",
    "\n",
    "**Student Complaints Campus:** https://care.dso.ufl.edu.\n",
    "\n",
    "**On-Line Students Complaints:** http://www.distance.ufl.edu/student-complaint-process."
   ]
  },
  {
   "cell_type": "markdown",
   "metadata": {
    "slideshow": {
     "slide_type": "subslide"
    }
   },
   "source": [
    "**<h1 align=\"center\">Any Questions?</h1>**"
   ]
  },
  {
   "cell_type": "markdown",
   "metadata": {
    "slideshow": {
     "slide_type": "slide"
    }
   },
   "source": [
    "# Jupyter Notebooks\n",
    "\n",
    "The Jupyter notebook is a browser-based graphical interface to the **IPython** shell, and builds on a rich set of dynamic display capabilities.\n",
    "\n",
    "As well as executing Python/IPython statements, the notebook allows the user to include formatted text, static and dynamic visualizations, mathematical equations, and much more. Furthermore, these documents can be saved in a way that lets other people open them and execute the code on their own systems.\n",
    "\n",
    "Though the IPython notebook is viewed and edited through your web browser window, it must connect to a running Python process in order to execute code. This process (known as a \"kernel\") can be started by running one of the following ways: "
   ]
  },
  {
   "cell_type": "markdown",
   "metadata": {
    "slideshow": {
     "slide_type": "subslide"
    }
   },
   "source": [
    "## Python Environment Demonstration\n",
    "\n",
    "**Step 1:** Download and install [Anaconda](https://www.anaconda.com/products/individual) with Python 3.9 (default). If you are installing Anaconda for the first time, this will create a *base* environment with all the Anaconda libraries installed and **ready to run**.\n",
    "\n",
    "**Step 2:** (optional) Create a new environment and install all libraries.\n",
    "\n",
    "> *conda create --name eel3850*\n",
    "\n",
    "> *conda activate eel3850*\n",
    "\n",
    "> *conda install anaconda*\n",
    "\n",
    "**Step 3:** (optional) Customize your environment by installing [Jupyter Notebook extensions](https://jupyter-contrib-nbextensions.readthedocs.io/en/latest/install.html) and [RISE (Jupyter Notebook slideshow extensions)](https://rise.readthedocs.io/en/stable/installation.html).\n",
    "\n",
    "> *conda install -c conda-forge jupyter_contrib_nbextensions*\n",
    "\n",
    "> *conda install -c conda-forge rise*"
   ]
  },
  {
   "cell_type": "markdown",
   "metadata": {
    "slideshow": {
     "slide_type": "subslide"
    }
   },
   "source": [
    "## Launching Jupyter Notebooks\n",
    "\n",
    "Using Conda command line:\n",
    "\n",
    "> *conda activate eel3850*\n",
    "\n",
    "> *jupyter notebook* \n",
    "\n",
    "Or launch it with Anaconda navigator interface."
   ]
  },
  {
   "cell_type": "markdown",
   "metadata": {
    "cell_style": "center",
    "slideshow": {
     "slide_type": "subslide"
    }
   },
   "source": [
    "### How to open Jupyter\n",
    "\n",
    "I will do a quick demonstration on how to launch Jupyter Notebook (and other IDEs) in a specific environment."
   ]
  },
  {
   "cell_type": "markdown",
   "metadata": {
    "cell_style": "center",
    "slideshow": {
     "slide_type": "subslide"
    }
   },
   "source": [
    "### Creating new files & Jupyter Environment\n",
    "\n",
    "I will demonstrate how to create new files with Python 3 kernels and review Jupyter Environment."
   ]
  },
  {
   "cell_type": "markdown",
   "metadata": {
    "slideshow": {
     "slide_type": "subslide"
    }
   },
   "source": [
    "### Getting Extensions (optional)\n",
    "\n",
    "I have installed extra Jupyter functionalities supported by [Nbextensions](https://jupyter-contrib-nbextensions.readthedocs.io/en/latest/install.html). It includes a wide [list of functionalities](https://jupyter-contrib-nbextensions.readthedocs.io/en/latest/nbextensions.html) that you may find useful. \n",
    "\n",
    "I also have the slideshow extension for Jupyter Notebooks called [RISE](https://rise.readthedocs.io/en/stable/installation.html)."
   ]
  },
  {
   "cell_type": "markdown",
   "metadata": {
    "slideshow": {
     "slide_type": "slide"
    }
   },
   "source": [
    "# Introduction to Python"
   ]
  },
  {
   "cell_type": "markdown",
   "metadata": {
    "collapsed": true,
    "slideshow": {
     "slide_type": "slide"
    }
   },
   "source": [
    "## Python is an interpreted language\n",
    "\n",
    "* Programs do not need to be compiled before they are executed\n",
    "\n",
    "* Allows for rapid development and exploration (important for statistics/data science)"
   ]
  },
  {
   "cell_type": "markdown",
   "metadata": {
    "slideshow": {
     "slide_type": "fragment"
    }
   },
   "source": [
    "You can run the Python interpreter directly from the command line by calling ''python'' or ''python3''"
   ]
  },
  {
   "cell_type": "markdown",
   "metadata": {
    "slideshow": {
     "slide_type": "fragment"
    }
   },
   "source": [
    "We will instead use Juypter Notebook with a Python 3 kernel"
   ]
  },
  {
   "cell_type": "markdown",
   "metadata": {
    "collapsed": true,
    "slideshow": {
     "slide_type": "subslide"
    }
   },
   "source": [
    "A Jupyter notebook is divided into cells"
   ]
  },
  {
   "cell_type": "markdown",
   "metadata": {
    "slideshow": {
     "slide_type": "fragment"
    }
   },
   "source": [
    "Cells may be subdivided into an input cell and an output cell"
   ]
  },
  {
   "cell_type": "markdown",
   "metadata": {
    "slideshow": {
     "slide_type": "fragment"
    }
   },
   "source": [
    "Input cells generally either contain code or text \n",
    "* The Markdown language can be used to *format* text\n",
    "* LaTeX can be used to input math\n",
    "\n",
    "Cell type defaults to \"Code\" and can be changed to \"Markdown\" using the Cell->Cell Type menu or a keyboard shortcut (ESC-m in Windows)"
   ]
  },
  {
   "cell_type": "code",
   "execution_count": null,
   "metadata": {
    "slideshow": {
     "slide_type": "fragment"
    }
   },
   "outputs": [],
   "source": []
  },
  {
   "cell_type": "markdown",
   "metadata": {
    "slideshow": {
     "slide_type": "slide"
    }
   },
   "source": [
    "## Heading level 2\n",
    "\n",
    "* Item 1\n",
    "    - Item 2\n",
    "        1. Item 3\n",
    "    \n",
    "$$\\int_0^\\infty e^x~dx$$\n",
    "\n",
    "````python\n",
    "2+2\n",
    "def sum(a,b):\n",
    "    out = a+b\n",
    "    return out\n",
    "````"
   ]
  },
  {
   "cell_type": "markdown",
   "metadata": {
    "slideshow": {
     "slide_type": "subslide"
    }
   },
   "source": [
    "You can use *italic* and **bold** with the \\* and \\** sign, respectively, and mathematical equations with \\\\$ sign, in front and at the end of the equation: $x=1$.\n",
    "\n",
    "* You can also type in LateX using \\\\$ sign. Inline equation: $x^2 + y^2 = \\alpha^2$\n",
    "* Centered equation with double \\\\$ sign: $$x^2 + y^2 = \\alpha^2$$"
   ]
  },
  {
   "cell_type": "markdown",
   "metadata": {
    "slideshow": {
     "slide_type": "subslide"
    }
   },
   "source": [
    "Cells also may contain \"magics\", which are commands to the Jupyter notebook server\n",
    "\n",
    "* For instance, to determine which directory you are in, you can use the \"%pwd\" (print working directory) magic:"
   ]
  },
  {
   "cell_type": "code",
   "execution_count": 2,
   "metadata": {
    "slideshow": {
     "slide_type": "fragment"
    }
   },
   "outputs": [
    {
     "data": {
      "text/plain": [
       "'/Users/shreyasaxena/Dropbox (UFL)/Documents/Labwork/UF/Courses/Data Science for ECE/Fall 2022/Lectures/Lecture01'"
      ]
     },
     "execution_count": 2,
     "metadata": {},
     "output_type": "execute_result"
    }
   ],
   "source": [
    "%pwd"
   ]
  },
  {
   "cell_type": "markdown",
   "metadata": {
    "slideshow": {
     "slide_type": "fragment"
    }
   },
   "source": [
    "You can use the \"%cd\" magic to change your directory:"
   ]
  },
  {
   "cell_type": "code",
   "execution_count": 3,
   "metadata": {
    "slideshow": {
     "slide_type": "fragment"
    }
   },
   "outputs": [
    {
     "name": "stdout",
     "output_type": "stream",
     "text": [
      "/Users/shreyasaxena/Dropbox (UFL)/Documents/Labwork/UF/Courses/Data Science for ECE/Fall 2022/Lectures\n"
     ]
    }
   ],
   "source": [
    "%cd .."
   ]
  },
  {
   "cell_type": "markdown",
   "metadata": {
    "slideshow": {
     "slide_type": "fragment"
    }
   },
   "source": [
    "~ is short your home directory"
   ]
  },
  {
   "cell_type": "markdown",
   "metadata": {
    "slideshow": {
     "slide_type": "slide"
    }
   },
   "source": [
    "### Hello World!\n",
    "\n",
    "To print output in Python, use the print() function. It knows how to output many data types without providing explicit formatting (like printf in C)"
   ]
  },
  {
   "cell_type": "code",
   "execution_count": 4,
   "metadata": {
    "slideshow": {
     "slide_type": "fragment"
    }
   },
   "outputs": [
    {
     "name": "stdout",
     "output_type": "stream",
     "text": [
      "Hello world!\n"
     ]
    }
   ],
   "source": [
    "print('Hello world!')"
   ]
  },
  {
   "cell_type": "code",
   "execution_count": 5,
   "metadata": {
    "slideshow": {
     "slide_type": "fragment"
    }
   },
   "outputs": [
    {
     "name": "stdout",
     "output_type": "stream",
     "text": [
      "Hello World!\n"
     ]
    }
   ],
   "source": [
    "print(\"Hello World!\")"
   ]
  },
  {
   "cell_type": "code",
   "execution_count": 6,
   "metadata": {
    "slideshow": {
     "slide_type": "fragment"
    }
   },
   "outputs": [
    {
     "name": "stdout",
     "output_type": "stream",
     "text": [
      "3859\n"
     ]
    }
   ],
   "source": [
    "print(3859)"
   ]
  },
  {
   "cell_type": "markdown",
   "metadata": {
    "slideshow": {
     "slide_type": "subslide"
    }
   },
   "source": [
    "* Code cells may contain multiple Python statements. \n",
    "* All statements in a cell will be run sequentially when the cell is run\n",
    "* Cells may be run using the \"play\" button, via the Cell-> Run Cells button or by using a keyboard command (usually shift-Enter)"
   ]
  },
  {
   "cell_type": "code",
   "execution_count": 7,
   "metadata": {
    "slideshow": {
     "slide_type": "fragment"
    }
   },
   "outputs": [
    {
     "name": "stdout",
     "output_type": "stream",
     "text": [
      "Hello\n",
      "World!\n"
     ]
    }
   ],
   "source": [
    "print('Hello')\n",
    "print('World!')"
   ]
  },
  {
   "cell_type": "code",
   "execution_count": 8,
   "metadata": {
    "slideshow": {
     "slide_type": "fragment"
    }
   },
   "outputs": [
    {
     "name": "stdout",
     "output_type": "stream",
     "text": [
      "Hello!\n",
      "44\n"
     ]
    }
   ],
   "source": [
    "print('Hello!')\n",
    "print(44)"
   ]
  },
  {
   "cell_type": "code",
   "execution_count": 9,
   "metadata": {},
   "outputs": [
    {
     "name": "stdout",
     "output_type": "stream",
     "text": [
      "Hello!\n"
     ]
    },
    {
     "data": {
      "text/plain": [
       "77"
      ]
     },
     "execution_count": 9,
     "metadata": {},
     "output_type": "execute_result"
    }
   ],
   "source": [
    "print('Hello!')\n",
    "34+43"
   ]
  },
  {
   "cell_type": "markdown",
   "metadata": {
    "slideshow": {
     "slide_type": "subslide"
    }
   },
   "source": [
    "Anything that follows a # (hash) symbol is a comment:"
   ]
  },
  {
   "cell_type": "code",
   "execution_count": 10,
   "metadata": {
    "slideshow": {
     "slide_type": "fragment"
    }
   },
   "outputs": [
    {
     "name": "stdout",
     "output_type": "stream",
     "text": [
      "Hello world\n"
     ]
    }
   ],
   "source": [
    "# This piece of code prints Hello world\n",
    "print('Hello world')"
   ]
  },
  {
   "cell_type": "markdown",
   "metadata": {
    "slideshow": {
     "slide_type": "subslide"
    }
   },
   "source": [
    "There is not really a multi-line comment in Python (like /* */ in C). One way to make a multiline comment is to just make a multi-line string that is not assigned to any variable.  Multi-line strings are delimited by triple-ticks ('''):"
   ]
  },
  {
   "cell_type": "markdown",
   "metadata": {
    "slideshow": {
     "slide_type": "fragment"
    }
   },
   "source": [
    "```This is a \n",
    "multi-line\n",
    "string```"
   ]
  },
  {
   "cell_type": "markdown",
   "metadata": {
    "slideshow": {
     "slide_type": "fragment"
    }
   },
   "source": [
    "When we make functions, a multi-line string right after the function definition serves as the docstring (documentation string) for that function."
   ]
  },
  {
   "cell_type": "code",
   "execution_count": 11,
   "metadata": {
    "slideshow": {
     "slide_type": "subslide"
    }
   },
   "outputs": [],
   "source": [
    "def myfun(x):\n",
    "    '''This describes the function\n",
    "    while taking two lines!'''\n",
    "    return x"
   ]
  },
  {
   "cell_type": "code",
   "execution_count": 12,
   "metadata": {
    "slideshow": {
     "slide_type": "fragment"
    }
   },
   "outputs": [
    {
     "name": "stdout",
     "output_type": "stream",
     "text": [
      "Help on function myfun in module __main__:\n",
      "\n",
      "myfun(x)\n",
      "    This describes the function\n",
      "    while taking two lines!\n",
      "\n"
     ]
    }
   ],
   "source": [
    "help(myfun)"
   ]
  },
  {
   "cell_type": "code",
   "execution_count": 13,
   "metadata": {
    "slideshow": {
     "slide_type": "fragment"
    }
   },
   "outputs": [],
   "source": [
    "myfun?"
   ]
  },
  {
   "cell_type": "markdown",
   "metadata": {
    "slideshow": {
     "slide_type": "slide"
    }
   },
   "source": [
    "## Python is a dynamically typed language"
   ]
  },
  {
   "cell_type": "markdown",
   "metadata": {
    "slideshow": {
     "slide_type": "fragment"
    }
   },
   "source": [
    "Variable types are determined when they are assigned values"
   ]
  },
  {
   "cell_type": "code",
   "execution_count": 14,
   "metadata": {
    "slideshow": {
     "slide_type": "fragment"
    }
   },
   "outputs": [],
   "source": [
    "x=10"
   ]
  },
  {
   "cell_type": "code",
   "execution_count": 15,
   "metadata": {
    "slideshow": {
     "slide_type": "fragment"
    }
   },
   "outputs": [
    {
     "name": "stdout",
     "output_type": "stream",
     "text": [
      "10\n"
     ]
    }
   ],
   "source": [
    "print(x)"
   ]
  },
  {
   "cell_type": "code",
   "execution_count": 16,
   "metadata": {
    "slideshow": {
     "slide_type": "fragment"
    }
   },
   "outputs": [
    {
     "data": {
      "text/plain": [
       "int"
      ]
     },
     "execution_count": 16,
     "metadata": {},
     "output_type": "execute_result"
    }
   ],
   "source": [
    "type(x)"
   ]
  },
  {
   "cell_type": "code",
   "execution_count": 17,
   "metadata": {
    "slideshow": {
     "slide_type": "fragment"
    }
   },
   "outputs": [],
   "source": [
    "x=9.0"
   ]
  },
  {
   "cell_type": "code",
   "execution_count": 18,
   "metadata": {
    "slideshow": {
     "slide_type": "fragment"
    }
   },
   "outputs": [
    {
     "name": "stdout",
     "output_type": "stream",
     "text": [
      "9.0\n"
     ]
    }
   ],
   "source": [
    "print(x)"
   ]
  },
  {
   "cell_type": "code",
   "execution_count": 19,
   "metadata": {
    "slideshow": {
     "slide_type": "fragment"
    }
   },
   "outputs": [
    {
     "name": "stdout",
     "output_type": "stream",
     "text": [
      "Hello world!\n"
     ]
    }
   ],
   "source": [
    "x='Hello world!'\n",
    "print(x)"
   ]
  },
  {
   "cell_type": "code",
   "execution_count": 20,
   "metadata": {
    "slideshow": {
     "slide_type": "fragment"
    }
   },
   "outputs": [
    {
     "data": {
      "text/plain": [
       "str"
      ]
     },
     "execution_count": 20,
     "metadata": {},
     "output_type": "execute_result"
    }
   ],
   "source": [
    "type(x)"
   ]
  },
  {
   "cell_type": "markdown",
   "metadata": {
    "slideshow": {
     "slide_type": "subslide"
    }
   },
   "source": [
    "Python will usually do the *right thing* based on the type of the variable"
   ]
  },
  {
   "cell_type": "code",
   "execution_count": 21,
   "metadata": {
    "slideshow": {
     "slide_type": "fragment"
    }
   },
   "outputs": [
    {
     "name": "stdout",
     "output_type": "stream",
     "text": [
      "7\n"
     ]
    }
   ],
   "source": [
    "a=3\n",
    "b=4\n",
    "print(a+b)"
   ]
  },
  {
   "cell_type": "code",
   "execution_count": 22,
   "metadata": {
    "slideshow": {
     "slide_type": "fragment"
    }
   },
   "outputs": [
    {
     "name": "stdout",
     "output_type": "stream",
     "text": [
      "Hello World!\n"
     ]
    }
   ],
   "source": [
    "a='Hello '\n",
    "b='World!'\n",
    "print(a+b)"
   ]
  },
  {
   "cell_type": "markdown",
   "metadata": {
    "slideshow": {
     "slide_type": "subslide"
    }
   },
   "source": [
    "<font color=red>Just be careful of the implications of this:</font>"
   ]
  },
  {
   "cell_type": "code",
   "execution_count": 23,
   "metadata": {
    "slideshow": {
     "slide_type": "fragment"
    }
   },
   "outputs": [
    {
     "name": "stdout",
     "output_type": "stream",
     "text": [
      "34\n"
     ]
    }
   ],
   "source": [
    "a='3'\n",
    "b='4'\n",
    "print(a+b)"
   ]
  },
  {
   "cell_type": "markdown",
   "metadata": {
    "slideshow": {
     "slide_type": "subslide"
    }
   },
   "source": [
    "You can add color to your text by using the code ```<font color=blue|red|green|pink|yellow>Text</font>```"
   ]
  },
  {
   "cell_type": "markdown",
   "metadata": {
    "slideshow": {
     "slide_type": "fragment"
    }
   },
   "source": [
    "You can also add hyperlinks to your text like this, e.g. [Canvas page](https://ufl.instructure.com/courses/447946)"
   ]
  },
  {
   "cell_type": "markdown",
   "metadata": {
    "slideshow": {
     "slide_type": "fragment"
    }
   },
   "source": [
    "Sometimes I will use *Bootstrap alerts* to emphasize new concepts or convey new information:\n",
    "\n",
    "<div class=\"alert alert-info\" role=\"alert\">\n",
    "    <b>Bootstrap alerts</b>\n",
    "    \n",
    "  All of these markdown rules can also be used when you are editing READ ME files on GitHub!\n",
    "</div>\n",
    "\n",
    "<div class=\"alert alert-info\" role=\"alert\">\n",
    "  All of these markdown rules can also be used when you are editing READ ME files on GitHub!\n",
    "</div>"
   ]
  },
  {
   "cell_type": "markdown",
   "metadata": {
    "slideshow": {
     "slide_type": "slide"
    }
   },
   "source": [
    "## Indentation conveys meaning in Python"
   ]
  },
  {
   "cell_type": "markdown",
   "metadata": {
    "slideshow": {
     "slide_type": "fragment"
    }
   },
   "source": [
    "Use indentation to indicate code blocks that belong together"
   ]
  },
  {
   "cell_type": "code",
   "execution_count": 24,
   "metadata": {
    "slideshow": {
     "slide_type": "fragment"
    }
   },
   "outputs": [
    {
     "name": "stdout",
     "output_type": "stream",
     "text": [
      "yay!\n"
     ]
    }
   ],
   "source": [
    "a=2\n",
    "if a==2:\n",
    "    print('yay!')\n",
    "else:\n",
    "    print('nay!')"
   ]
  },
  {
   "cell_type": "code",
   "execution_count": 25,
   "metadata": {
    "slideshow": {
     "slide_type": "fragment"
    }
   },
   "outputs": [
    {
     "name": "stdout",
     "output_type": "stream",
     "text": [
      "0\n",
      "2\n",
      "4\n",
      "6\n",
      "8\n"
     ]
    }
   ],
   "source": [
    "for x in range(10):\n",
    "    if x%2==0:\n",
    "        print(x)"
   ]
  },
  {
   "cell_type": "code",
   "execution_count": 26,
   "metadata": {},
   "outputs": [
    {
     "name": "stdout",
     "output_type": "stream",
     "text": [
      "range(0, 10)\n"
     ]
    }
   ],
   "source": [
    "print(range(10))"
   ]
  },
  {
   "cell_type": "code",
   "execution_count": 27,
   "metadata": {
    "slideshow": {
     "slide_type": "subslide"
    }
   },
   "outputs": [
    {
     "data": {
      "text/plain": [
       "[0, 1, 2, 3, 4, 5, 6, 7, 8, 9]"
      ]
     },
     "execution_count": 27,
     "metadata": {},
     "output_type": "execute_result"
    }
   ],
   "source": [
    "list(range(10))"
   ]
  },
  {
   "cell_type": "markdown",
   "metadata": {
    "slideshow": {
     "slide_type": "fragment"
    }
   },
   "source": [
    "Ranges in Python start by default at 0 and are exclusive of the end point (I.e., if started at 0, the end point is also the length of the sequence)"
   ]
  },
  {
   "cell_type": "code",
   "execution_count": 28,
   "metadata": {
    "slideshow": {
     "slide_type": "fragment"
    }
   },
   "outputs": [
    {
     "data": {
      "text/plain": [
       "[1, 3, 5, 7, 9]"
      ]
     },
     "execution_count": 28,
     "metadata": {},
     "output_type": "execute_result"
    }
   ],
   "source": [
    "list(range(1,10,2))"
   ]
  },
  {
   "cell_type": "markdown",
   "metadata": {
    "slideshow": {
     "slide_type": "slide"
    }
   },
   "source": [
    "## Main Data Types\n",
    "\n",
    "The main data types in Python are:\n",
    "* numbers (int, float, complex)\n",
    "* string\n",
    "* list\n",
    "* tuple\n",
    "* dictionary"
   ]
  },
  {
   "cell_type": "markdown",
   "metadata": {
    "slideshow": {
     "slide_type": "subslide"
    }
   },
   "source": [
    "All data types are objects. That means they have methods associated with them"
   ]
  },
  {
   "cell_type": "code",
   "execution_count": 29,
   "metadata": {
    "slideshow": {
     "slide_type": "fragment"
    }
   },
   "outputs": [],
   "source": [
    "x=7"
   ]
  },
  {
   "cell_type": "code",
   "execution_count": 30,
   "metadata": {
    "slideshow": {
     "slide_type": "fragment"
    }
   },
   "outputs": [
    {
     "name": "stdout",
     "output_type": "stream",
     "text": [
      "Help on int object:\n",
      "\n",
      "class int(object)\n",
      " |  int([x]) -> integer\n",
      " |  int(x, base=10) -> integer\n",
      " |  \n",
      " |  Convert a number or string to an integer, or return 0 if no arguments\n",
      " |  are given.  If x is a number, return x.__int__().  For floating point\n",
      " |  numbers, this truncates towards zero.\n",
      " |  \n",
      " |  If x is not a number or if base is given, then x must be a string,\n",
      " |  bytes, or bytearray instance representing an integer literal in the\n",
      " |  given base.  The literal can be preceded by '+' or '-' and be surrounded\n",
      " |  by whitespace.  The base defaults to 10.  Valid bases are 0 and 2-36.\n",
      " |  Base 0 means to interpret the base from the string as an integer literal.\n",
      " |  >>> int('0b100', base=0)\n",
      " |  4\n",
      " |  \n",
      " |  Built-in subclasses:\n",
      " |      bool\n",
      " |  \n",
      " |  Methods defined here:\n",
      " |  \n",
      " |  __abs__(self, /)\n",
      " |      abs(self)\n",
      " |  \n",
      " |  __add__(self, value, /)\n",
      " |      Return self+value.\n",
      " |  \n",
      " |  __and__(self, value, /)\n",
      " |      Return self&value.\n",
      " |  \n",
      " |  __bool__(self, /)\n",
      " |      self != 0\n",
      " |  \n",
      " |  __ceil__(...)\n",
      " |      Ceiling of an Integral returns itself.\n",
      " |  \n",
      " |  __divmod__(self, value, /)\n",
      " |      Return divmod(self, value).\n",
      " |  \n",
      " |  __eq__(self, value, /)\n",
      " |      Return self==value.\n",
      " |  \n",
      " |  __float__(self, /)\n",
      " |      float(self)\n",
      " |  \n",
      " |  __floor__(...)\n",
      " |      Flooring an Integral returns itself.\n",
      " |  \n",
      " |  __floordiv__(self, value, /)\n",
      " |      Return self//value.\n",
      " |  \n",
      " |  __format__(self, format_spec, /)\n",
      " |      Default object formatter.\n",
      " |  \n",
      " |  __ge__(self, value, /)\n",
      " |      Return self>=value.\n",
      " |  \n",
      " |  __getattribute__(self, name, /)\n",
      " |      Return getattr(self, name).\n",
      " |  \n",
      " |  __getnewargs__(self, /)\n",
      " |  \n",
      " |  __gt__(self, value, /)\n",
      " |      Return self>value.\n",
      " |  \n",
      " |  __hash__(self, /)\n",
      " |      Return hash(self).\n",
      " |  \n",
      " |  __index__(self, /)\n",
      " |      Return self converted to an integer, if self is suitable for use as an index into a list.\n",
      " |  \n",
      " |  __int__(self, /)\n",
      " |      int(self)\n",
      " |  \n",
      " |  __invert__(self, /)\n",
      " |      ~self\n",
      " |  \n",
      " |  __le__(self, value, /)\n",
      " |      Return self<=value.\n",
      " |  \n",
      " |  __lshift__(self, value, /)\n",
      " |      Return self<<value.\n",
      " |  \n",
      " |  __lt__(self, value, /)\n",
      " |      Return self<value.\n",
      " |  \n",
      " |  __mod__(self, value, /)\n",
      " |      Return self%value.\n",
      " |  \n",
      " |  __mul__(self, value, /)\n",
      " |      Return self*value.\n",
      " |  \n",
      " |  __ne__(self, value, /)\n",
      " |      Return self!=value.\n",
      " |  \n",
      " |  __neg__(self, /)\n",
      " |      -self\n",
      " |  \n",
      " |  __or__(self, value, /)\n",
      " |      Return self|value.\n",
      " |  \n",
      " |  __pos__(self, /)\n",
      " |      +self\n",
      " |  \n",
      " |  __pow__(self, value, mod=None, /)\n",
      " |      Return pow(self, value, mod).\n",
      " |  \n",
      " |  __radd__(self, value, /)\n",
      " |      Return value+self.\n",
      " |  \n",
      " |  __rand__(self, value, /)\n",
      " |      Return value&self.\n",
      " |  \n",
      " |  __rdivmod__(self, value, /)\n",
      " |      Return divmod(value, self).\n",
      " |  \n",
      " |  __repr__(self, /)\n",
      " |      Return repr(self).\n",
      " |  \n",
      " |  __rfloordiv__(self, value, /)\n",
      " |      Return value//self.\n",
      " |  \n",
      " |  __rlshift__(self, value, /)\n",
      " |      Return value<<self.\n",
      " |  \n",
      " |  __rmod__(self, value, /)\n",
      " |      Return value%self.\n",
      " |  \n",
      " |  __rmul__(self, value, /)\n",
      " |      Return value*self.\n",
      " |  \n",
      " |  __ror__(self, value, /)\n",
      " |      Return value|self.\n",
      " |  \n",
      " |  __round__(...)\n",
      " |      Rounding an Integral returns itself.\n",
      " |      Rounding with an ndigits argument also returns an integer.\n",
      " |  \n",
      " |  __rpow__(self, value, mod=None, /)\n",
      " |      Return pow(value, self, mod).\n",
      " |  \n",
      " |  __rrshift__(self, value, /)\n",
      " |      Return value>>self.\n",
      " |  \n",
      " |  __rshift__(self, value, /)\n",
      " |      Return self>>value.\n",
      " |  \n",
      " |  __rsub__(self, value, /)\n",
      " |      Return value-self.\n",
      " |  \n",
      " |  __rtruediv__(self, value, /)\n",
      " |      Return value/self.\n",
      " |  \n",
      " |  __rxor__(self, value, /)\n",
      " |      Return value^self.\n",
      " |  \n",
      " |  __sizeof__(self, /)\n",
      " |      Returns size in memory, in bytes.\n",
      " |  \n",
      " |  __sub__(self, value, /)\n",
      " |      Return self-value.\n",
      " |  \n",
      " |  __truediv__(self, value, /)\n",
      " |      Return self/value.\n",
      " |  \n",
      " |  __trunc__(...)\n",
      " |      Truncating an Integral returns itself.\n",
      " |  \n",
      " |  __xor__(self, value, /)\n",
      " |      Return self^value.\n",
      " |  \n",
      " |  as_integer_ratio(self, /)\n",
      " |      Return integer ratio.\n",
      " |      \n",
      " |      Return a pair of integers, whose ratio is exactly equal to the original int\n",
      " |      and with a positive denominator.\n",
      " |      \n",
      " |      >>> (10).as_integer_ratio()\n",
      " |      (10, 1)\n",
      " |      >>> (-10).as_integer_ratio()\n",
      " |      (-10, 1)\n",
      " |      >>> (0).as_integer_ratio()\n",
      " |      (0, 1)\n",
      " |  \n",
      " |  bit_length(self, /)\n",
      " |      Number of bits necessary to represent self in binary.\n",
      " |      \n",
      " |      >>> bin(37)\n",
      " |      '0b100101'\n",
      " |      >>> (37).bit_length()\n",
      " |      6\n",
      " |  \n",
      " |  conjugate(...)\n",
      " |      Returns self, the complex conjugate of any int.\n",
      " |  \n",
      " |  to_bytes(self, /, length, byteorder, *, signed=False)\n",
      " |      Return an array of bytes representing an integer.\n",
      " |      \n",
      " |      length\n",
      " |        Length of bytes object to use.  An OverflowError is raised if the\n",
      " |        integer is not representable with the given number of bytes.\n",
      " |      byteorder\n",
      " |        The byte order used to represent the integer.  If byteorder is 'big',\n",
      " |        the most significant byte is at the beginning of the byte array.  If\n",
      " |        byteorder is 'little', the most significant byte is at the end of the\n",
      " |        byte array.  To request the native byte order of the host system, use\n",
      " |        `sys.byteorder' as the byte order value.\n",
      " |      signed\n",
      " |        Determines whether two's complement is used to represent the integer.\n",
      " |        If signed is False and a negative integer is given, an OverflowError\n",
      " |        is raised.\n",
      " |  \n",
      " |  ----------------------------------------------------------------------\n",
      " |  Class methods defined here:\n",
      " |  \n",
      " |  from_bytes(bytes, byteorder, *, signed=False) from builtins.type\n",
      " |      Return the integer represented by the given array of bytes.\n",
      " |      \n",
      " |      bytes\n",
      " |        Holds the array of bytes to convert.  The argument must either\n",
      " |        support the buffer protocol or be an iterable object producing bytes.\n",
      " |        Bytes and bytearray are examples of built-in objects that support the\n",
      " |        buffer protocol.\n",
      " |      byteorder\n",
      " |        The byte order used to represent the integer.  If byteorder is 'big',\n",
      " |        the most significant byte is at the beginning of the byte array.  If\n",
      " |        byteorder is 'little', the most significant byte is at the end of the\n",
      " |        byte array.  To request the native byte order of the host system, use\n",
      " |        `sys.byteorder' as the byte order value.\n",
      " |      signed\n",
      " |        Indicates whether two's complement is used to represent the integer.\n",
      " |  \n",
      " |  ----------------------------------------------------------------------\n",
      " |  Static methods defined here:\n",
      " |  \n",
      " |  __new__(*args, **kwargs) from builtins.type\n",
      " |      Create and return a new object.  See help(type) for accurate signature.\n",
      " |  \n",
      " |  ----------------------------------------------------------------------\n",
      " |  Data descriptors defined here:\n",
      " |  \n",
      " |  denominator\n",
      " |      the denominator of a rational number in lowest terms\n",
      " |  \n",
      " |  imag\n",
      " |      the imaginary part of a complex number\n",
      " |  \n",
      " |  numerator\n",
      " |      the numerator of a rational number in lowest terms\n",
      " |  \n",
      " |  real\n",
      " |      the real part of a complex number\n",
      "\n"
     ]
    }
   ],
   "source": [
    "help(x)"
   ]
  },
  {
   "cell_type": "markdown",
   "metadata": {
    "slideshow": {
     "slide_type": "subslide"
    }
   },
   "source": [
    "Methods with __ __ are designated as private, but you can still call them:"
   ]
  },
  {
   "cell_type": "code",
   "execution_count": 31,
   "metadata": {
    "slideshow": {
     "slide_type": "fragment"
    }
   },
   "outputs": [
    {
     "data": {
      "text/plain": [
       "1"
      ]
     },
     "execution_count": 31,
     "metadata": {},
     "output_type": "execute_result"
    }
   ],
   "source": [
    "x.__mod__(3)"
   ]
  },
  {
   "cell_type": "markdown",
   "metadata": {
    "slideshow": {
     "slide_type": "fragment"
    }
   },
   "source": [
    "Usually, you don't call the private methods because there are other ways of achieving the same thing that are easier to interpret:"
   ]
  },
  {
   "cell_type": "code",
   "execution_count": 32,
   "metadata": {
    "slideshow": {
     "slide_type": "fragment"
    }
   },
   "outputs": [
    {
     "data": {
      "text/plain": [
       "1"
      ]
     },
     "execution_count": 32,
     "metadata": {},
     "output_type": "execute_result"
    }
   ],
   "source": [
    "x%3"
   ]
  },
  {
   "cell_type": "code",
   "execution_count": 33,
   "metadata": {
    "slideshow": {
     "slide_type": "fragment"
    }
   },
   "outputs": [
    {
     "data": {
      "text/plain": [
       "5"
      ]
     },
     "execution_count": 33,
     "metadata": {},
     "output_type": "execute_result"
    }
   ],
   "source": [
    "y='Hello'\n",
    "y.__len__()"
   ]
  },
  {
   "cell_type": "code",
   "execution_count": 34,
   "metadata": {
    "slideshow": {
     "slide_type": "fragment"
    }
   },
   "outputs": [
    {
     "data": {
      "text/plain": [
       "5"
      ]
     },
     "execution_count": 34,
     "metadata": {},
     "output_type": "execute_result"
    }
   ],
   "source": [
    "len(y)"
   ]
  },
  {
   "cell_type": "markdown",
   "metadata": {
    "slideshow": {
     "slide_type": "subslide"
    }
   },
   "source": [
    "### Mutability \n",
    "* Some data types in Python are **immutable**, i.e. they cannot be changed. These include numbers, strings, and tuples\n",
    "* Lists and dictionaries are **mutable**, they can be changed"
   ]
  },
  {
   "cell_type": "code",
   "execution_count": 35,
   "metadata": {
    "slideshow": {
     "slide_type": "fragment"
    }
   },
   "outputs": [],
   "source": [
    "a=(2,3)"
   ]
  },
  {
   "cell_type": "code",
   "execution_count": 36,
   "metadata": {
    "slideshow": {
     "slide_type": "fragment"
    }
   },
   "outputs": [
    {
     "data": {
      "text/plain": [
       "tuple"
      ]
     },
     "execution_count": 36,
     "metadata": {},
     "output_type": "execute_result"
    }
   ],
   "source": [
    "type(a)"
   ]
  },
  {
   "cell_type": "code",
   "execution_count": 37,
   "metadata": {
    "slideshow": {
     "slide_type": "fragment"
    }
   },
   "outputs": [
    {
     "name": "stdout",
     "output_type": "stream",
     "text": [
      "(2, 3, 4)\n"
     ]
    }
   ],
   "source": [
    "a=a+(4,)\n",
    "print(a)"
   ]
  },
  {
   "cell_type": "markdown",
   "metadata": {
    "slideshow": {
     "slide_type": "subslide"
    }
   },
   "source": [
    "How did a change if it is immutable? \n",
    "* $a$ did not change, a new tuple was created that added 4 to the previous tuple, and $a$ was updated to point to the new tuple. How can we tell?"
   ]
  },
  {
   "cell_type": "code",
   "execution_count": 38,
   "metadata": {
    "slideshow": {
     "slide_type": "fragment"
    }
   },
   "outputs": [
    {
     "data": {
      "text/plain": [
       "True"
      ]
     },
     "execution_count": 38,
     "metadata": {},
     "output_type": "execute_result"
    }
   ],
   "source": [
    "a=(2,3)\n",
    "b=a\n",
    "a is b"
   ]
  },
  {
   "cell_type": "code",
   "execution_count": 39,
   "metadata": {},
   "outputs": [
    {
     "name": "stdout",
     "output_type": "stream",
     "text": [
      "140446403469888 140446403469888\n"
     ]
    }
   ],
   "source": [
    "print(id(a),id(b))"
   ]
  },
  {
   "cell_type": "code",
   "execution_count": 40,
   "metadata": {
    "slideshow": {
     "slide_type": "fragment"
    }
   },
   "outputs": [
    {
     "name": "stdout",
     "output_type": "stream",
     "text": [
      "(2, 3, 4)\n"
     ]
    }
   ],
   "source": [
    "# a = a+(4,)\n",
    "\n",
    "a += (4,)\n",
    "print(a)"
   ]
  },
  {
   "cell_type": "code",
   "execution_count": 41,
   "metadata": {},
   "outputs": [
    {
     "data": {
      "text/plain": [
       "False"
      ]
     },
     "execution_count": 41,
     "metadata": {},
     "output_type": "execute_result"
    }
   ],
   "source": [
    "a is b"
   ]
  },
  {
   "cell_type": "code",
   "execution_count": 42,
   "metadata": {
    "slideshow": {
     "slide_type": "fragment"
    }
   },
   "outputs": [
    {
     "name": "stdout",
     "output_type": "stream",
     "text": [
      "140446102470976 140446403469888\n"
     ]
    }
   ],
   "source": [
    "print(id(a),id(b))"
   ]
  },
  {
   "cell_type": "markdown",
   "metadata": {
    "slideshow": {
     "slide_type": "subslide"
    }
   },
   "source": [
    "Lists, on the other hand, are mutable:"
   ]
  },
  {
   "cell_type": "code",
   "execution_count": 43,
   "metadata": {
    "slideshow": {
     "slide_type": "fragment"
    }
   },
   "outputs": [
    {
     "data": {
      "text/plain": [
       "True"
      ]
     },
     "execution_count": 43,
     "metadata": {},
     "output_type": "execute_result"
    }
   ],
   "source": [
    "a = [2,3] # list\n",
    "b = a\n",
    "a is b"
   ]
  },
  {
   "cell_type": "code",
   "execution_count": 44,
   "metadata": {
    "slideshow": {
     "slide_type": "fragment"
    }
   },
   "outputs": [
    {
     "name": "stdout",
     "output_type": "stream",
     "text": [
      "140446102497664 140446102497664\n"
     ]
    }
   ],
   "source": [
    "print(id(a),id(b))"
   ]
  },
  {
   "cell_type": "code",
   "execution_count": 45,
   "metadata": {},
   "outputs": [],
   "source": [
    "a.append(4)"
   ]
  },
  {
   "cell_type": "code",
   "execution_count": 46,
   "metadata": {},
   "outputs": [
    {
     "name": "stdout",
     "output_type": "stream",
     "text": [
      "[2, 3, 4] [2, 3, 4]\n"
     ]
    }
   ],
   "source": [
    "print(a,b)"
   ]
  },
  {
   "cell_type": "code",
   "execution_count": 47,
   "metadata": {
    "slideshow": {
     "slide_type": "fragment"
    }
   },
   "outputs": [
    {
     "name": "stdout",
     "output_type": "stream",
     "text": [
      "140446102497664 140446102497664\n"
     ]
    }
   ],
   "source": [
    "print(id(a),id(b))"
   ]
  },
  {
   "cell_type": "markdown",
   "metadata": {
    "slideshow": {
     "slide_type": "subslide"
    }
   },
   "source": [
    "In order to leave the original list unchanged, we need to *copy* it. This will create a new list in memory:"
   ]
  },
  {
   "cell_type": "code",
   "execution_count": 48,
   "metadata": {
    "slideshow": {
     "slide_type": "fragment"
    }
   },
   "outputs": [],
   "source": [
    "a=[2,3]\n",
    "b=a\n",
    "c=a.copy()"
   ]
  },
  {
   "cell_type": "code",
   "execution_count": 49,
   "metadata": {},
   "outputs": [],
   "source": [
    "a+=[(5,2)]"
   ]
  },
  {
   "cell_type": "code",
   "execution_count": 50,
   "metadata": {},
   "outputs": [
    {
     "name": "stdout",
     "output_type": "stream",
     "text": [
      "[2, 3, (5, 2)] [2, 3, (5, 2)] [2, 3]\n"
     ]
    }
   ],
   "source": [
    "print(a,b,c)"
   ]
  },
  {
   "cell_type": "markdown",
   "metadata": {
    "slideshow": {
     "slide_type": "subslide"
    }
   },
   "source": [
    "You can also append to lists with +:"
   ]
  },
  {
   "cell_type": "code",
   "execution_count": 51,
   "metadata": {
    "slideshow": {
     "slide_type": "fragment"
    }
   },
   "outputs": [],
   "source": [
    "a+=['String1','String2']"
   ]
  },
  {
   "cell_type": "code",
   "execution_count": 52,
   "metadata": {},
   "outputs": [
    {
     "data": {
      "text/plain": [
       "[2, 3, (5, 2), 'String1', 'String2']"
      ]
     },
     "execution_count": 52,
     "metadata": {},
     "output_type": "execute_result"
    }
   ],
   "source": [
    "a"
   ]
  },
  {
   "cell_type": "markdown",
   "metadata": {
    "slideshow": {
     "slide_type": "fragment"
    }
   },
   "source": [
    "Lists and tuples may contain any other objects, including other lists and tuples:"
   ]
  },
  {
   "cell_type": "code",
   "execution_count": 53,
   "metadata": {
    "slideshow": {
     "slide_type": "fragment"
    }
   },
   "outputs": [
    {
     "data": {
      "text/plain": [
       "'String1'"
      ]
     },
     "execution_count": 53,
     "metadata": {},
     "output_type": "execute_result"
    }
   ],
   "source": [
    "a[3]"
   ]
  },
  {
   "cell_type": "markdown",
   "metadata": {
    "slideshow": {
     "slide_type": "subslide"
    }
   },
   "source": [
    "Note that tuples and lists are ordered collections, and we can access their members directly:"
   ]
  },
  {
   "cell_type": "code",
   "execution_count": 54,
   "metadata": {
    "slideshow": {
     "slide_type": "fragment"
    }
   },
   "outputs": [
    {
     "data": {
      "text/plain": [
       "[2, 3]"
      ]
     },
     "execution_count": 54,
     "metadata": {},
     "output_type": "execute_result"
    }
   ],
   "source": [
    "a[0:2]"
   ]
  },
  {
   "cell_type": "code",
   "execution_count": 55,
   "metadata": {},
   "outputs": [
    {
     "data": {
      "text/plain": [
       "[2, 3]"
      ]
     },
     "execution_count": 55,
     "metadata": {},
     "output_type": "execute_result"
    }
   ],
   "source": [
    "a[:2]"
   ]
  },
  {
   "cell_type": "code",
   "execution_count": 56,
   "metadata": {
    "slideshow": {
     "slide_type": "fragment"
    }
   },
   "outputs": [
    {
     "data": {
      "text/plain": [
       "['String1', 'String2']"
      ]
     },
     "execution_count": 56,
     "metadata": {},
     "output_type": "execute_result"
    }
   ],
   "source": [
    "a[3:]"
   ]
  },
  {
   "cell_type": "markdown",
   "metadata": {
    "slideshow": {
     "slide_type": "fragment"
    }
   },
   "source": [
    "Negative indexes start from the end of the list, with -1 denoting the last member in the list:"
   ]
  },
  {
   "cell_type": "code",
   "execution_count": 57,
   "metadata": {
    "slideshow": {
     "slide_type": "fragment"
    }
   },
   "outputs": [
    {
     "data": {
      "text/plain": [
       "'String2'"
      ]
     },
     "execution_count": 57,
     "metadata": {},
     "output_type": "execute_result"
    }
   ],
   "source": [
    "a[-1]"
   ]
  },
  {
   "cell_type": "code",
   "execution_count": 58,
   "metadata": {
    "slideshow": {
     "slide_type": "fragment"
    }
   },
   "outputs": [
    {
     "data": {
      "text/plain": [
       "[3, (5, 2), 'String1']"
      ]
     },
     "execution_count": 58,
     "metadata": {},
     "output_type": "execute_result"
    }
   ],
   "source": [
    "a[-4:-1]"
   ]
  },
  {
   "cell_type": "markdown",
   "metadata": {
    "slideshow": {
     "slide_type": "slide"
    }
   },
   "source": [
    "## Modules and Libraries"
   ]
  },
  {
   "cell_type": "markdown",
   "metadata": {
    "slideshow": {
     "slide_type": "fragment"
    }
   },
   "source": [
    "Many of the tools we will use in the class are not directly part of Python."
   ]
  },
  {
   "cell_type": "code",
   "execution_count": 59,
   "metadata": {
    "slideshow": {
     "slide_type": "fragment"
    }
   },
   "outputs": [
    {
     "ename": "NameError",
     "evalue": "name 'sin' is not defined",
     "output_type": "error",
     "traceback": [
      "\u001b[0;31m---------------------------------------------------------------------------\u001b[0m",
      "\u001b[0;31mNameError\u001b[0m                                 Traceback (most recent call last)",
      "Input \u001b[0;32mIn [59]\u001b[0m, in \u001b[0;36m<cell line: 1>\u001b[0;34m()\u001b[0m\n\u001b[0;32m----> 1\u001b[0m \u001b[43msin\u001b[49m(\u001b[38;5;241m3.14\u001b[39m)\n",
      "\u001b[0;31mNameError\u001b[0m: name 'sin' is not defined"
     ]
    }
   ],
   "source": [
    "sin(3.14)"
   ]
  },
  {
   "cell_type": "markdown",
   "metadata": {
    "slideshow": {
     "slide_type": "subslide"
    }
   },
   "source": [
    "Instead, they are libraries or modules that provide particular functionality. These include:"
   ]
  },
  {
   "cell_type": "markdown",
   "metadata": {
    "slideshow": {
     "slide_type": "fragment"
    }
   },
   "source": [
    "* **NumPy** provides arrays, linear algebra, and math functions (many similar to the core MATLAB functions)\n",
    "* **Matplotlib** provides functions to generate plots similar to those in MATLAB\n",
    "* **pandas** provides tools for working with data\n",
    "* **SciPy** provides many tools used in scientific computing including optimization, signal processing, and statistics\n",
    "* **scikit-learn** provides various classification, regression, clustering algorithms and model implementations."
   ]
  },
  {
   "cell_type": "markdown",
   "metadata": {
    "slideshow": {
     "slide_type": "subslide"
    }
   },
   "source": [
    "<div class=\"alert alert-success\" role=\"alert\">\n",
    "  When you install the Anaconda distribution, all of these libraries will be installed in your machine!\n",
    "</div>"
   ]
  },
  {
   "cell_type": "markdown",
   "metadata": {
    "slideshow": {
     "slide_type": "fragment"
    }
   },
   "source": [
    "To work with these libraries, import them:"
   ]
  },
  {
   "cell_type": "code",
   "execution_count": 60,
   "metadata": {
    "slideshow": {
     "slide_type": "fragment"
    }
   },
   "outputs": [],
   "source": [
    "import numpy"
   ]
  },
  {
   "cell_type": "code",
   "execution_count": 61,
   "metadata": {
    "slideshow": {
     "slide_type": "fragment"
    }
   },
   "outputs": [
    {
     "data": {
      "text/plain": [
       "0.0015926529164868282"
      ]
     },
     "execution_count": 61,
     "metadata": {},
     "output_type": "execute_result"
    }
   ],
   "source": [
    "numpy.sin(3.14)"
   ]
  },
  {
   "cell_type": "code",
   "execution_count": 62,
   "metadata": {
    "slideshow": {
     "slide_type": "fragment"
    }
   },
   "outputs": [
    {
     "data": {
      "text/plain": [
       "1.2246467991473532e-16"
      ]
     },
     "execution_count": 62,
     "metadata": {},
     "output_type": "execute_result"
    }
   ],
   "source": [
    "numpy.sin(numpy.pi)"
   ]
  },
  {
   "cell_type": "markdown",
   "metadata": {
    "slideshow": {
     "slide_type": "fragment"
    }
   },
   "source": [
    "To reduce typing, you can relabel a library on import:"
   ]
  },
  {
   "cell_type": "code",
   "execution_count": 63,
   "metadata": {
    "slideshow": {
     "slide_type": "fragment"
    }
   },
   "outputs": [
    {
     "data": {
      "text/plain": [
       "1.2246467991473532e-16"
      ]
     },
     "execution_count": 63,
     "metadata": {},
     "output_type": "execute_result"
    }
   ],
   "source": [
    "import numpy as np"
   ]
  },
  {
   "cell_type": "code",
   "execution_count": 64,
   "metadata": {
    "slideshow": {
     "slide_type": "fragment"
    }
   },
   "outputs": [
    {
     "data": {
      "text/plain": [
       "1.2246467991473532e-16"
      ]
     },
     "execution_count": 64,
     "metadata": {},
     "output_type": "execute_result"
    }
   ],
   "source": [
    "np.sin(np.pi)"
   ]
  },
  {
   "cell_type": "markdown",
   "metadata": {},
   "source": [
    "Let's take a look at how we can customize and stylize our visualizations using ```Matplotlib```."
   ]
  },
  {
   "cell_type": "markdown",
   "metadata": {},
   "source": [
    "The first thing we need to do is import the library:"
   ]
  },
  {
   "cell_type": "code",
   "execution_count": 65,
   "metadata": {},
   "outputs": [],
   "source": [
    "import matplotlib.pyplot as plt"
   ]
  },
  {
   "cell_type": "code",
   "execution_count": 66,
   "metadata": {},
   "outputs": [],
   "source": [
    "squares = []\n",
    "vals = []\n",
    "\n",
    "for x in range(10,20):\n",
    "    vals += [x]\n",
    "    squares += [x**2]"
   ]
  },
  {
   "cell_type": "code",
   "execution_count": 70,
   "metadata": {},
   "outputs": [
    {
     "name": "stdout",
     "output_type": "stream",
     "text": [
      "[10, 11, 12, 13, 14, 15, 16, 17, 18, 19]\n"
     ]
    }
   ],
   "source": [
    "print(vals)"
   ]
  },
  {
   "cell_type": "code",
   "execution_count": 69,
   "metadata": {},
   "outputs": [
    {
     "name": "stdout",
     "output_type": "stream",
     "text": [
      "[100, 121, 144, 169, 196, 225, 256, 289, 324, 361]\n"
     ]
    }
   ],
   "source": [
    "print(squares)"
   ]
  },
  {
   "cell_type": "markdown",
   "metadata": {},
   "source": [
    "On top of the normal Python syntax, IPython has *magic commands*, that are prefixed by the ```%``` character. There are many [magic commands](https://jakevdp.github.io/PythonDataScienceHandbook/01.03-magic-commands.html), these are particularly useful when using Matplotlib:"
   ]
  },
  {
   "cell_type": "code",
   "execution_count": 71,
   "metadata": {},
   "outputs": [],
   "source": [
    "%matplotlib?"
   ]
  },
  {
   "cell_type": "code",
   "execution_count": 72,
   "metadata": {},
   "outputs": [],
   "source": [
    "%matplotlib inline"
   ]
  },
  {
   "cell_type": "code",
   "execution_count": 74,
   "metadata": {},
   "outputs": [
    {
     "data": {
      "image/png": "[encoded data removed]",
      "text/plain": [
       "<Figure size 432x288 with 1 Axes>"
      ]
     },
     "metadata": {
      "needs_background": "light"
     },
     "output_type": "display_data"
    }
   ],
   "source": [
    "plt.plot(vals,squares);"
   ]
  },
  {
   "cell_type": "code",
   "execution_count": 75,
   "metadata": {},
   "outputs": [],
   "source": [
    "# will create interactive plots within the notebook\n",
    "\n",
    "%matplotlib notebook"
   ]
  },
  {
   "cell_type": "code",
   "execution_count": 76,
   "metadata": {},
   "outputs": [
    {
     "data": {
      "application/javascript": [
       "/* Put everything inside the global mpl namespace */\n",
       "/* global mpl */\n",
       "window.mpl = {};\n",
       "\n",
       "mpl.get_websocket_type = function () {\n",
       "    if (typeof WebSocket !== 'undefined') {\n",
       "        return WebSocket;\n",
       "    } else if (typeof MozWebSocket !== 'undefined') {\n",
       "        return MozWebSocket;\n",
       "    } else {\n",
       "        alert(\n",
       "            'Your browser does not have WebSocket support. ' +\n",
       "                'Please try Chrome, Safari or Firefox ≥ 6. ' +\n",
       "                'Firefox 4 and 5 are also supported but you ' +\n",
       "                'have to enable WebSockets in about:config.'\n",
       "        );\n",
       "    }\n",
       "};\n",
       "\n",
       "mpl.figure = function (figure_id, websocket, ondownload, parent_element) {\n",
       "    this.id = figure_id;\n",
       "\n",
       "    this.ws = websocket;\n",
       "\n",
       "    this.supports_binary = this.ws.binaryType !== undefined;\n",
       "\n",
       "    if (!this.supports_binary) {\n",
       "        var warnings = document.getElementById('mpl-warnings');\n",
       "        if (warnings) {\n",
       "            warnings.style.display = 'block';\n",
       "            warnings.textContent =\n",
       "                'This browser does not support binary websocket messages. ' +\n",
       "                'Performance may be slow.';\n",
       "        }\n",
       "    }\n",
       "\n",
       "    this.imageObj = new Image();\n",
       "\n",
       "    this.context = undefined;\n",
       "    this.message = undefined;\n",
       "    this.canvas = undefined;\n",
       "    this.rubberband_canvas = undefined;\n",
       "    this.rubberband_context = undefined;\n",
       "    this.format_dropdown = undefined;\n",
       "\n",
       "    this.image_mode = 'full';\n",
       "\n",
       "    this.root = document.createElement('div');\n",
       "    this.root.setAttribute('style', 'display: inline-block');\n",
       "    this._root_extra_style(this.root);\n",
       "\n",
       "    parent_element.appendChild(this.root);\n",
       "\n",
       "    this._init_header(this);\n",
       "    this._init_canvas(this);\n",
       "    this._init_toolbar(this);\n",
       "\n",
       "    var fig = this;\n",
       "\n",
       "    this.waiting = false;\n",
       "\n",
       "    this.ws.onopen = function () {\n",
       "        fig.send_message('supports_binary', { value: fig.supports_binary });\n",
       "        fig.send_message('send_image_mode', {});\n",
       "        if (fig.ratio !== 1) {\n",
       "            fig.send_message('set_device_pixel_ratio', {\n",
       "                device_pixel_ratio: fig.ratio,\n",
       "            });\n",
       "        }\n",
       "        fig.send_message('refresh', {});\n",
       "    };\n",
       "\n",
       "    this.imageObj.onload = function () {\n",
       "        if (fig.image_mode === 'full') {\n",
       "            // Full images could contain transparency (where diff images\n",
       "            // almost always do), so we need to clear the canvas so that\n",
       "            // there is no ghosting.\n",
       "            fig.context.clearRect(0, 0, fig.canvas.width, fig.canvas.height);\n",
       "        }\n",
       "        fig.context.drawImage(fig.imageObj, 0, 0);\n",
       "    };\n",
       "\n",
       "    this.imageObj.onunload = function () {\n",
       "        fig.ws.close();\n",
       "    };\n",
       "\n",
       "    this.ws.onmessage = this._make_on_message_function(this);\n",
       "\n",
       "    this.ondownload = ondownload;\n",
       "};\n",
       "\n",
       "mpl.figure.prototype._init_header = function () {\n",
       "    var titlebar = document.createElement('div');\n",
       "    titlebar.classList =\n",
       "        'ui-dialog-titlebar ui-widget-header ui-corner-all ui-helper-clearfix';\n",
       "    var titletext = document.createElement('div');\n",
       "    titletext.classList = 'ui-dialog-title';\n",
       "    titletext.setAttribute(\n",
       "        'style',\n",
       "        'width: 100%; text-align: center; padding: 3px;'\n",
       "    );\n",
       "    titlebar.appendChild(titletext);\n",
       "    this.root.appendChild(titlebar);\n",
       "    this.header = titletext;\n",
       "};\n",
       "\n",
       "mpl.figure.prototype._canvas_extra_style = function (_canvas_div) {};\n",
       "\n",
       "mpl.figure.prototype._root_extra_style = function (_canvas_div) {};\n",
       "\n",
       "mpl.figure.prototype._init_canvas = function () {\n",
       "    var fig = this;\n",
       "\n",
       "    var canvas_div = (this.canvas_div = document.createElement('div'));\n",
       "    canvas_div.setAttribute(\n",
       "        'style',\n",
       "        'border: 1px solid #ddd;' +\n",
       "            'box-sizing: content-box;' +\n",
       "            'clear: both;' +\n",
       "            'min-height: 1px;' +\n",
       "            'min-width: 1px;' +\n",
       "            'outline: 0;' +\n",
       "            'overflow: hidden;' +\n",
       "            'position: relative;' +\n",
       "            'resize: both;'\n",
       "    );\n",
       "\n",
       "    function on_keyboard_event_closure(name) {\n",
       "        return function (event) {\n",
       "            return fig.key_event(event, name);\n",
       "        };\n",
       "    }\n",
       "\n",
       "    canvas_div.addEventListener(\n",
       "        'keydown',\n",
       "        on_keyboard_event_closure('key_press')\n",
       "    );\n",
       "    canvas_div.addEventListener(\n",
       "        'keyup',\n",
       "        on_keyboard_event_closure('key_release')\n",
       "    );\n",
       "\n",
       "    this._canvas_extra_style(canvas_div);\n",
       "    this.root.appendChild(canvas_div);\n",
       "\n",
       "    var canvas = (this.canvas = document.createElement('canvas'));\n",
       "    canvas.classList.add('mpl-canvas');\n",
       "    canvas.setAttribute('style', 'box-sizing: content-box;');\n",
       "\n",
       "    this.context = canvas.getContext('2d');\n",
       "\n",
       "    var backingStore =\n",
       "        this.context.backingStorePixelRatio ||\n",
       "        this.context.webkitBackingStorePixelRatio ||\n",
       "        this.context.mozBackingStorePixelRatio ||\n",
       "        this.context.msBackingStorePixelRatio ||\n",
       "        this.context.oBackingStorePixelRatio ||\n",
       "        this.context.backingStorePixelRatio ||\n",
       "        1;\n",
       "\n",
       "    this.ratio = (window.devicePixelRatio || 1) / backingStore;\n",
       "\n",
       "    var rubberband_canvas = (this.rubberband_canvas = document.createElement(\n",
       "        'canvas'\n",
       "    ));\n",
       "    rubberband_canvas.setAttribute(\n",
       "        'style',\n",
       "        'box-sizing: content-box; position: absolute; left: 0; top: 0; z-index: 1;'\n",
       "    );\n",
       "\n",
       "    // Apply a ponyfill if ResizeObserver is not implemented by browser.\n",
       "    if (this.ResizeObserver === undefined) {\n",
       "        if (window.ResizeObserver !== undefined) {\n",
       "            this.ResizeObserver = window.ResizeObserver;\n",
       "        } else {\n",
       "            var obs = _JSXTOOLS_RESIZE_OBSERVER({});\n",
       "            this.ResizeObserver = obs.ResizeObserver;\n",
       "        }\n",
       "    }\n",
       "\n",
       "    this.resizeObserverInstance = new this.ResizeObserver(function (entries) {\n",
       "        var nentries = entries.length;\n",
       "        for (var i = 0; i < nentries; i++) {\n",
       "            var entry = entries[i];\n",
       "            var width, height;\n",
       "            if (entry.contentBoxSize) {\n",
       "                if (entry.contentBoxSize instanceof Array) {\n",
       "                    // Chrome 84 implements new version of spec.\n",
       "                    width = entry.contentBoxSize[0].inlineSize;\n",
       "                    height = entry.contentBoxSize[0].blockSize;\n",
       "                } else {\n",
       "                    // Firefox implements old version of spec.\n",
       "                    width = entry.contentBoxSize.inlineSize;\n",
       "                    height = entry.contentBoxSize.blockSize;\n",
       "                }\n",
       "            } else {\n",
       "                // Chrome <84 implements even older version of spec.\n",
       "                width = entry.contentRect.width;\n",
       "                height = entry.contentRect.height;\n",
       "            }\n",
       "\n",
       "            // Keep the size of the canvas and rubber band canvas in sync with\n",
       "            // the canvas container.\n",
       "            if (entry.devicePixelContentBoxSize) {\n",
       "                // Chrome 84 implements new version of spec.\n",
       "                canvas.setAttribute(\n",
       "                    'width',\n",
       "                    entry.devicePixelContentBoxSize[0].inlineSize\n",
       "                );\n",
       "                canvas.setAttribute(\n",
       "                    'height',\n",
       "                    entry.devicePixelContentBoxSize[0].blockSize\n",
       "                );\n",
       "            } else {\n",
       "                canvas.setAttribute('width', width * fig.ratio);\n",
       "                canvas.setAttribute('height', height * fig.ratio);\n",
       "            }\n",
       "            canvas.setAttribute(\n",
       "                'style',\n",
       "                'width: ' + width + 'px; height: ' + height + 'px;'\n",
       "            );\n",
       "\n",
       "            rubberband_canvas.setAttribute('width', width);\n",
       "            rubberband_canvas.setAttribute('height', height);\n",
       "\n",
       "            // And update the size in Python. We ignore the initial 0/0 size\n",
       "            // that occurs as the element is placed into the DOM, which should\n",
       "            // otherwise not happen due to the minimum size styling.\n",
       "            if (fig.ws.readyState == 1 && width != 0 && height != 0) {\n",
       "                fig.request_resize(width, height);\n",
       "            }\n",
       "        }\n",
       "    });\n",
       "    this.resizeObserverInstance.observe(canvas_div);\n",
       "\n",
       "    function on_mouse_event_closure(name) {\n",
       "        return function (event) {\n",
       "            return fig.mouse_event(event, name);\n",
       "        };\n",
       "    }\n",
       "\n",
       "    rubberband_canvas.addEventListener(\n",
       "        'mousedown',\n",
       "        on_mouse_event_closure('button_press')\n",
       "    );\n",
       "    rubberband_canvas.addEventListener(\n",
       "        'mouseup',\n",
       "        on_mouse_event_closure('button_release')\n",
       "    );\n",
       "    rubberband_canvas.addEventListener(\n",
       "        'dblclick',\n",
       "        on_mouse_event_closure('dblclick')\n",
       "    );\n",
       "    // Throttle sequential mouse events to 1 every 20ms.\n",
       "    rubberband_canvas.addEventListener(\n",
       "        'mousemove',\n",
       "        on_mouse_event_closure('motion_notify')\n",
       "    );\n",
       "\n",
       "    rubberband_canvas.addEventListener(\n",
       "        'mouseenter',\n",
       "        on_mouse_event_closure('figure_enter')\n",
       "    );\n",
       "    rubberband_canvas.addEventListener(\n",
       "        'mouseleave',\n",
       "        on_mouse_event_closure('figure_leave')\n",
       "    );\n",
       "\n",
       "    canvas_div.addEventListener('wheel', function (event) {\n",
       "        if (event.deltaY < 0) {\n",
       "            event.step = 1;\n",
       "        } else {\n",
       "            event.step = -1;\n",
       "        }\n",
       "        on_mouse_event_closure('scroll')(event);\n",
       "    });\n",
       "\n",
       "    canvas_div.appendChild(canvas);\n",
       "    canvas_div.appendChild(rubberband_canvas);\n",
       "\n",
       "    this.rubberband_context = rubberband_canvas.getContext('2d');\n",
       "    this.rubberband_context.strokeStyle = '#000000';\n",
       "\n",
       "    this._resize_canvas = function (width, height, forward) {\n",
       "        if (forward) {\n",
       "            canvas_div.style.width = width + 'px';\n",
       "            canvas_div.style.height = height + 'px';\n",
       "        }\n",
       "    };\n",
       "\n",
       "    // Disable right mouse context menu.\n",
       "    this.rubberband_canvas.addEventListener('contextmenu', function (_e) {\n",
       "        event.preventDefault();\n",
       "        return false;\n",
       "    });\n",
       "\n",
       "    function set_focus() {\n",
       "        canvas.focus();\n",
       "        canvas_div.focus();\n",
       "    }\n",
       "\n",
       "    window.setTimeout(set_focus, 100);\n",
       "};\n",
       "\n",
       "mpl.figure.prototype._init_toolbar = function () {\n",
       "    var fig = this;\n",
       "\n",
       "    var toolbar = document.createElement('div');\n",
       "    toolbar.classList = 'mpl-toolbar';\n",
       "    this.root.appendChild(toolbar);\n",
       "\n",
       "    function on_click_closure(name) {\n",
       "        return function (_event) {\n",
       "            return fig.toolbar_button_onclick(name);\n",
       "        };\n",
       "    }\n",
       "\n",
       "    function on_mouseover_closure(tooltip) {\n",
       "        return function (event) {\n",
       "            if (!event.currentTarget.disabled) {\n",
       "                return fig.toolbar_button_onmouseover(tooltip);\n",
       "            }\n",
       "        };\n",
       "    }\n",
       "\n",
       "    fig.buttons = {};\n",
       "    var buttonGroup = document.createElement('div');\n",
       "    buttonGroup.classList = 'mpl-button-group';\n",
       "    for (var toolbar_ind in mpl.toolbar_items) {\n",
       "        var name = mpl.toolbar_items[toolbar_ind][0];\n",
       "        var tooltip = mpl.toolbar_items[toolbar_ind][1];\n",
       "        var image = mpl.toolbar_items[toolbar_ind][2];\n",
       "        var method_name = mpl.toolbar_items[toolbar_ind][3];\n",
       "\n",
       "        if (!name) {\n",
       "            /* Instead of a spacer, we start a new button group. */\n",
       "            if (buttonGroup.hasChildNodes()) {\n",
       "                toolbar.appendChild(buttonGroup);\n",
       "            }\n",
       "            buttonGroup = document.createElement('div');\n",
       "            buttonGroup.classList = 'mpl-button-group';\n",
       "            continue;\n",
       "        }\n",
       "\n",
       "        var button = (fig.buttons[name] = document.createElement('button'));\n",
       "        button.classList = 'mpl-widget';\n",
       "        button.setAttribute('role', 'button');\n",
       "        button.setAttribute('aria-disabled', 'false');\n",
       "        button.addEventListener('click', on_click_closure(method_name));\n",
       "        button.addEventListener('mouseover', on_mouseover_closure(tooltip));\n",
       "\n",
       "        var icon_img = document.createElement('img');\n",
       "        icon_img.src = '_images/' + image + '.png';\n",
       "        icon_img.srcset = '_images/' + image + '_large.png 2x';\n",
       "        icon_img.alt = tooltip;\n",
       "        button.appendChild(icon_img);\n",
       "\n",
       "        buttonGroup.appendChild(button);\n",
       "    }\n",
       "\n",
       "    if (buttonGroup.hasChildNodes()) {\n",
       "        toolbar.appendChild(buttonGroup);\n",
       "    }\n",
       "\n",
       "    var fmt_picker = document.createElement('select');\n",
       "    fmt_picker.classList = 'mpl-widget';\n",
       "    toolbar.appendChild(fmt_picker);\n",
       "    this.format_dropdown = fmt_picker;\n",
       "\n",
       "    for (var ind in mpl.extensions) {\n",
       "        var fmt = mpl.extensions[ind];\n",
       "        var option = document.createElement('option');\n",
       "        option.selected = fmt === mpl.default_extension;\n",
       "        option.innerHTML = fmt;\n",
       "        fmt_picker.appendChild(option);\n",
       "    }\n",
       "\n",
       "    var status_bar = document.createElement('span');\n",
       "    status_bar.classList = 'mpl-message';\n",
       "    toolbar.appendChild(status_bar);\n",
       "    this.message = status_bar;\n",
       "};\n",
       "\n",
       "mpl.figure.prototype.request_resize = function (x_pixels, y_pixels) {\n",
       "    // Request matplotlib to resize the figure. Matplotlib will then trigger a resize in the client,\n",
       "    // which will in turn request a refresh of the image.\n",
       "    this.send_message('resize', { width: x_pixels, height: y_pixels });\n",
       "};\n",
       "\n",
       "mpl.figure.prototype.send_message = function (type, properties) {\n",
       "    properties['type'] = type;\n",
       "    properties['figure_id'] = this.id;\n",
       "    this.ws.send(JSON.stringify(properties));\n",
       "};\n",
       "\n",
       "mpl.figure.prototype.send_draw_message = function () {\n",
       "    if (!this.waiting) {\n",
       "        this.waiting = true;\n",
       "        this.ws.send(JSON.stringify({ type: 'draw', figure_id: this.id }));\n",
       "    }\n",
       "};\n",
       "\n",
       "mpl.figure.prototype.handle_save = function (fig, _msg) {\n",
       "    var format_dropdown = fig.format_dropdown;\n",
       "    var format = format_dropdown.options[format_dropdown.selectedIndex].value;\n",
       "    fig.ondownload(fig, format);\n",
       "};\n",
       "\n",
       "mpl.figure.prototype.handle_resize = function (fig, msg) {\n",
       "    var size = msg['size'];\n",
       "    if (size[0] !== fig.canvas.width || size[1] !== fig.canvas.height) {\n",
       "        fig._resize_canvas(size[0], size[1], msg['forward']);\n",
       "        fig.send_message('refresh', {});\n",
       "    }\n",
       "};\n",
       "\n",
       "mpl.figure.prototype.handle_rubberband = function (fig, msg) {\n",
       "    var x0 = msg['x0'] / fig.ratio;\n",
       "    var y0 = (fig.canvas.height - msg['y0']) / fig.ratio;\n",
       "    var x1 = msg['x1'] / fig.ratio;\n",
       "    var y1 = (fig.canvas.height - msg['y1']) / fig.ratio;\n",
       "    x0 = Math.floor(x0) + 0.5;\n",
       "    y0 = Math.floor(y0) + 0.5;\n",
       "    x1 = Math.floor(x1) + 0.5;\n",
       "    y1 = Math.floor(y1) + 0.5;\n",
       "    var min_x = Math.min(x0, x1);\n",
       "    var min_y = Math.min(y0, y1);\n",
       "    var width = Math.abs(x1 - x0);\n",
       "    var height = Math.abs(y1 - y0);\n",
       "\n",
       "    fig.rubberband_context.clearRect(\n",
       "        0,\n",
       "        0,\n",
       "        fig.canvas.width / fig.ratio,\n",
       "        fig.canvas.height / fig.ratio\n",
       "    );\n",
       "\n",
       "    fig.rubberband_context.strokeRect(min_x, min_y, width, height);\n",
       "};\n",
       "\n",
       "mpl.figure.prototype.handle_figure_label = function (fig, msg) {\n",
       "    // Updates the figure title.\n",
       "    fig.header.textContent = msg['label'];\n",
       "};\n",
       "\n",
       "mpl.figure.prototype.handle_cursor = function (fig, msg) {\n",
       "    fig.rubberband_canvas.style.cursor = msg['cursor'];\n",
       "};\n",
       "\n",
       "mpl.figure.prototype.handle_message = function (fig, msg) {\n",
       "    fig.message.textContent = msg['message'];\n",
       "};\n",
       "\n",
       "mpl.figure.prototype.handle_draw = function (fig, _msg) {\n",
       "    // Request the server to send over a new figure.\n",
       "    fig.send_draw_message();\n",
       "};\n",
       "\n",
       "mpl.figure.prototype.handle_image_mode = function (fig, msg) {\n",
       "    fig.image_mode = msg['mode'];\n",
       "};\n",
       "\n",
       "mpl.figure.prototype.handle_history_buttons = function (fig, msg) {\n",
       "    for (var key in msg) {\n",
       "        if (!(key in fig.buttons)) {\n",
       "            continue;\n",
       "        }\n",
       "        fig.buttons[key].disabled = !msg[key];\n",
       "        fig.buttons[key].setAttribute('aria-disabled', !msg[key]);\n",
       "    }\n",
       "};\n",
       "\n",
       "mpl.figure.prototype.handle_navigate_mode = function (fig, msg) {\n",
       "    if (msg['mode'] === 'PAN') {\n",
       "        fig.buttons['Pan'].classList.add('active');\n",
       "        fig.buttons['Zoom'].classList.remove('active');\n",
       "    } else if (msg['mode'] === 'ZOOM') {\n",
       "        fig.buttons['Pan'].classList.remove('active');\n",
       "        fig.buttons['Zoom'].classList.add('active');\n",
       "    } else {\n",
       "        fig.buttons['Pan'].classList.remove('active');\n",
       "        fig.buttons['Zoom'].classList.remove('active');\n",
       "    }\n",
       "};\n",
       "\n",
       "mpl.figure.prototype.updated_canvas_event = function () {\n",
       "    // Called whenever the canvas gets updated.\n",
       "    this.send_message('ack', {});\n",
       "};\n",
       "\n",
       "// A function to construct a web socket function for onmessage handling.\n",
       "// Called in the figure constructor.\n",
       "mpl.figure.prototype._make_on_message_function = function (fig) {\n",
       "    return function socket_on_message(evt) {\n",
       "        if (evt.data instanceof Blob) {\n",
       "            var img = evt.data;\n",
       "            if (img.type !== 'image/png') {\n",
       "                /* FIXME: We get \"Resource interpreted as Image but\n",
       "                 * transferred with MIME type text/plain:\" errors on\n",
       "                 * Chrome.  But how to set the MIME type?  It doesn't seem\n",
       "                 * to be part of the websocket stream */\n",
       "                img.type = 'image/png';\n",
       "            }\n",
       "\n",
       "            /* Free the memory for the previous frames */\n",
       "            if (fig.imageObj.src) {\n",
       "                (window.URL || window.webkitURL).revokeObjectURL(\n",
       "                    fig.imageObj.src\n",
       "                );\n",
       "            }\n",
       "\n",
       "            fig.imageObj.src = (window.URL || window.webkitURL).createObjectURL(\n",
       "                img\n",
       "            );\n",
       "            fig.updated_canvas_event();\n",
       "            fig.waiting = false;\n",
       "            return;\n",
       "        } else if (\n",
       "            typeof evt.data === 'string' &&\n",
       "            evt.data.slice(0, 21) === 'data:image/png;base64'\n",
       "        ) {\n",
       "            fig.imageObj.src = evt.data;\n",
       "            fig.updated_canvas_event();\n",
       "            fig.waiting = false;\n",
       "            return;\n",
       "        }\n",
       "\n",
       "        var msg = JSON.parse(evt.data);\n",
       "        var msg_type = msg['type'];\n",
       "\n",
       "        // Call the  \"handle_{type}\" callback, which takes\n",
       "        // the figure and JSON message as its only arguments.\n",
       "        try {\n",
       "            var callback = fig['handle_' + msg_type];\n",
       "        } catch (e) {\n",
       "            console.log(\n",
       "                \"No handler for the '\" + msg_type + \"' message type: \",\n",
       "                msg\n",
       "            );\n",
       "            return;\n",
       "        }\n",
       "\n",
       "        if (callback) {\n",
       "            try {\n",
       "                // console.log(\"Handling '\" + msg_type + \"' message: \", msg);\n",
       "                callback(fig, msg);\n",
       "            } catch (e) {\n",
       "                console.log(\n",
       "                    \"Exception inside the 'handler_\" + msg_type + \"' callback:\",\n",
       "                    e,\n",
       "                    e.stack,\n",
       "                    msg\n",
       "                );\n",
       "            }\n",
       "        }\n",
       "    };\n",
       "};\n",
       "\n",
       "// from https://stackoverflow.com/questions/1114465/getting-mouse-location-in-canvas\n",
       "mpl.findpos = function (e) {\n",
       "    //this section is from http://www.quirksmode.org/js/events_properties.html\n",
       "    var targ;\n",
       "    if (!e) {\n",
       "        e = window.event;\n",
       "    }\n",
       "    if (e.target) {\n",
       "        targ = e.target;\n",
       "    } else if (e.srcElement) {\n",
       "        targ = e.srcElement;\n",
       "    }\n",
       "    if (targ.nodeType === 3) {\n",
       "        // defeat Safari bug\n",
       "        targ = targ.parentNode;\n",
       "    }\n",
       "\n",
       "    // pageX,Y are the mouse positions relative to the document\n",
       "    var boundingRect = targ.getBoundingClientRect();\n",
       "    var x = e.pageX - (boundingRect.left + document.body.scrollLeft);\n",
       "    var y = e.pageY - (boundingRect.top + document.body.scrollTop);\n",
       "\n",
       "    return { x: x, y: y };\n",
       "};\n",
       "\n",
       "/*\n",
       " * return a copy of an object with only non-object keys\n",
       " * we need this to avoid circular references\n",
       " * https://stackoverflow.com/a/24161582/3208463\n",
       " */\n",
       "function simpleKeys(original) {\n",
       "    return Object.keys(original).reduce(function (obj, key) {\n",
       "        if (typeof original[key] !== 'object') {\n",
       "            obj[key] = original[key];\n",
       "        }\n",
       "        return obj;\n",
       "    }, {});\n",
       "}\n",
       "\n",
       "mpl.figure.prototype.mouse_event = function (event, name) {\n",
       "    var canvas_pos = mpl.findpos(event);\n",
       "\n",
       "    if (name === 'button_press') {\n",
       "        this.canvas.focus();\n",
       "        this.canvas_div.focus();\n",
       "    }\n",
       "\n",
       "    var x = canvas_pos.x * this.ratio;\n",
       "    var y = canvas_pos.y * this.ratio;\n",
       "\n",
       "    this.send_message(name, {\n",
       "        x: x,\n",
       "        y: y,\n",
       "        button: event.button,\n",
       "        step: event.step,\n",
       "        guiEvent: simpleKeys(event),\n",
       "    });\n",
       "\n",
       "    /* This prevents the web browser from automatically changing to\n",
       "     * the text insertion cursor when the button is pressed.  We want\n",
       "     * to control all of the cursor setting manually through the\n",
       "     * 'cursor' event from matplotlib */\n",
       "    event.preventDefault();\n",
       "    return false;\n",
       "};\n",
       "\n",
       "mpl.figure.prototype._key_event_extra = function (_event, _name) {\n",
       "    // Handle any extra behaviour associated with a key event\n",
       "};\n",
       "\n",
       "mpl.figure.prototype.key_event = function (event, name) {\n",
       "    // Prevent repeat events\n",
       "    if (name === 'key_press') {\n",
       "        if (event.key === this._key) {\n",
       "            return;\n",
       "        } else {\n",
       "            this._key = event.key;\n",
       "        }\n",
       "    }\n",
       "    if (name === 'key_release') {\n",
       "        this._key = null;\n",
       "    }\n",
       "\n",
       "    var value = '';\n",
       "    if (event.ctrlKey && event.key !== 'Control') {\n",
       "        value += 'ctrl+';\n",
       "    }\n",
       "    else if (event.altKey && event.key !== 'Alt') {\n",
       "        value += 'alt+';\n",
       "    }\n",
       "    else if (event.shiftKey && event.key !== 'Shift') {\n",
       "        value += 'shift+';\n",
       "    }\n",
       "\n",
       "    value += 'k' + event.key;\n",
       "\n",
       "    this._key_event_extra(event, name);\n",
       "\n",
       "    this.send_message(name, { key: value, guiEvent: simpleKeys(event) });\n",
       "    return false;\n",
       "};\n",
       "\n",
       "mpl.figure.prototype.toolbar_button_onclick = function (name) {\n",
       "    if (name === 'download') {\n",
       "        this.handle_save(this, null);\n",
       "    } else {\n",
       "        this.send_message('toolbar_button', { name: name });\n",
       "    }\n",
       "};\n",
       "\n",
       "mpl.figure.prototype.toolbar_button_onmouseover = function (tooltip) {\n",
       "    this.message.textContent = tooltip;\n",
       "};\n",
       "\n",
       "///////////////// REMAINING CONTENT GENERATED BY embed_js.py /////////////////\n",
       "// prettier-ignore\n",
       "var _JSXTOOLS_RESIZE_OBSERVER=function(A){var t,i=new WeakMap,n=new WeakMap,a=new WeakMap,r=new WeakMap,o=new Set;function s(e){if(!(this instanceof s))throw new TypeError(\"Constructor requires 'new' operator\");i.set(this,e)}function h(){throw new TypeError(\"Function is not a constructor\")}function c(e,t,i,n){e=0 in arguments?Number(arguments[0]):0,t=1 in arguments?Number(arguments[1]):0,i=2 in arguments?Number(arguments[2]):0,n=3 in arguments?Number(arguments[3]):0,this.right=(this.x=this.left=e)+(this.width=i),this.bottom=(this.y=this.top=t)+(this.height=n),Object.freeze(this)}function d(){t=requestAnimationFrame(d);var s=new WeakMap,p=new Set;o.forEach((function(t){r.get(t).forEach((function(i){var r=t instanceof window.SVGElement,o=a.get(t),d=r?0:parseFloat(o.paddingTop),f=r?0:parseFloat(o.paddingRight),l=r?0:parseFloat(o.paddingBottom),u=r?0:parseFloat(o.paddingLeft),g=r?0:parseFloat(o.borderTopWidth),m=r?0:parseFloat(o.borderRightWidth),w=r?0:parseFloat(o.borderBottomWidth),b=u+f,F=d+l,v=(r?0:parseFloat(o.borderLeftWidth))+m,W=g+w,y=r?0:t.offsetHeight-W-t.clientHeight,E=r?0:t.offsetWidth-v-t.clientWidth,R=b+v,z=F+W,M=r?t.width:parseFloat(o.width)-R-E,O=r?t.height:parseFloat(o.height)-z-y;if(n.has(t)){var k=n.get(t);if(k[0]===M&&k[1]===O)return}n.set(t,[M,O]);var S=Object.create(h.prototype);S.target=t,S.contentRect=new c(u,d,M,O),s.has(i)||(s.set(i,[]),p.add(i)),s.get(i).push(S)}))})),p.forEach((function(e){i.get(e).call(e,s.get(e),e)}))}return s.prototype.observe=function(i){if(i instanceof window.Element){r.has(i)||(r.set(i,new Set),o.add(i),a.set(i,window.getComputedStyle(i)));var n=r.get(i);n.has(this)||n.add(this),cancelAnimationFrame(t),t=requestAnimationFrame(d)}},s.prototype.unobserve=function(i){if(i instanceof window.Element&&r.has(i)){var n=r.get(i);n.has(this)&&(n.delete(this),n.size||(r.delete(i),o.delete(i))),n.size||r.delete(i),o.size||cancelAnimationFrame(t)}},A.DOMRectReadOnly=c,A.ResizeObserver=s,A.ResizeObserverEntry=h,A}; // eslint-disable-line\n",
       "mpl.toolbar_items = [[\"Home\", \"Reset original view\", \"fa fa-home icon-home\", \"home\"], [\"Back\", \"Back to previous view\", \"fa fa-arrow-left icon-arrow-left\", \"back\"], [\"Forward\", \"Forward to next view\", \"fa fa-arrow-right icon-arrow-right\", \"forward\"], [\"\", \"\", \"\", \"\"], [\"Pan\", \"Left button pans, Right button zooms\\nx/y fixes axis, CTRL fixes aspect\", \"fa fa-arrows icon-move\", \"pan\"], [\"Zoom\", \"Zoom to rectangle\\nx/y fixes axis\", \"fa fa-square-o icon-check-empty\", \"zoom\"], [\"\", \"\", \"\", \"\"], [\"Download\", \"Download plot\", \"fa fa-floppy-o icon-save\", \"download\"]];\n",
       "\n",
       "mpl.extensions = [\"eps\", \"jpeg\", \"pgf\", \"pdf\", \"png\", \"ps\", \"raw\", \"svg\", \"tif\"];\n",
       "\n",
       "mpl.default_extension = \"png\";/* global mpl */\n",
       "\n",
       "var comm_websocket_adapter = function (comm) {\n",
       "    // Create a \"websocket\"-like object which calls the given IPython comm\n",
       "    // object with the appropriate methods. Currently this is a non binary\n",
       "    // socket, so there is still some room for performance tuning.\n",
       "    var ws = {};\n",
       "\n",
       "    ws.binaryType = comm.kernel.ws.binaryType;\n",
       "    ws.readyState = comm.kernel.ws.readyState;\n",
       "    function updateReadyState(_event) {\n",
       "        if (comm.kernel.ws) {\n",
       "            ws.readyState = comm.kernel.ws.readyState;\n",
       "        } else {\n",
       "            ws.readyState = 3; // Closed state.\n",
       "        }\n",
       "    }\n",
       "    comm.kernel.ws.addEventListener('open', updateReadyState);\n",
       "    comm.kernel.ws.addEventListener('close', updateReadyState);\n",
       "    comm.kernel.ws.addEventListener('error', updateReadyState);\n",
       "\n",
       "    ws.close = function () {\n",
       "        comm.close();\n",
       "    };\n",
       "    ws.send = function (m) {\n",
       "        //console.log('sending', m);\n",
       "        comm.send(m);\n",
       "    };\n",
       "    // Register the callback with on_msg.\n",
       "    comm.on_msg(function (msg) {\n",
       "        //console.log('receiving', msg['content']['data'], msg);\n",
       "        var data = msg['content']['data'];\n",
       "        if (data['blob'] !== undefined) {\n",
       "            data = {\n",
       "                data: new Blob(msg['buffers'], { type: data['blob'] }),\n",
       "            };\n",
       "        }\n",
       "        // Pass the mpl event to the overridden (by mpl) onmessage function.\n",
       "        ws.onmessage(data);\n",
       "    });\n",
       "    return ws;\n",
       "};\n",
       "\n",
       "mpl.mpl_figure_comm = function (comm, msg) {\n",
       "    // This is the function which gets called when the mpl process\n",
       "    // starts-up an IPython Comm through the \"matplotlib\" channel.\n",
       "\n",
       "    var id = msg.content.data.id;\n",
       "    // Get hold of the div created by the display call when the Comm\n",
       "    // socket was opened in Python.\n",
       "    var element = document.getElementById(id);\n",
       "    var ws_proxy = comm_websocket_adapter(comm);\n",
       "\n",
       "    function ondownload(figure, _format) {\n",
       "        window.open(figure.canvas.toDataURL());\n",
       "    }\n",
       "\n",
       "    var fig = new mpl.figure(id, ws_proxy, ondownload, element);\n",
       "\n",
       "    // Call onopen now - mpl needs it, as it is assuming we've passed it a real\n",
       "    // web socket which is closed, not our websocket->open comm proxy.\n",
       "    ws_proxy.onopen();\n",
       "\n",
       "    fig.parent_element = element;\n",
       "    fig.cell_info = mpl.find_output_cell(\"<div id='\" + id + \"'></div>\");\n",
       "    if (!fig.cell_info) {\n",
       "        console.error('Failed to find cell for figure', id, fig);\n",
       "        return;\n",
       "    }\n",
       "    fig.cell_info[0].output_area.element.on(\n",
       "        'cleared',\n",
       "        { fig: fig },\n",
       "        fig._remove_fig_handler\n",
       "    );\n",
       "};\n",
       "\n",
       "mpl.figure.prototype.handle_close = function (fig, msg) {\n",
       "    var width = fig.canvas.width / fig.ratio;\n",
       "    fig.cell_info[0].output_area.element.off(\n",
       "        'cleared',\n",
       "        fig._remove_fig_handler\n",
       "    );\n",
       "    fig.resizeObserverInstance.unobserve(fig.canvas_div);\n",
       "\n",
       "    // Update the output cell to use the data from the current canvas.\n",
       "    fig.push_to_output();\n",
       "    var dataURL = fig.canvas.toDataURL();\n",
       "    // Re-enable the keyboard manager in IPython - without this line, in FF,\n",
       "    // the notebook keyboard shortcuts fail.\n",
       "    IPython.keyboard_manager.enable();\n",
       "    fig.parent_element.innerHTML =\n",
       "        '<img src=\"' + dataURL + '\" width=\"' + width + '\">';\n",
       "    fig.close_ws(fig, msg);\n",
       "};\n",
       "\n",
       "mpl.figure.prototype.close_ws = function (fig, msg) {\n",
       "    fig.send_message('closing', msg);\n",
       "    // fig.ws.close()\n",
       "};\n",
       "\n",
       "mpl.figure.prototype.push_to_output = function (_remove_interactive) {\n",
       "    // Turn the data on the canvas into data in the output cell.\n",
       "    var width = this.canvas.width / this.ratio;\n",
       "    var dataURL = this.canvas.toDataURL();\n",
       "    this.cell_info[1]['text/html'] =\n",
       "        '<img src=\"' + dataURL + '\" width=\"' + width + '\">';\n",
       "};\n",
       "\n",
       "mpl.figure.prototype.updated_canvas_event = function () {\n",
       "    // Tell IPython that the notebook contents must change.\n",
       "    IPython.notebook.set_dirty(true);\n",
       "    this.send_message('ack', {});\n",
       "    var fig = this;\n",
       "    // Wait a second, then push the new image to the DOM so\n",
       "    // that it is saved nicely (might be nice to debounce this).\n",
       "    setTimeout(function () {\n",
       "        fig.push_to_output();\n",
       "    }, 1000);\n",
       "};\n",
       "\n",
       "mpl.figure.prototype._init_toolbar = function () {\n",
       "    var fig = this;\n",
       "\n",
       "    var toolbar = document.createElement('div');\n",
       "    toolbar.classList = 'btn-toolbar';\n",
       "    this.root.appendChild(toolbar);\n",
       "\n",
       "    function on_click_closure(name) {\n",
       "        return function (_event) {\n",
       "            return fig.toolbar_button_onclick(name);\n",
       "        };\n",
       "    }\n",
       "\n",
       "    function on_mouseover_closure(tooltip) {\n",
       "        return function (event) {\n",
       "            if (!event.currentTarget.disabled) {\n",
       "                return fig.toolbar_button_onmouseover(tooltip);\n",
       "            }\n",
       "        };\n",
       "    }\n",
       "\n",
       "    fig.buttons = {};\n",
       "    var buttonGroup = document.createElement('div');\n",
       "    buttonGroup.classList = 'btn-group';\n",
       "    var button;\n",
       "    for (var toolbar_ind in mpl.toolbar_items) {\n",
       "        var name = mpl.toolbar_items[toolbar_ind][0];\n",
       "        var tooltip = mpl.toolbar_items[toolbar_ind][1];\n",
       "        var image = mpl.toolbar_items[toolbar_ind][2];\n",
       "        var method_name = mpl.toolbar_items[toolbar_ind][3];\n",
       "\n",
       "        if (!name) {\n",
       "            /* Instead of a spacer, we start a new button group. */\n",
       "            if (buttonGroup.hasChildNodes()) {\n",
       "                toolbar.appendChild(buttonGroup);\n",
       "            }\n",
       "            buttonGroup = document.createElement('div');\n",
       "            buttonGroup.classList = 'btn-group';\n",
       "            continue;\n",
       "        }\n",
       "\n",
       "        button = fig.buttons[name] = document.createElement('button');\n",
       "        button.classList = 'btn btn-default';\n",
       "        button.href = '#';\n",
       "        button.title = name;\n",
       "        button.innerHTML = '<i class=\"fa ' + image + ' fa-lg\"></i>';\n",
       "        button.addEventListener('click', on_click_closure(method_name));\n",
       "        button.addEventListener('mouseover', on_mouseover_closure(tooltip));\n",
       "        buttonGroup.appendChild(button);\n",
       "    }\n",
       "\n",
       "    if (buttonGroup.hasChildNodes()) {\n",
       "        toolbar.appendChild(buttonGroup);\n",
       "    }\n",
       "\n",
       "    // Add the status bar.\n",
       "    var status_bar = document.createElement('span');\n",
       "    status_bar.classList = 'mpl-message pull-right';\n",
       "    toolbar.appendChild(status_bar);\n",
       "    this.message = status_bar;\n",
       "\n",
       "    // Add the close button to the window.\n",
       "    var buttongrp = document.createElement('div');\n",
       "    buttongrp.classList = 'btn-group inline pull-right';\n",
       "    button = document.createElement('button');\n",
       "    button.classList = 'btn btn-mini btn-primary';\n",
       "    button.href = '#';\n",
       "    button.title = 'Stop Interaction';\n",
       "    button.innerHTML = '<i class=\"fa fa-power-off icon-remove icon-large\"></i>';\n",
       "    button.addEventListener('click', function (_evt) {\n",
       "        fig.handle_close(fig, {});\n",
       "    });\n",
       "    button.addEventListener(\n",
       "        'mouseover',\n",
       "        on_mouseover_closure('Stop Interaction')\n",
       "    );\n",
       "    buttongrp.appendChild(button);\n",
       "    var titlebar = this.root.querySelector('.ui-dialog-titlebar');\n",
       "    titlebar.insertBefore(buttongrp, titlebar.firstChild);\n",
       "};\n",
       "\n",
       "mpl.figure.prototype._remove_fig_handler = function (event) {\n",
       "    var fig = event.data.fig;\n",
       "    if (event.target !== this) {\n",
       "        // Ignore bubbled events from children.\n",
       "        return;\n",
       "    }\n",
       "    fig.close_ws(fig, {});\n",
       "};\n",
       "\n",
       "mpl.figure.prototype._root_extra_style = function (el) {\n",
       "    el.style.boxSizing = 'content-box'; // override notebook setting of border-box.\n",
       "};\n",
       "\n",
       "mpl.figure.prototype._canvas_extra_style = function (el) {\n",
       "    // this is important to make the div 'focusable\n",
       "    el.setAttribute('tabindex', 0);\n",
       "    // reach out to IPython and tell the keyboard manager to turn it's self\n",
       "    // off when our div gets focus\n",
       "\n",
       "    // location in version 3\n",
       "    if (IPython.notebook.keyboard_manager) {\n",
       "        IPython.notebook.keyboard_manager.register_events(el);\n",
       "    } else {\n",
       "        // location in version 2\n",
       "        IPython.keyboard_manager.register_events(el);\n",
       "    }\n",
       "};\n",
       "\n",
       "mpl.figure.prototype._key_event_extra = function (event, _name) {\n",
       "    // Check for shift+enter\n",
       "    if (event.shiftKey && event.which === 13) {\n",
       "        this.canvas_div.blur();\n",
       "        // select the cell after this one\n",
       "        var index = IPython.notebook.find_cell_index(this.cell_info[0]);\n",
       "        IPython.notebook.select(index + 1);\n",
       "    }\n",
       "};\n",
       "\n",
       "mpl.figure.prototype.handle_save = function (fig, _msg) {\n",
       "    fig.ondownload(fig, null);\n",
       "};\n",
       "\n",
       "mpl.find_output_cell = function (html_output) {\n",
       "    // Return the cell and output element which can be found *uniquely* in the notebook.\n",
       "    // Note - this is a bit hacky, but it is done because the \"notebook_saving.Notebook\"\n",
       "    // IPython event is triggered only after the cells have been serialised, which for\n",
       "    // our purposes (turning an active figure into a static one), is too late.\n",
       "    var cells = IPython.notebook.get_cells();\n",
       "    var ncells = cells.length;\n",
       "    for (var i = 0; i < ncells; i++) {\n",
       "        var cell = cells[i];\n",
       "        if (cell.cell_type === 'code') {\n",
       "            for (var j = 0; j < cell.output_area.outputs.length; j++) {\n",
       "                var data = cell.output_area.outputs[j];\n",
       "                if (data.data) {\n",
       "                    // IPython >= 3 moved mimebundle to data attribute of output\n",
       "                    data = data.data;\n",
       "                }\n",
       "                if (data['text/html'] === html_output) {\n",
       "                    return [cell, data, j];\n",
       "                }\n",
       "            }\n",
       "        }\n",
       "    }\n",
       "};\n",
       "\n",
       "// Register the function which deals with the matplotlib target/channel.\n",
       "// The kernel may be null if the page has been refreshed.\n",
       "if (IPython.notebook.kernel !== null) {\n",
       "    IPython.notebook.kernel.comm_manager.register_target(\n",
       "        'matplotlib',\n",
       "        mpl.mpl_figure_comm\n",
       "    );\n",
       "}\n"
      ],
      "text/plain": [
       "<IPython.core.display.Javascript object>"
      ]
     },
     "metadata": {},
     "output_type": "display_data"
    },
    {
     "data": {
      "text/html": [
       "<img src=\"data:image/png;base64,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\" width=\"431.818172458775\">"
      ],
      "text/plain": [
       "<IPython.core.display.HTML object>"
      ]
     },
     "metadata": {},
     "output_type": "display_data"
    }
   ],
   "source": [
    "plt.plot(vals,squares);"
   ]
  },
  {
   "cell_type": "code",
   "execution_count": 77,
   "metadata": {},
   "outputs": [],
   "source": [
    "%matplotlib inline"
   ]
  },
  {
   "cell_type": "markdown",
   "metadata": {},
   "source": [
    "Note that this ```plot``` interpolates among the data points. I.e., we can look at an $x$ value of 14 and see that the corresponding $y$ value is around 200. But those values *do not exist* in the data.\n",
    "\n",
    "* Our choice of plot depends a lot on what we want to convey. If our data is sub-sampled from a continuous function (as in this case), then we probably want interpolation.\n",
    "\n",
    "* If we just want to see the data points, then we can instead use scatter plot:"
   ]
  },
  {
   "cell_type": "code",
   "execution_count": 78,
   "metadata": {},
   "outputs": [
    {
     "data": {
      "image/png": "[encoded data removed]",
      "text/plain": [
       "<Figure size 432x288 with 1 Axes>"
      ]
     },
     "metadata": {
      "needs_background": "light"
     },
     "output_type": "display_data"
    }
   ],
   "source": [
    "plt.scatter(vals,squares);"
   ]
  },
  {
   "cell_type": "markdown",
   "metadata": {},
   "source": [
    "Sometimes, we may want a continuous function with the $y$-values held constant (known as **zero-order hold**) until the next data point.\n",
    "\n",
    "* That is a step or staircase plot:"
   ]
  },
  {
   "cell_type": "code",
   "execution_count": 80,
   "metadata": {},
   "outputs": [
    {
     "data": {
      "image/png": "[encoded data removed]",
      "text/plain": [
       "<Figure size 432x288 with 1 Axes>"
      ]
     },
     "metadata": {
      "needs_background": "light"
     },
     "output_type": "display_data"
    }
   ],
   "source": [
    "plt.step(vals,squares);"
   ]
  },
  {
   "cell_type": "markdown",
   "metadata": {},
   "source": [
    "Bar plots are usually used to show counts of items:"
   ]
  },
  {
   "cell_type": "code",
   "execution_count": 82,
   "metadata": {},
   "outputs": [
    {
     "data": {
      "image/png": "[encoded data removed]",
      "text/plain": [
       "<Figure size 432x288 with 1 Axes>"
      ]
     },
     "metadata": {
      "needs_background": "light"
     },
     "output_type": "display_data"
    }
   ],
   "source": [
    "plt.bar(vals,squares);"
   ]
  },
  {
   "cell_type": "markdown",
   "metadata": {},
   "source": [
    "We can [**style**](https://jakevdp.github.io/PythonDataScienceHandbook/04.11-settings-and-stylesheets.html) these plots in many different ways, and we will learn about the most important ways as we go through the class.\n",
    "\n",
    "* A quick way to change your plot style is:"
   ]
  },
  {
   "cell_type": "code",
   "execution_count": 83,
   "metadata": {},
   "outputs": [
    {
     "data": {
      "text/plain": [
       "[<matplotlib.lines.Line2D at 0x7fbc08a4d4f0>]"
      ]
     },
     "execution_count": 83,
     "metadata": {},
     "output_type": "execute_result"
    },
    {
     "data": {
      "image/png": "[encoded data removed]",
      "text/plain": [
       "<Figure size 432x288 with 1 Axes>"
      ]
     },
     "metadata": {
      "needs_background": "light"
     },
     "output_type": "display_data"
    }
   ],
   "source": [
    "plt.style.use('bmh')\n",
    "plt.plot(vals,squares);"
   ]
  },
  {
   "cell_type": "code",
   "execution_count": 85,
   "metadata": {},
   "outputs": [
    {
     "data": {
      "image/png": "[encoded data removed]",
      "text/plain": [
       "<Figure size 432x288 with 1 Axes>"
      ]
     },
     "metadata": {},
     "output_type": "display_data"
    }
   ],
   "source": [
    "plt.style.use('ggplot')\n",
    "plt.plot(vals,squares);"
   ]
  },
  {
   "cell_type": "code",
   "execution_count": 87,
   "metadata": {},
   "outputs": [
    {
     "data": {
      "image/png": "[encoded data removed]",
      "text/plain": [
       "<Figure size 432x288 with 1 Axes>"
      ]
     },
     "metadata": {},
     "output_type": "display_data"
    }
   ],
   "source": [
    "plt.bar(vals,squares);"
   ]
  },
  {
   "cell_type": "markdown",
   "metadata": {},
   "source": [
    "A style sheet reference for the latest versionn of Matplotlib can be found here:\n",
    "https://matplotlib.org/stable/gallery/style_sheets/style_sheets_reference.html"
   ]
  },
  {
   "cell_type": "markdown",
   "metadata": {},
   "source": [
    "### Resource to learn more about Plotting with Matplotlib\n",
    "\n",
    "Chapter 4 \"Visualization with Matplotlib\" from the online book [Python Data Science Handbook](https://jakevdp.github.io/PythonDataScienceHandbook/index.html) by Jake VanderPlas is a great resource to learn more about different types of plots, customize legends and colorbars, adding text annotations and more."
   ]
  },
  {
   "cell_type": "markdown",
   "metadata": {
    "slideshow": {
     "slide_type": "subslide"
    }
   },
   "source": [
    "# To prepare\n",
    "\n",
    "1. Download and install [Anaconda](https://www.anaconda.com/products/individual)\n",
    "2. Download and install [Git](https://git-scm.com/downloads)\n",
    "3. (Optional) Download and install [GitHub Desktop](https://desktop.github.com/)\n",
    "4. Join [GitHub organization](https://github.com/EEL3850-F22)\n",
    "5. Create your repository for [Short Assignment 0](https://ufl.instructure.com/courses/462942/assignments/5366998). You will be automatically added as a collaborator. We will send you an invitation to join organization as a member, only then you will have access to important repositories, such as Lectures.\n",
    "6. Clone the following repositories to your machine: [\"Lectures\"](https://github.com/EEL3850-F22/Lectures) and [\"Assignment-Solutions\"](https://github.com/EEL3850-F22/Assignment-Solutions).\n",
    "7. Take a look at the [**Modules** page in Canvas](https://ufl.instructure.com/courses/462942/modules) and get familiar with a typical lecture layout: it includes readings and activities to help you study. Module 1 has the jupyter notebooks (raw and in-class-edits) as well as the pdf of Thursday's lecture."
   ]
  },
  {
   "cell_type": "markdown",
   "metadata": {
    "slideshow": {
     "slide_type": "subslide"
    }
   },
   "source": [
    "**<h1 align=\"center\">Any Questions?</h1>**\n",
    "\n",
    "Feel free to email me afterwards or come talk with me or one of the TAs during office hours."
   ]
  },
  {
   "cell_type": "code",
   "execution_count": null,
   "metadata": {},
   "outputs": [],
   "source": []
  }
 ],
 "metadata": {
  "celltoolbar": "Slideshow",
  "kernelspec": {
   "display_name": "Python 3 (ipykernel)",
   "language": "python",
   "name": "python3"
  },
  "language_info": {
   "codemirror_mode": {
    "name": "ipython",
    "version": 3
   },
   "file_extension": ".py",
   "mimetype": "text/x-python",
   "name": "python",
   "nbconvert_exporter": "python",
   "pygments_lexer": "ipython3",
   "version": "3.8.13"
  },
  "latex_envs": {
   "LaTeX_envs_menu_present": true,
   "autoclose": false,
   "autocomplete": true,
   "bibliofile": "biblio.bib",
   "cite_by": "apalike",
   "current_citInitial": 1,
   "eqLabelWithNumbers": true,
   "eqNumInitial": 1,
   "hotkeys": {
    "equation": "Ctrl-E",
    "itemize": "Ctrl-I"
   },
   "labels_anchors": false,
   "latex_user_defs": false,
   "report_style_numbering": false,
   "user_envs_cfg": false
  },
  "varInspector": {
   "cols": {
    "lenName": 16,
    "lenType": 16,
    "lenVar": 40
   },
   "kernels_config": {
    "python": {
     "delete_cmd_postfix": "",
     "delete_cmd_prefix": "del ",
     "library": "var_list.py",
     "varRefreshCmd": "print(var_dic_list())"
    },
    "r": {
     "delete_cmd_postfix": ") ",
     "delete_cmd_prefix": "rm(",
     "library": "var_list.r",
     "varRefreshCmd": "cat(var_dic_list()) "
    }
   },
   "types_to_exclude": [
    "module",
    "function",
    "builtin_function_or_method",
    "instance",
    "_Feature"
   ],
   "window_display": false
  }
 },
 "nbformat": 4,
 "nbformat_minor": 4
}
