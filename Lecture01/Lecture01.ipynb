{
 "cells": [
  {
   "cell_type": "markdown",
   "metadata": {
    "slideshow": {
     "slide_type": "slide"
    }
   },
   "source": [
    "# Lecture 1\n",
    "* Introduction to Data Science\n",
    "* Getting Started with Git and Python Demonstrations\n",
    "* Introduction to Python\n",
    "* Random Experiments and Simulations"
   ]
  },
  {
   "cell_type": "markdown",
   "metadata": {
    "slideshow": {
     "slide_type": "slide"
    }
   },
   "source": [
    "# Teaching Team \n",
    "\n",
    "* **Instructor: Shreya Saxena** (Assistant Professor, ECE)\n",
    "\n",
    "* Office: NEB 433\n",
    "* Email: shreya.saxena@ece.ufl.edu"
   ]
  },
  {
   "cell_type": "markdown",
   "metadata": {
    "slideshow": {
     "slide_type": "fragment"
    }
   },
   "source": [
    "* **TA: Conrad Hellwege** (Junior, ECE)"
   ]
  },
  {
   "cell_type": "markdown",
   "metadata": {},
   "source": [
    "* **TA: Harrison Santiago** (Senior, Computer Science)"
   ]
  },
  {
   "cell_type": "markdown",
   "metadata": {
    "slideshow": {
     "slide_type": "slide"
    }
   },
   "source": [
    "## About Me\n",
    "\n",
    "* My pronous are she/her/hers\n",
    "\n",
    "* PhD in Electrical and Computer Engineering @ MIT\n",
    "\n",
    "* Postdoc in the Zuckerman Institute for Mind, Brain, Behavior @ Columbia University\n",
    "\n",
    "* Research interests: Neuro-AI (Neuroscience meets Artificial Intelligence)\n",
    "\n",
    "* I have lived in India, Switzerland, and the U.S. for approximately 1/3 of my life each.\n",
    "\n",
    "* I speak English, French, Hindi, and a little Spanish."
   ]
  },
  {
   "cell_type": "markdown",
   "metadata": {
    "slideshow": {
     "slide_type": "slide"
    }
   },
   "source": [
    "## Why should you care about Data Science?\n",
    "\n",
    "According to **Glassdoor**'s report [50 Best Jobs in America for 2022](https://www.glassdoor.com/List/Best-Jobs-in-America-LST_KQ0,20.htm):\n",
    "\n",
    "<div class=\"alert alert-info\" role=\"alert\">\n",
    "  <strong>Data Scientist ranks #3</strong>\n",
    "  \n",
    "Job Satisfaction: 4.1/5\n",
    "\n",
    "Median Base Salary: \\\\$120,000\n",
    "</div>\n",
    "\n",
    "\n",
    "[Why Data Science is Still a Top Job](https://www.datanami.com/2020/11/16/why-data-science-is-still-a-top-job/)"
   ]
  },
  {
   "cell_type": "markdown",
   "metadata": {
    "slideshow": {
     "slide_type": "subslide"
    }
   },
   "source": [
    "## What tools will we use to perform data science?"
   ]
  },
  {
   "cell_type": "code",
   "execution_count": 4,
   "metadata": {
    "slideshow": {
     "slide_type": "subslide"
    }
   },
   "outputs": [
    {
     "data": {
      "image/png": "[encoded data removed]",
      "text/plain": [
       "<IPython.core.display.Image object>"
      ]
     },
     "execution_count": 4,
     "metadata": {
      "image/png": {
       "width": 700
      }
     },
     "output_type": "execute_result"
    }
   ],
   "source": [
    "from IPython.display import Image\n",
    "Image('figures/tools.png', width=700)"
   ]
  },
  {
   "cell_type": "markdown",
   "metadata": {
    "slideshow": {
     "slide_type": "slide"
    }
   },
   "source": [
    "# EEL 3850 Data Science for ECE\n",
    "\n",
    "**Course Description:** (4 credits) Analysis, processing, simulation, and reasoning of data. Includes data conditioning and plotting, linear algebra, statistical methods, probability, simulation, and experimental design.\n",
    "\n",
    "* **<font color=blue>This course relies on both programming and math!</font>**\n",
    "\n",
    "* We will use **Python** almost every class, for class assignments, **and for exams**"
   ]
  },
  {
   "cell_type": "markdown",
   "metadata": {
    "slideshow": {
     "slide_type": "slide"
    }
   },
   "source": [
    "## Why Python?\n",
    "\n",
    "![DataScienceSoftware](https://i2.wp.com/r4stats.com/wp-content/uploads/2019/05/Fig-1a-IndeedJobs-2019-1.png?w=650)"
   ]
  },
  {
   "cell_type": "markdown",
   "metadata": {
    "slideshow": {
     "slide_type": "subslide"
    }
   },
   "source": [
    "## Programming in Python\n",
    "\n",
    "* You are **not** expected to already know Python\n",
    "* However, you do need good basic programming skills (in any language) to do well in this course"
   ]
  },
  {
   "cell_type": "markdown",
   "metadata": {
    "slideshow": {
     "slide_type": "subslide"
    }
   },
   "source": [
    "#### What Python proficiency to expect to learn in this class?\n",
    "\n",
    "I will **not** teach you **everything** you need to know about Python during class; instead, I will teach you how to use it for visualization, data processing, simulation, etc.\n",
    "\n",
    "* I **will** provide you with lots of resources and help to get going in Python\n",
    "\n",
    "* The teaching team **will** be available during office hours to help you with Python issues\n",
    "\n",
    "* You should expect to be at an intermediate proficiency by the end of the course, assuming you put in the work"
   ]
  },
  {
   "cell_type": "markdown",
   "metadata": {
    "slideshow": {
     "slide_type": "slide"
    }
   },
   "source": [
    "## Analytical work\n",
    "\n",
    "I will also be doing demonstrations and solving analytical exercises using probability and statistics concepts, which will require you to be proficient in Calculus.\n",
    "\n",
    "* I have uploaded to GitHub ([Lecture 0](https://github.com/EEL3850-F22/Lectures)) a set of notes with review material up to Calculus II (equivalent to MAC 2312).\n",
    "* No prior knowledge of probability or statistics is needed\n",
    "\n",
    "**Pre-requisite:** MAC 2312 (Calculus 2) and EEL 3134 (Programming 1). Students are expected to bring a portable computer to class meetings."
   ]
  },
  {
   "cell_type": "markdown",
   "metadata": {
    "slideshow": {
     "slide_type": "slide"
    }
   },
   "source": [
    "# So... what is Data Science?"
   ]
  },
  {
   "cell_type": "markdown",
   "metadata": {
    "slideshow": {
     "slide_type": "subslide"
    }
   },
   "source": [
    "Data science is a multidisciplinary approach to extracting actionable insights from the large and ever-increasing volumes of data collected and created by today’s organizations. Data science encompasses preparing data for analysis and processing, performing advanced data analysis, and presenting the results to reveal patterns and enable stakeholders to draw informed conclusions.\n",
    "\n",
    "Data preparation can involve cleansing, aggregating, and manipulating it to be ready for specific types of processing. Analysis requires the development and use of algorithms, analytics and AI models. It’s driven by software that combs through data to find patterns within to transform these patterns into predictions that support business decision-making. The accuracy of these predictions must be validated through scientifically designed tests and experiments. And the results should be shared through the skillful use of data visualization tools that make it possible for anyone to see the patterns and understand trends."
   ]
  },
  {
   "cell_type": "markdown",
   "metadata": {
    "slideshow": {
     "slide_type": "subslide"
    }
   },
   "source": [
    "As a result, data scientists require computer science and pure science skills beyond those of a typical data analyst. A data scientist must be able to do the following:\n",
    "\n",
    "* Apply mathematics, statistics, and the scientific method\n",
    "* Use a wide range of tools and techniques for evaluating and preparing data\n",
    "* Extract insights from data using predictive analytics and artificial intelligence (AI), including machine learning and deep learning models\n",
    "* Write applications that automate data processing and calculations\n",
    "* Tell—and illustrate—stories that clearly convey the meaning of results to decision-makers and stakeholders at every level of technical knowledge and understanding\n",
    "* Explain how these results can be used to solve business problems\n",
    "\n",
    "This combination of skills is rare, and it's no surprise that data scientists are currently in high demand"
   ]
  },
  {
   "cell_type": "markdown",
   "metadata": {
    "slideshow": {
     "slide_type": "subslide"
    }
   },
   "source": [
    "## The Data Science Lifecycle\n",
    "\n",
    "The data science lifecycle—also called the data science pipeline—includes anywhere from five to sixteen (depending on whom you ask) overlapping, continuing processes. The processes common to just about everyone’s definition of the lifecycle include the following:\n",
    "\n",
    "1. **Capture**: This is the gathering of raw structured and unstructured data from all relevant sources via just about any method—from manual entry and web scraping to capturing data from systems and devices in real time.\n",
    "\n",
    "2. **Prepare and maintain**: This involves putting the raw data into a consistent format for analytics or machine learning or deep learning models. This can include everything from cleansing, deduplicating, and reformatting the data, to using ETL (extract, transform, load) or other data integration technologies to combine the data into a data warehouse, data lake, or other unified store for analysis.\n",
    "\n",
    "3. **Preprocess or process**: Here, data scientists examine biases, patterns, ranges, and distributions of values within the data to determine the data's suitability for use with predictive analytics, machine learning, and/or deep learning algorithms (or other analytical methods).\n",
    "\n",
    "4. **Analyze**: This is where the discovery happens—where data scientists perform statistical analysis, predictive analytics, regression, machine learning and deep learning algorithms, and more to extract insights from the prepared data.\n",
    "\n",
    "5. **Communicate**: Finally, the insights are presented as reports, charts, and other data visualizations that make the insights—and their impact on the business—easier for decision-makers to understand. A data science programming language such as Python (see below) includes components for generating visualizations such as Jupyter Notebooks; alternatively, data scientists can use dedicated visualization tools."
   ]
  },
  {
   "cell_type": "markdown",
   "metadata": {
    "slideshow": {
     "slide_type": "subslide"
    }
   },
   "source": [
    "### Some examples of data science problems we have studied in previous years:\n",
    "\n",
    "* Do gun laws reduce firearms mortality?\n",
    "\n",
    "* If we look at the effect of state laws on firearms mortalities, what other factors might be responsible for any observed differences? Do urban and rural states have different firearms mortalities? How about richer or poorer states?\n",
    "\n",
    "* Do males score higher on standardized high school math and science tests than females?\n",
    "\n",
    "* Do first pregnancies last longer than other pregnancies?\n",
    "\n",
    "* How should we measure the effectiveness of medical tests, including risks with false identification and missed detection of disease?\n",
    "\n",
    "* Has the temperature been increasing over the last decades?"
   ]
  },
  {
   "cell_type": "markdown",
   "metadata": {
    "slideshow": {
     "slide_type": "subslide"
    }
   },
   "source": [
    "## How does a typical lecture looks like?\n",
    "\n",
    "* We will use Jupyter Notebooks such as this one\n",
    "* I will publish the class notes **before** class\n",
    "* I will do live coding, you can follow along with your laptops\n",
    "* I will share the notebook with edits after class, and also push its pdf\n",
    "* I will use my iPad as a virtual whiteboard\n",
    "* I will share the handwritten whiteboard notes after class\n",
    "\n",
    "**All lectures will be pushed to GitHub**"
   ]
  },
  {
   "cell_type": "markdown",
   "metadata": {
    "slideshow": {
     "slide_type": "slide"
    }
   },
   "source": [
    "## Course Homepage\n",
    "\n",
    "In this course we will use two main organizations:\n",
    "\n",
    "1. [Canvas page](https://ufl.instructure.com/courses/462942): announcements, grades, send/receive emails, participation assignments through discussion boards, question and answering on assignment issues through discussion boards.\n",
    "\n",
    "2. [GitHub Organization](https://github.com/EEL3850-F22): I will post all lecture notes in this private organization. You will complete all assignments in a private repository and send its URL to Canvas as the assignment submission.\n",
    "    * In order to receive an invitation to join the organization, join the GitHub Classroom first by accepting and creating your repository for [Short Assignment 0](https://ufl.instructure.com/courses/462942/assignments/5366998) repository.\n",
    "    * **Clone the \"Lectures\" repository to your local machine and pull from that repository before class**\n",
    "    * Be sure to [download Git](https://git-scm.com/downloads)\n",
    "    * Complete one (or a few) introductory tutorials:\n",
    "        * Git bootcamp: https://help.github.com/categories/bootcamp/\n",
    "        * Tutorials: https://www.atlassian.com/git/tutorials/\n",
    "        * Interactive Introduction: https://try.github.io/"
   ]
  },
  {
   "cell_type": "markdown",
   "metadata": {
    "slideshow": {
     "slide_type": "subslide"
    }
   },
   "source": [
    "# Intro to GitHub\n",
    "\n",
    "Basic git commands:\n",
    "* ```git status```\n",
    "* ```git pull```\n",
    "* ```git add```\n",
    "* ```git commit```\n",
    "* ```git push```"
   ]
  },
  {
   "cell_type": "markdown",
   "metadata": {
    "slideshow": {
     "slide_type": "subslide"
    }
   },
   "source": [
    "## Git Demonstration\n",
    "\n",
    "Install and download [Git](https://git-scm.com/downloads) and [GitHub Desktop](https://desktop.github.com/).\n",
    "\n",
    "### 1. How to ```clone``` a repository\n",
    "\n",
    "You can use **Git Bash** to clone a repo or use GitHub Desktop. **I will demonstrate how to do it using Git Bash.** But all can also be easily performed using the interface GitHub Desktop. (Download and install [GitHub Desktop](https://desktop.github.com/))\n",
    "\n",
    "For example, let's create [\"Short Assignment 0\"](https://classroom.github.com/a/7r42e2Vn) repository and clone it.\n",
    "\n",
    "### 2. Getting the latest edits from a repository - use ```git pull```\n",
    "\n",
    "To ```pull``` from a repository, simply call ```git pull``` using Git Bash.\n",
    "\n",
    "\n",
    "### 3. How to manage files within a repo\n",
    "\n",
    "The 3 most used Git commands are: ```git pull```, ```git add```, ```git commit``` and ```git push```. You can call these commands directly on the **Git Bash** console within the cloned repository on your machine."
   ]
  },
  {
   "cell_type": "markdown",
   "metadata": {
    "slideshow": {
     "slide_type": "subslide"
    }
   },
   "source": [
    "This should be sufficient to get you started with Git and GitHub in this course. To learn more, watch the tutorials below:\n",
    "\n",
    "* Git bootcamp: https://help.github.com/categories/bootcamp/\n",
    "* Tutorials: https://www.atlassian.com/git/tutorials/\n",
    "* Interactive Introduction: https://try.github.io/\n",
    "\n",
    "The [Curious git](https://matthew-brett.github.io/curious-git/curious_git.html) is also a great resource."
   ]
  },
  {
   "cell_type": "markdown",
   "metadata": {
    "slideshow": {
     "slide_type": "slide"
    }
   },
   "source": [
    "## Course Objectives (as time allows)\n",
    "\n",
    "Upon completion of this course, the student will be able to:\n",
    "1. Implement, debug, and deploy Python code\n",
    "2. Generate visualizations to expose meaning in data\n",
    "3. Generate and understand the meaning and uses of summary statistics of data\n",
    "4. Model random phenomena using random variables\n",
    "5. Generate random variables with specified densities or distributions\n",
    "6. Conduct hypothesis tests using simulations and analysis\n",
    "7. Understand and use conditioning to simplify problems\n",
    "8. Estimate parameters of distributions from samples\n",
    "9. Understand dependence and independence among random phenomena\n",
    "10. Use statistical tests to determine or characterize dependence among random phenomena\n",
    "11. Design experiments to understand random phenomena\n",
    "12. Understand the difference between Bayesian statistics and classical statistics\n",
    "13. Use simulation to calculate Bayesian statistics\n",
    "14. Apply linear algebra for data processing and statistical calculations\n",
    "\n",
    "The main goal of this course is to equip the students with a data science mindset for successful practical implementations, in particular: understand, analyze, and design an approach to work with a data science or electrical engineering problem."
   ]
  },
  {
   "cell_type": "markdown",
   "metadata": {
    "slideshow": {
     "slide_type": "subslide"
    }
   },
   "source": [
    "### Contribution of course to meeting the professional component\n",
    "\n",
    "4 credits of Engineering Science\n",
    "\n",
    "**Relationship of course to program outcomes:**\n",
    "1. An ability to identify, formulate, and solve engineering problems by applying principles of engineering, science, and mathematics. $\\Rightarrow$ High\n",
    "\n",
    "2. An ability to apply both analysis and synthesis in the engineering design process, resulting in designs that meet desired needs. $\\Rightarrow$ High\n",
    "\n",
    "3. An ability to develop and conduct appropriate experimentation, analyze and interpret data, and use engineering judgment to draw conclusions. $\\Rightarrow$ High"
   ]
  },
  {
   "cell_type": "markdown",
   "metadata": {
    "slideshow": {
     "slide_type": "subslide"
    }
   },
   "source": [
    "## Time commitment\n",
    "\n",
    "This is an estimate:\n",
    "\n",
    "| Work | Hours/Week |\n",
    "| ---      |     ---    |\n",
    "| Attend lectures, ask questions |    3.33     |\n",
    "| Study/Read ~20 pages of lecture notes and code    |     4      |\n",
    "| Reading assignments  |   1.2  |\n",
    "| Homework exercises |   3 |\n",
    "| **Total**   | **11.5** | "
   ]
  },
  {
   "cell_type": "markdown",
   "metadata": {
    "slideshow": {
     "slide_type": "subslide"
    }
   },
   "source": [
    "## Software Required\n",
    "\n",
    "1. [**Anaconda Distribution**](https://www.anaconda.com/products/individual)\n",
    "\n",
    "* with Python 3.8\n",
    "* It includes all libraries, modules and tools we will use: Jupyter notebooks, ```NumPy```, ```Matplotlib```, ```SciPy```, ```Pandas```, ```scikit-learn```, ```random```\n",
    "* Download and install it before next class\n",
    "\n",
    "<h5 align=\"center\">Some popular libraries in Anaconda</h5>\n",
    "\n",
    "![Anaconda](https://optimise2.assets-servd.host/voracious-blesbok/production/Products/open-source-logos2x.png?w=700&q=80&auto=format&fit=crop&fp-x=0.5&fp-y=0.5&dm=1632326988&s=6dedae1aec55ae8f498d90b586fbc46f)"
   ]
  },
  {
   "cell_type": "markdown",
   "metadata": {
    "slideshow": {
     "slide_type": "subslide"
    }
   },
   "source": [
    "You have 2 options to manage your packages and virtual environment/s:\n",
    "\n",
    "1. using ```pip```. System that manages Python packages.\n",
    "2. using ```conda```. System that manages packages that may be written in any programming language. \n",
    "\n",
    "Since we will use Python packages, you can use either one of these systems to manage your virtual environment. Which one to use typically comes with your specific needs. I typically use ```conda``` and that would be sufficient for this course. \n",
    "\n",
    "Find help for creating and managing your **virtual environments**:\n",
    "\n",
    "* using ```conda``` to [manage virtual environments](https://docs.conda.io/projects/conda/en/latest/user-guide/tasks/manage-environments.html?highlight=environment#creating-an-environment-with-commands).\n",
    "* using ```pip``` to [manage virtual environments](https://packaging.python.org/guides/installing-using-pip-and-virtual-environments/)."
   ]
  },
  {
   "cell_type": "markdown",
   "metadata": {
    "slideshow": {
     "slide_type": "slide"
    }
   },
   "source": [
    "## Textbooks - Required"
   ]
  },
  {
   "cell_type": "markdown",
   "metadata": {
    "cell_style": "split",
    "slideshow": {
     "slide_type": "subslide"
    }
   },
   "source": [
    "1. **Introduction to Probability**\n",
    "\n",
    "* Author: Dimitri P. Bertsekas, John N. Tsitsiklis\n",
    "* Edition: 2nd\n",
    "* Publisher: Athena Scientific\n",
    "* Year: 2008\n",
    "* ISBN: 978-1-886529-23-6\n",
    "\n",
    "An **e-book version** will be cheaper and is perfectly fine for this course. The authors created an instructional digital version of the book and you can download it [here](https://www.vfu.bg/en/e-Learning/Math--Bertsekas_Tsitsiklis_Introduction_to_probability.pdf)\n",
    "\n",
    "![BertsekasTextbook](https://images-na.ssl-images-amazon.com/images/I/51YN28ow7rL._SX389_BO1,204,203,200_.jpg)"
   ]
  },
  {
   "cell_type": "markdown",
   "metadata": {
    "cell_style": "split",
    "slideshow": {
     "slide_type": "subslide"
    }
   },
   "source": [
    "2. **Introduction to Applied Linear Algebra - Vectors, Matrices, and Least Squares**\n",
    "\n",
    "* Author: Stephen Boyd\n",
    "* Edition: 1st\n",
    "* Publisher: Cambridge University Press\n",
    "* Year: 2018\n",
    "* ISBN: 978-1-886529-23-6\n",
    "\n",
    "An **e-book version** is freely available and is perfectly fine for this course: you can download it [here](http://vmls-book.stanford.edu/)\n",
    "\n",
    "![BoydTextbook](https://images-na.ssl-images-amazon.com/images/I/418ANMKbtQL._SX379_BO1,204,203,200_.jpg)"
   ]
  },
  {
   "cell_type": "markdown",
   "metadata": {
    "slideshow": {
     "slide_type": "subslide"
    }
   },
   "source": [
    "## Library Course Reserves\n",
    "\n",
    "* Additional readings will be listed in our Canvas page\n",
    "* All reading materials are available on Course Reserves with both hard copy (at Marston't library) and electronic access"
   ]
  },
  {
   "cell_type": "markdown",
   "metadata": {
    "slideshow": {
     "slide_type": "subslide"
    }
   },
   "source": [
    "## Course Schedule\n",
    "\n",
    "A complete course schedule can be found in our [Syllabus](https://ufl.instructure.com/courses/462942/assignments/syllabus).\n",
    "\n",
    "The semester will have 2 parts:\n",
    "\n",
    "1. **Probability and Statistics.** Main textbook is \"Introduction to Probability\". Week 1-8\n",
    "2. **Linear Algebra.** Main textbook is \"Introduction to Applied Linear Algebra\". Week 9-15"
   ]
  },
  {
   "attachments": {},
   "cell_type": "markdown",
   "metadata": {
    "slideshow": {
     "slide_type": "subslide"
    }
   },
   "source": [
    "## Course Policies\n",
    "\n",
    "Please read the syllabus carefully.\n",
    "\n",
    "1. **How to get help:** office hours, email (via Canvas or at shreya.saxena@ufl.edu), telephone, or Slack.\n",
    "    * Slack channel: https://uf-eel3850-fall2022.slack.com/\n",
    "    * To join: https://join.slack.com/t/uf-eel3850-fall2022/shared_invite/zt-1elh3dfav-fCYKsSPu~IVBbcAhb0Wuyw\n",
    "    \n",
    "    \n",
    "    * Office Hours (Saxena): R 5 (11:45am-12:35pm) NEB 433\n",
    "    * Office Hours (Hellwege): MW 12:30pm-1:20pm NEB 501\n",
    "    * Office Hours (Santiago): MW 4:30pm-5:20pm NEB 501\n",
    "    \n",
    "2. **Attendance:** attendance is not required though summative and cumulative assessments may happen during class time. I will prepare course materials with the expectation that students will attend class synchronously. If any schedule conflict comes up, please email me so I'm informed and we can work together for alternative arrangements.\n",
    "\n",
    "3. **Grading:** make sure your submissions are carefully completed with clean and well documented code. Make full use of Jupyter features, such as markdown text. Individual assignments will **not** be curved. Final grades **will** be curved.\n",
    "\n",
    "4. **Late Work:** I will accept all assignment submissions as long as solutions have not yet been released, but you will lose the **on-time** points listed in the rubric. Solutions will typically be released 1 week after the assignment is due.\n",
    "\n",
    "5. **Make-Up Policy:** If you feel that any assignment needs to be re-graded, you must discuss this with me within 1 week of grades being posted. If approved, the entire assignment will be subject to complete evaluation. Excused absences must be consistent with university policies in the [graduate catalog](https://catalog.ufl.edu/graduate/?catoid=10&navoid=2020#attendance) and require appropriate documentation\n",
    "\n",
    "6. **Collaboration:** healthy collaboration is encouraged. If another student contributes substantially to your understanding of a problem, you should cite this student. You will not be negatively judged for citing another student.\n",
    "\n",
    "7. **Cheating and Plagiarism:** you are expected to submit your own work. If you are suspected of dishonest academic activity, I will invite you to discuss it further in private. Academic dishonesty will likely result in grade reduction, with severity depending on the nature of the dishonest activity. I am obligated to report on academic misconduct with a letter to the department, college and/or university leadership. Repeat offenses will be treated with significantly greater severity."
   ]
  },
  {
   "cell_type": "markdown",
   "metadata": {
    "slideshow": {
     "slide_type": "subslide"
    }
   },
   "source": [
    "## Grading\n",
    "\n",
    "Grading will be based on: \n",
    "\n",
    "|Assignment|Total|Percentage Final Grade|\n",
    "|---|---|---|\n",
    "| Exams | 3 | 20% each|\n",
    "| Homework | ~ 6 | 15%|\n",
    "| Short Assignments | ~ 8 | 15% |\n",
    "| Participation | ~5 | 10%|\n",
    "\n",
    "**Homeworks** will have 2 parts: (1) analytical exercises, typically solved on paper. (2) practical problems to be implemented in Python.\n",
    "\n",
    "**Exams** will be drawn from lectures and readings. Practice exams will be provided. \n",
    "\n",
    "**Short Assignments** will typically consist of short problems (with shorter turnaround time) to help consolidate and retain the information learned in class.\n",
    "\n",
    "**Participation** will be in the form of discussion boards participation and class participation"
   ]
  },
  {
   "attachments": {},
   "cell_type": "markdown",
   "metadata": {
    "slideshow": {
     "slide_type": "subslide"
    }
   },
   "source": [
    "**<h2 align=\"center\"><font color=orange> Exams!</font></h2>**\n",
    "\n",
    "* <h3><font color=blue> Exam 1: September 26th @ 8:20 PM - 10:20 PM (tentative)</font></h3>\n",
    "\n",
    "* <h3><font color=blue> Exam 2: November 2nd @ 8:20 PM - 10:20 PM (tentative)</font></h3>\n",
    "\n",
    "* <h3><font color=blue> Exam 3: December 15th @ 10:00 AM - 12:00 PM</font></h3>"
   ]
  },
  {
   "cell_type": "markdown",
   "metadata": {
    "slideshow": {
     "slide_type": "subslide"
    }
   },
   "source": [
    "#### Grading Scale\n",
    "\n",
    "Individual assignments will not be curved. **Final grades will be curved**, participation points will be used in grade boosting.\n",
    "\n",
    "|Percent|Grade|Grade Points|\n",
    "|--|--|--|\n",
    "|93.4 - 100| A| 4.00|\n",
    "|90.0 - 93.3| A-|3.67|\n",
    "|86.7 - 89.9| B+|3.33|\n",
    "|83.4 - 86.6| B |3.00|\n",
    "|80.0 - 83.3| B- |2.67|\n",
    "|76.7 - 79.9| C+ |2.33|\n",
    "|73.4 - 76.6| C |2.00|\n",
    "|70.0 - 73.3| C- |1.67|\n",
    "|66.7 - 69.9| D+ |1.33|\n",
    "|63.4 - 66.6| D |1.00|\n",
    "|60.0 - 63.3| D- |0.67|\n",
    "|0 - 59.9| E |0.00|"
   ]
  },
  {
   "cell_type": "markdown",
   "metadata": {
    "slideshow": {
     "slide_type": "subslide"
    }
   },
   "source": [
    "## Students Requiring Accommodations\n",
    "\n",
    "Students with disabilities who experience learning barriers and would like to request academic accommodations should connect with the disability Resource Center by visiting https://disability.ufl.edu/students/get-started/. \n",
    "\n",
    "* Please make sure you share your accommodation letter with me as soon as you have it, so we can discuss your access needs."
   ]
  },
  {
   "cell_type": "markdown",
   "metadata": {
    "slideshow": {
     "slide_type": "subslide"
    }
   },
   "source": [
    "## Course Evaluations\n",
    "\n",
    "You are expected to provide professional and respectful feedback on the quality of instruction in this course by completing the course evaluations online via GatorEvals.\n",
    "\n",
    "* The University is using a relatively new evaluation system, and evaluation results are now publicly available here: https://gatorevals.aa.ufl.edu/public-results/\n",
    "\n",
    "* Guidance on how to give feedback in a professional and respectful manner is available at https://gatorevals.aa.ufl.edu/students/. \n",
    "\n",
    "* You will be notified when the evaluation period opens, and can complete evaluations through the email you receive from GatorEvals, in the Canvas course menu under GatorEvals, or via https://ufl.bluera.com/ufl/."
   ]
  },
  {
   "cell_type": "markdown",
   "metadata": {
    "slideshow": {
     "slide_type": "subslide"
    }
   },
   "source": [
    "## University Honesty Policy\n",
    "\n",
    "All UF students are bound by The Honor Pledge which states:\n",
    "\n",
    "<h5 align=\"center\">We, the members of the University of Florida community, pledge to hold ourselves and our peers to the highest standards of honor and integrity by abiding by the Honor Code. On all work submitted for credit by students at the University of Florida, the following pledge is either required or implied: \"On my honor, I have neither given nor received unauthorized aid in doing this assignment.\"</h5>\n",
    "\n",
    "The [Honor Code](https://sccr.dso.ufl.edu/policies/student-honor-code-student-conduct-code/) specifies a number of behaviors that are in violation of this code and the possible sanctions. Furthermore, you are obligated to report any condition that facilitates academic misconduct to appropriate personnel. If you have any questions or concerns, please consult with the instructor or TAs in this class."
   ]
  },
  {
   "cell_type": "markdown",
   "metadata": {
    "slideshow": {
     "slide_type": "subslide"
    }
   },
   "source": [
    "## Commitment to a Safe and Inclusive Learning Environment\n",
    "\n",
    "The Herbert Wertheim College of Engineering values broad diversity within our community and is committed to individual and group empowerment, inclusion, and the elimination of discrimination.  It is expected that every person in this class will treat one another with dignity and respect regardless of gender, sexuality, disability, age, socioeconomic status, ethnicity, race, and culture.\n",
    "\n",
    "If you feel like your performance in class is being impacted by discrimination or harassment of any kind, please contact your instructor or any of the following:\n",
    "\n",
    "* Your academic advisor or Graduate Program Coordinator\n",
    "* Robin Bielling, Director of Human Resources, 352-392-0903, rbielling@eng.ufl.edu\n",
    "* Curtis Taylor, Associate Dean of Student Affairs, 352-392-2177, taylor@eng.ufl.edu\n",
    "* Toshikazu Nishida, Associate Dean of Academic Affairs, 352-392-0943, nishida@eng.ufl.edu\n",
    "\n",
    "**Software Use**\n",
    "\n",
    "All faculty, staff, and students of the University are required and expected to obey the laws and legal agreements governing software use.  Failure to do so can lead to monetary damages and/or criminal penalties for the individual violator.  Because such violations are also against University policies and rules, disciplinary action will be taken as appropriate.  We, the members of the University of Florida community, pledge to uphold ourselves and our peers to the highest standards of honesty and integrity.\n",
    "\n",
    "**Student Privacy**\n",
    "\n",
    "There are federal laws protecting your privacy with regards to grades earned in courses and on individual assignments.  For more information, please see:  https://registrar.ufl.edu/ferpa.html\n",
    "\n"
   ]
  },
  {
   "cell_type": "markdown",
   "metadata": {
    "slideshow": {
     "slide_type": "subslide"
    }
   },
   "source": [
    "## Health and Wellness\n",
    "\n",
    "**U Matter, We Care:**\n",
    "\n",
    "Your well-being is important to the University of Florida.  The U Matter, We Care initiative is committed to creating a culture of care on our campus by encouraging members of our community to look out for one another and to reach out for help if a member of our community is in need.  If you or a friend is in distress, please contact umatter@ufl.edu so that the U Matter, We Care Team can reach out to the student in distress.  A nighttime and weekend crisis counselor is available by phone at 352-392-1575.  The U Matter, We Care Team can help connect students to the many other helping resources available including, but not limited to, Victim Advocates, Housing staff, and the Counseling and Wellness Center.  Please remember that asking for help is a sign of strength.  In case of emergency, call 9-1-1.\n",
    "\n",
    "**Counseling and Wellness Center:** http://www.counseling.ufl.edu/cwc, and  392-1575; and the University Police Department: 392-1111 or 9-1-1 for emergencies. \n",
    "\n",
    "**Sexual Discrimination, Harassment, Assault, or Violence**\n",
    "If you or a friend has been subjected to sexual discrimination, sexual harassment, sexual assault, or violence contact the Office of Title IX Compliance, located at Yon Hall Room 427, 1908 Stadium Road, (352) 273-1094, title-ix@ufl.edu\n",
    "\n",
    "**Sexual Assault Recovery Services (SARS)**, Student Health Care Center, 392-1161. \n",
    "\n",
    "**University Police Department** at 392-1111 (or 9-1-1 for emergencies), or http://www.police.ufl.edu/. \n"
   ]
  },
  {
   "cell_type": "markdown",
   "metadata": {
    "slideshow": {
     "slide_type": "subslide"
    }
   },
   "source": [
    "## Academic Resources\n",
    "\n",
    "**E-learning technical support**, 352-392-4357 (select option 2) or e-mail to Learning-support@ufl.edu. https://lss.at.ufl.edu/help.shtml.\n",
    "\n",
    "**Career Resource Center**, Reitz Union, 392-1601.  Career assistance and counseling. https://www.crc.ufl.edu/.\n",
    "\n",
    "**Library Support**, http://cms.uflib.ufl.edu/ask. Various ways to receive assistance with respect to using the libraries or finding resources.\n",
    "\n",
    "**Teaching Center**, Broward Hall, 392-2010 or 392-6420. General study skills and tutoring. https://teachingcenter.ufl.edu/.\n",
    "\n",
    "**Writing Studio, 302 Tigert Hall**, 846-1138. Help brainstorming, formatting, and writing papers. https://writing.ufl.edu/writing-studio/.\n",
    "\n",
    "**Student Complaints Campus:** https://care.dso.ufl.edu.\n",
    "\n",
    "**On-Line Students Complaints:** http://www.distance.ufl.edu/student-complaint-process."
   ]
  },
  {
   "cell_type": "markdown",
   "metadata": {
    "slideshow": {
     "slide_type": "subslide"
    }
   },
   "source": [
    "**<h1 align=\"center\">Any Questions?</h1>**"
   ]
  },
  {
   "cell_type": "markdown",
   "metadata": {
    "slideshow": {
     "slide_type": "slide"
    }
   },
   "source": [
    "# Jupyter Notebooks\n",
    "\n",
    "The Jupyter notebook is a browser-based graphical interface to the **IPython** shell, and builds on a rich set of dynamic display capabilities.\n",
    "\n",
    "As well as executing Python/IPython statements, the notebook allows the user to include formatted text, static and dynamic visualizations, mathematical equations, and much more. Furthermore, these documents can be saved in a way that lets other people open them and execute the code on their own systems.\n",
    "\n",
    "Though the IPython notebook is viewed and edited through your web browser window, it must connect to a running Python process in order to execute code. This process (known as a \"kernel\") can be started by running one of the following ways: "
   ]
  },
  {
   "cell_type": "markdown",
   "metadata": {
    "slideshow": {
     "slide_type": "subslide"
    }
   },
   "source": [
    "## Python Environment Demonstration\n",
    "\n",
    "**Step 1:** Download and install [Anaconda](https://www.anaconda.com/products/individual) with Python 3.9 (default). If you are installing Anaconda for the first time, this will create a *base* environment with all the Anaconda libraries installed and **ready to run**.\n",
    "\n",
    "**Step 2:** (optional) Create a new environment and install all libraries.\n",
    "\n",
    "> *conda create --name eel3850*\n",
    "\n",
    "> *conda activate eel3850*\n",
    "\n",
    "> *conda install anaconda*\n",
    "\n",
    "**Step 3:** (optional) Customize your environment by installing [Jupyter Notebook extensions](https://jupyter-contrib-nbextensions.readthedocs.io/en/latest/install.html) and [RISE (Jupyter Notebook slideshow extensions)](https://rise.readthedocs.io/en/stable/installation.html).\n",
    "\n",
    "> *conda install -c conda-forge jupyter_contrib_nbextensions*\n",
    "\n",
    "> *conda install -c conda-forge rise*"
   ]
  },
  {
   "cell_type": "markdown",
   "metadata": {
    "slideshow": {
     "slide_type": "subslide"
    }
   },
   "source": [
    "## Launching Jupyter Notebooks\n",
    "\n",
    "Using Conda command line:\n",
    "\n",
    "> *conda activate eel3850*\n",
    "\n",
    "> *jupyter notebook* \n",
    "\n",
    "Or launch it with Anaconda navigator interface."
   ]
  },
  {
   "cell_type": "markdown",
   "metadata": {
    "cell_style": "center",
    "slideshow": {
     "slide_type": "subslide"
    }
   },
   "source": [
    "### How to open Jupyter\n",
    "\n",
    "I will do a quick demonstration on how to launch Jupyter Notebook (and other IDEs) in a specific environment."
   ]
  },
  {
   "cell_type": "markdown",
   "metadata": {
    "cell_style": "center",
    "slideshow": {
     "slide_type": "subslide"
    }
   },
   "source": [
    "### Creating new files & Jupyter Environment\n",
    "\n",
    "I will demonstrate how to create new files with Python 3 kernels and review Jupyter Environment."
   ]
  },
  {
   "cell_type": "markdown",
   "metadata": {
    "slideshow": {
     "slide_type": "subslide"
    }
   },
   "source": [
    "### Getting Extensions (optional)\n",
    "\n",
    "I have installed extra Jupyter functionalities supported by [Nbextensions](https://jupyter-contrib-nbextensions.readthedocs.io/en/latest/install.html). It includes a wide [list of functionalities](https://jupyter-contrib-nbextensions.readthedocs.io/en/latest/nbextensions.html) that you may find useful. \n",
    "\n",
    "I also have the slideshow extension for Jupyter Notebooks called [RISE](https://rise.readthedocs.io/en/stable/installation.html)."
   ]
  },
  {
   "cell_type": "markdown",
   "metadata": {
    "slideshow": {
     "slide_type": "slide"
    }
   },
   "source": [
    "# Introduction to Python"
   ]
  },
  {
   "cell_type": "markdown",
   "metadata": {
    "collapsed": true,
    "slideshow": {
     "slide_type": "slide"
    }
   },
   "source": [
    "## Python is an interpreted language\n",
    "\n",
    "* Programs do not need to be compiled before they are executed\n",
    "\n",
    "* Allows for rapid development and exploration (important for statistics/data science)"
   ]
  },
  {
   "cell_type": "markdown",
   "metadata": {
    "slideshow": {
     "slide_type": "fragment"
    }
   },
   "source": [
    "You can run the Python interpreter directly from the command line by calling ''python'' or ''python3''"
   ]
  },
  {
   "cell_type": "markdown",
   "metadata": {
    "slideshow": {
     "slide_type": "fragment"
    }
   },
   "source": [
    "We will instead use Juypter Notebook with a Python 3 kernel"
   ]
  },
  {
   "cell_type": "markdown",
   "metadata": {
    "collapsed": true,
    "slideshow": {
     "slide_type": "subslide"
    }
   },
   "source": [
    "A Jupyter notebook is divided into cells"
   ]
  },
  {
   "cell_type": "markdown",
   "metadata": {
    "slideshow": {
     "slide_type": "fragment"
    }
   },
   "source": [
    "Cells may be subdivided into an input cell and an output cell"
   ]
  },
  {
   "cell_type": "markdown",
   "metadata": {
    "slideshow": {
     "slide_type": "fragment"
    }
   },
   "source": [
    "Input cells generally either contain code or text \n",
    "* The Markdown language can be used to *format* text\n",
    "* LaTeX can be used to input math\n",
    "\n",
    "Cell type defaults to \"Code\" and can be changed to \"Markdown\" using the Cell->Cell Type menu or a keyboard shortcut (ESC-m in Windows)"
   ]
  },
  {
   "cell_type": "code",
   "execution_count": null,
   "metadata": {
    "slideshow": {
     "slide_type": "fragment"
    }
   },
   "outputs": [],
   "source": []
  },
  {
   "cell_type": "markdown",
   "metadata": {
    "slideshow": {
     "slide_type": "slide"
    }
   },
   "source": [
    "## Heading level 2\n",
    "\n",
    "* Item 1\n",
    "    - Item 2\n",
    "        1. Item 3\n",
    "    \n",
    "$$\\int_0^\\infty e^x~dx$$\n",
    "\n",
    "````python\n",
    "2+2\n",
    "def sum(a,b):\n",
    "    out = a+b\n",
    "    return out\n",
    "````"
   ]
  },
  {
   "cell_type": "markdown",
   "metadata": {
    "slideshow": {
     "slide_type": "subslide"
    }
   },
   "source": [
    "You can use *italic* and **bold** with the \\* and \\** sign, respectively, and mathematical equations with \\\\$ sign, in front and at the end of the equation: $x=1$.\n",
    "\n",
    "* You can also type in LateX using \\\\$ sign. Inline equation: $x^2 + y^2 = \\alpha^2$\n",
    "* Centered equation with double \\\\$ sign: $$x^2 + y^2 = \\alpha^2$$"
   ]
  },
  {
   "cell_type": "markdown",
   "metadata": {
    "slideshow": {
     "slide_type": "subslide"
    }
   },
   "source": [
    "Cells also may contain \"magics\", which are commands to the Jupyter notebook server\n",
    "\n",
    "* For instance, to determine which directory you are in, you can use the \"%pwd\" (print working directory) magic:"
   ]
  },
  {
   "cell_type": "code",
   "execution_count": null,
   "metadata": {
    "slideshow": {
     "slide_type": "fragment"
    }
   },
   "outputs": [],
   "source": []
  },
  {
   "cell_type": "markdown",
   "metadata": {
    "slideshow": {
     "slide_type": "fragment"
    }
   },
   "source": [
    "~ is short your home directory"
   ]
  },
  {
   "cell_type": "markdown",
   "metadata": {
    "slideshow": {
     "slide_type": "slide"
    }
   },
   "source": [
    "### Hello World!\n",
    "\n",
    "To print output in Python, use the print() function. It knows how to output many data types without providing explicit formatting (like printf in C)"
   ]
  },
  {
   "cell_type": "code",
   "execution_count": null,
   "metadata": {
    "slideshow": {
     "slide_type": "fragment"
    }
   },
   "outputs": [],
   "source": []
  },
  {
   "cell_type": "code",
   "execution_count": null,
   "metadata": {
    "slideshow": {
     "slide_type": "fragment"
    }
   },
   "outputs": [],
   "source": []
  },
  {
   "cell_type": "code",
   "execution_count": null,
   "metadata": {
    "slideshow": {
     "slide_type": "fragment"
    }
   },
   "outputs": [],
   "source": []
  },
  {
   "cell_type": "markdown",
   "metadata": {
    "slideshow": {
     "slide_type": "subslide"
    }
   },
   "source": [
    "* Code cells may contain multiple Python statements. \n",
    "* All statements in a cell will be run sequentially when the cell is run\n",
    "* Cells may be run using the \"play\" button, via the Cell-> Run Cells button or by using a keyboard command (usually shift-Enter)"
   ]
  },
  {
   "cell_type": "code",
   "execution_count": null,
   "metadata": {
    "slideshow": {
     "slide_type": "fragment"
    }
   },
   "outputs": [],
   "source": []
  },
  {
   "cell_type": "code",
   "execution_count": null,
   "metadata": {
    "slideshow": {
     "slide_type": "fragment"
    }
   },
   "outputs": [],
   "source": []
  },
  {
   "cell_type": "code",
   "execution_count": null,
   "metadata": {},
   "outputs": [],
   "source": []
  },
  {
   "cell_type": "markdown",
   "metadata": {
    "slideshow": {
     "slide_type": "subslide"
    }
   },
   "source": [
    "Anything that follows a # (hash) symbol is a comment:"
   ]
  },
  {
   "cell_type": "code",
   "execution_count": null,
   "metadata": {
    "slideshow": {
     "slide_type": "fragment"
    }
   },
   "outputs": [],
   "source": []
  },
  {
   "cell_type": "markdown",
   "metadata": {
    "slideshow": {
     "slide_type": "subslide"
    }
   },
   "source": [
    "There is not really a multi-line comment in Python (like /* */ in C). One way to make a multiline comment is to just make a multi-line string that is not assigned to any variable.  Multi-line strings are delimited by triple-ticks ('''):"
   ]
  },
  {
   "cell_type": "code",
   "execution_count": null,
   "metadata": {
    "slideshow": {
     "slide_type": "fragment"
    }
   },
   "outputs": [],
   "source": []
  },
  {
   "cell_type": "markdown",
   "metadata": {
    "slideshow": {
     "slide_type": "fragment"
    }
   },
   "source": [
    "When we make functions, a multi-line string right after the function definition serves as the docstring (documentation string) for that function."
   ]
  },
  {
   "cell_type": "code",
   "execution_count": null,
   "metadata": {
    "slideshow": {
     "slide_type": "subslide"
    }
   },
   "outputs": [],
   "source": []
  },
  {
   "cell_type": "code",
   "execution_count": null,
   "metadata": {
    "slideshow": {
     "slide_type": "fragment"
    }
   },
   "outputs": [],
   "source": []
  },
  {
   "cell_type": "code",
   "execution_count": null,
   "metadata": {
    "slideshow": {
     "slide_type": "fragment"
    }
   },
   "outputs": [],
   "source": []
  },
  {
   "cell_type": "markdown",
   "metadata": {
    "slideshow": {
     "slide_type": "slide"
    }
   },
   "source": [
    "## Python is a dynamically typed language"
   ]
  },
  {
   "cell_type": "markdown",
   "metadata": {
    "slideshow": {
     "slide_type": "fragment"
    }
   },
   "source": [
    "Variable types are determined when they are assigned values"
   ]
  },
  {
   "cell_type": "code",
   "execution_count": null,
   "metadata": {
    "slideshow": {
     "slide_type": "fragment"
    }
   },
   "outputs": [],
   "source": []
  },
  {
   "cell_type": "code",
   "execution_count": null,
   "metadata": {
    "slideshow": {
     "slide_type": "fragment"
    }
   },
   "outputs": [],
   "source": []
  },
  {
   "cell_type": "code",
   "execution_count": null,
   "metadata": {
    "slideshow": {
     "slide_type": "fragment"
    }
   },
   "outputs": [],
   "source": []
  },
  {
   "cell_type": "code",
   "execution_count": null,
   "metadata": {
    "slideshow": {
     "slide_type": "fragment"
    }
   },
   "outputs": [],
   "source": []
  },
  {
   "cell_type": "code",
   "execution_count": null,
   "metadata": {
    "slideshow": {
     "slide_type": "fragment"
    }
   },
   "outputs": [],
   "source": []
  },
  {
   "cell_type": "code",
   "execution_count": null,
   "metadata": {
    "slideshow": {
     "slide_type": "fragment"
    }
   },
   "outputs": [],
   "source": []
  },
  {
   "cell_type": "code",
   "execution_count": null,
   "metadata": {
    "slideshow": {
     "slide_type": "fragment"
    }
   },
   "outputs": [],
   "source": []
  },
  {
   "cell_type": "markdown",
   "metadata": {
    "slideshow": {
     "slide_type": "subslide"
    }
   },
   "source": [
    "Python will usually do the *right thing* based on the type of the variable"
   ]
  },
  {
   "cell_type": "code",
   "execution_count": null,
   "metadata": {
    "slideshow": {
     "slide_type": "fragment"
    }
   },
   "outputs": [],
   "source": []
  },
  {
   "cell_type": "code",
   "execution_count": null,
   "metadata": {
    "slideshow": {
     "slide_type": "fragment"
    }
   },
   "outputs": [],
   "source": []
  },
  {
   "cell_type": "markdown",
   "metadata": {
    "slideshow": {
     "slide_type": "subslide"
    }
   },
   "source": [
    "<font color=red>Just be careful of the implications of this:</font>"
   ]
  },
  {
   "cell_type": "code",
   "execution_count": null,
   "metadata": {
    "slideshow": {
     "slide_type": "fragment"
    }
   },
   "outputs": [],
   "source": []
  },
  {
   "cell_type": "markdown",
   "metadata": {
    "slideshow": {
     "slide_type": "subslide"
    }
   },
   "source": [
    "You can add color to your text by using the code ```<font color=blue|red|green|pink|yellow>Text</font>```"
   ]
  },
  {
   "cell_type": "markdown",
   "metadata": {
    "slideshow": {
     "slide_type": "fragment"
    }
   },
   "source": [
    "You can also add hyperlinks to your text like this, e.g. [Canvas page](https://ufl.instructure.com/courses/447946)"
   ]
  },
  {
   "cell_type": "markdown",
   "metadata": {
    "slideshow": {
     "slide_type": "fragment"
    }
   },
   "source": [
    "Sometimes I will use *Bootstrap alerts* to emphasize new concepts or convey new information:\n",
    "\n",
    "<div class=\"alert alert-info\" role=\"alert\">\n",
    "    <b>Bootstrap alerts</b>\n",
    "    \n",
    "  All of these markdown rules can also be used when you are editing READ ME files on GitHub!\n",
    "</div>"
   ]
  },
  {
   "cell_type": "markdown",
   "metadata": {
    "slideshow": {
     "slide_type": "slide"
    }
   },
   "source": [
    "## Indentation conveys meaning in Python"
   ]
  },
  {
   "cell_type": "markdown",
   "metadata": {
    "slideshow": {
     "slide_type": "fragment"
    }
   },
   "source": [
    "Use indentation to indicate code blocks that belong together"
   ]
  },
  {
   "cell_type": "code",
   "execution_count": null,
   "metadata": {
    "slideshow": {
     "slide_type": "fragment"
    }
   },
   "outputs": [],
   "source": []
  },
  {
   "cell_type": "code",
   "execution_count": null,
   "metadata": {
    "slideshow": {
     "slide_type": "fragment"
    }
   },
   "outputs": [],
   "source": []
  },
  {
   "cell_type": "code",
   "execution_count": null,
   "metadata": {},
   "outputs": [],
   "source": []
  },
  {
   "cell_type": "code",
   "execution_count": null,
   "metadata": {
    "slideshow": {
     "slide_type": "subslide"
    }
   },
   "outputs": [],
   "source": []
  },
  {
   "cell_type": "markdown",
   "metadata": {
    "slideshow": {
     "slide_type": "fragment"
    }
   },
   "source": [
    "Ranges in Python start by default at 0 and are exclusive of the end point (I.e., if started at 0, the end point is also the length of the sequence)"
   ]
  },
  {
   "cell_type": "code",
   "execution_count": null,
   "metadata": {
    "slideshow": {
     "slide_type": "fragment"
    }
   },
   "outputs": [],
   "source": []
  },
  {
   "cell_type": "markdown",
   "metadata": {
    "slideshow": {
     "slide_type": "slide"
    }
   },
   "source": [
    "## Main Data Types\n",
    "\n",
    "The main data types in Python are:\n",
    "* numbers (int, float, complex)\n",
    "* string\n",
    "* list\n",
    "* tuple\n",
    "* dictionary"
   ]
  },
  {
   "cell_type": "markdown",
   "metadata": {
    "slideshow": {
     "slide_type": "subslide"
    }
   },
   "source": [
    "All data types are objects. That means they have methods associated with them"
   ]
  },
  {
   "cell_type": "code",
   "execution_count": null,
   "metadata": {
    "slideshow": {
     "slide_type": "fragment"
    }
   },
   "outputs": [],
   "source": []
  },
  {
   "cell_type": "code",
   "execution_count": null,
   "metadata": {
    "slideshow": {
     "slide_type": "fragment"
    }
   },
   "outputs": [],
   "source": []
  },
  {
   "cell_type": "markdown",
   "metadata": {
    "slideshow": {
     "slide_type": "subslide"
    }
   },
   "source": [
    "Methods with __ __ are designated as private, but you can still call them:"
   ]
  },
  {
   "cell_type": "code",
   "execution_count": null,
   "metadata": {
    "slideshow": {
     "slide_type": "fragment"
    }
   },
   "outputs": [],
   "source": []
  },
  {
   "cell_type": "markdown",
   "metadata": {
    "slideshow": {
     "slide_type": "fragment"
    }
   },
   "source": [
    "Usually, you don't call the private methods because there are other ways of achieving the same thing that are easier to interpret:"
   ]
  },
  {
   "cell_type": "code",
   "execution_count": null,
   "metadata": {
    "slideshow": {
     "slide_type": "fragment"
    }
   },
   "outputs": [],
   "source": []
  },
  {
   "cell_type": "code",
   "execution_count": null,
   "metadata": {
    "slideshow": {
     "slide_type": "fragment"
    }
   },
   "outputs": [],
   "source": []
  },
  {
   "cell_type": "code",
   "execution_count": null,
   "metadata": {
    "slideshow": {
     "slide_type": "fragment"
    }
   },
   "outputs": [],
   "source": []
  },
  {
   "cell_type": "markdown",
   "metadata": {
    "slideshow": {
     "slide_type": "subslide"
    }
   },
   "source": [
    "### Mutability \n",
    "* Some data types in Python are **immutable**, i.e. they cannot be changed. These include numbers, strings, and tuples\n",
    "* Lists and dictionaries are **mutable**, they can be changed"
   ]
  },
  {
   "cell_type": "code",
   "execution_count": null,
   "metadata": {
    "slideshow": {
     "slide_type": "fragment"
    }
   },
   "outputs": [],
   "source": []
  },
  {
   "cell_type": "code",
   "execution_count": null,
   "metadata": {
    "slideshow": {
     "slide_type": "fragment"
    }
   },
   "outputs": [],
   "source": []
  },
  {
   "cell_type": "code",
   "execution_count": null,
   "metadata": {
    "slideshow": {
     "slide_type": "fragment"
    }
   },
   "outputs": [],
   "source": []
  },
  {
   "cell_type": "markdown",
   "metadata": {
    "slideshow": {
     "slide_type": "subslide"
    }
   },
   "source": [
    "How did a change if it is immutable? \n",
    "* $a$ did not change, a new tuple was created that added 4 to the previous tuple, and $a$ was updated to point to the new tuple. How can we tell?"
   ]
  },
  {
   "cell_type": "code",
   "execution_count": null,
   "metadata": {
    "slideshow": {
     "slide_type": "fragment"
    }
   },
   "outputs": [],
   "source": []
  },
  {
   "cell_type": "code",
   "execution_count": null,
   "metadata": {
    "slideshow": {
     "slide_type": "fragment"
    }
   },
   "outputs": [],
   "source": []
  },
  {
   "cell_type": "code",
   "execution_count": null,
   "metadata": {
    "slideshow": {
     "slide_type": "fragment"
    }
   },
   "outputs": [],
   "source": []
  },
  {
   "cell_type": "markdown",
   "metadata": {
    "slideshow": {
     "slide_type": "subslide"
    }
   },
   "source": [
    "Lists, on the other hand, are mutable:"
   ]
  },
  {
   "cell_type": "code",
   "execution_count": null,
   "metadata": {
    "slideshow": {
     "slide_type": "fragment"
    }
   },
   "outputs": [],
   "source": []
  },
  {
   "cell_type": "code",
   "execution_count": null,
   "metadata": {
    "slideshow": {
     "slide_type": "fragment"
    }
   },
   "outputs": [],
   "source": []
  },
  {
   "cell_type": "code",
   "execution_count": null,
   "metadata": {
    "slideshow": {
     "slide_type": "fragment"
    }
   },
   "outputs": [],
   "source": []
  },
  {
   "cell_type": "code",
   "execution_count": null,
   "metadata": {
    "slideshow": {
     "slide_type": "fragment"
    }
   },
   "outputs": [],
   "source": []
  },
  {
   "cell_type": "code",
   "execution_count": null,
   "metadata": {
    "slideshow": {
     "slide_type": "fragment"
    }
   },
   "outputs": [],
   "source": []
  },
  {
   "cell_type": "code",
   "execution_count": null,
   "metadata": {
    "slideshow": {
     "slide_type": "fragment"
    }
   },
   "outputs": [],
   "source": []
  },
  {
   "cell_type": "markdown",
   "metadata": {
    "slideshow": {
     "slide_type": "subslide"
    }
   },
   "source": [
    "In order to leave the original list unchanged, we need to *copy* it. This will create a new list in memory:"
   ]
  },
  {
   "cell_type": "code",
   "execution_count": null,
   "metadata": {
    "slideshow": {
     "slide_type": "fragment"
    }
   },
   "outputs": [],
   "source": []
  },
  {
   "cell_type": "code",
   "execution_count": null,
   "metadata": {
    "slideshow": {
     "slide_type": "fragment"
    }
   },
   "outputs": [],
   "source": []
  },
  {
   "cell_type": "code",
   "execution_count": null,
   "metadata": {
    "slideshow": {
     "slide_type": "fragment"
    }
   },
   "outputs": [],
   "source": []
  },
  {
   "cell_type": "markdown",
   "metadata": {
    "slideshow": {
     "slide_type": "subslide"
    }
   },
   "source": [
    "You can also append to lists with +:"
   ]
  },
  {
   "cell_type": "code",
   "execution_count": null,
   "metadata": {
    "slideshow": {
     "slide_type": "fragment"
    }
   },
   "outputs": [],
   "source": []
  },
  {
   "cell_type": "code",
   "execution_count": null,
   "metadata": {},
   "outputs": [],
   "source": []
  },
  {
   "cell_type": "markdown",
   "metadata": {
    "slideshow": {
     "slide_type": "fragment"
    }
   },
   "source": [
    "Lists and tuples may contain any other objects, including other lists and tuples:"
   ]
  },
  {
   "cell_type": "code",
   "execution_count": null,
   "metadata": {
    "slideshow": {
     "slide_type": "fragment"
    }
   },
   "outputs": [],
   "source": []
  },
  {
   "cell_type": "markdown",
   "metadata": {
    "slideshow": {
     "slide_type": "subslide"
    }
   },
   "source": [
    "Note that tuples and lists are ordered collections, and we can access their members directly:"
   ]
  },
  {
   "cell_type": "code",
   "execution_count": null,
   "metadata": {
    "slideshow": {
     "slide_type": "fragment"
    }
   },
   "outputs": [],
   "source": []
  },
  {
   "cell_type": "code",
   "execution_count": null,
   "metadata": {},
   "outputs": [],
   "source": []
  },
  {
   "cell_type": "code",
   "execution_count": null,
   "metadata": {
    "slideshow": {
     "slide_type": "fragment"
    }
   },
   "outputs": [],
   "source": []
  },
  {
   "cell_type": "markdown",
   "metadata": {
    "slideshow": {
     "slide_type": "fragment"
    }
   },
   "source": [
    "Negative indexes start from the end of the list, with -1 denoting the last member in the list:"
   ]
  },
  {
   "cell_type": "code",
   "execution_count": null,
   "metadata": {
    "slideshow": {
     "slide_type": "fragment"
    }
   },
   "outputs": [],
   "source": []
  },
  {
   "cell_type": "code",
   "execution_count": null,
   "metadata": {
    "slideshow": {
     "slide_type": "fragment"
    }
   },
   "outputs": [],
   "source": []
  },
  {
   "cell_type": "markdown",
   "metadata": {
    "slideshow": {
     "slide_type": "slide"
    }
   },
   "source": [
    "## Modules and Libraries"
   ]
  },
  {
   "cell_type": "markdown",
   "metadata": {
    "slideshow": {
     "slide_type": "fragment"
    }
   },
   "source": [
    "Many of the tools we will use in the class are not directly part of Python."
   ]
  },
  {
   "cell_type": "code",
   "execution_count": null,
   "metadata": {
    "slideshow": {
     "slide_type": "fragment"
    }
   },
   "outputs": [],
   "source": []
  },
  {
   "cell_type": "markdown",
   "metadata": {
    "slideshow": {
     "slide_type": "subslide"
    }
   },
   "source": [
    "Instead, they are libraries or modules that provide particular functionality. These include:"
   ]
  },
  {
   "cell_type": "markdown",
   "metadata": {
    "slideshow": {
     "slide_type": "fragment"
    }
   },
   "source": [
    "* **NumPy** provides arrays, linear algebra, and math functions (many similar to the core MATLAB functions)\n",
    "* **Matplotlib** provides functions to generate plots similar to those in MATLAB\n",
    "* **pandas** provides tools for working with data\n",
    "* **SciPy** provides many tools used in scientific computing including optimization, signal processing, and statistics\n",
    "* **scikit-learn** provides various classification, regression, clustering algorithms and model implementations."
   ]
  },
  {
   "cell_type": "markdown",
   "metadata": {
    "slideshow": {
     "slide_type": "subslide"
    }
   },
   "source": [
    "<div class=\"alert alert-success\" role=\"alert\">\n",
    "  When you install the Anaconda distribution, all of these libraries will be installed in your machine!\n",
    "</div>"
   ]
  },
  {
   "cell_type": "markdown",
   "metadata": {
    "slideshow": {
     "slide_type": "fragment"
    }
   },
   "source": [
    "To work with these libraries, import them:"
   ]
  },
  {
   "cell_type": "code",
   "execution_count": null,
   "metadata": {
    "slideshow": {
     "slide_type": "fragment"
    }
   },
   "outputs": [],
   "source": []
  },
  {
   "cell_type": "code",
   "execution_count": null,
   "metadata": {
    "slideshow": {
     "slide_type": "fragment"
    }
   },
   "outputs": [],
   "source": []
  },
  {
   "cell_type": "code",
   "execution_count": null,
   "metadata": {
    "slideshow": {
     "slide_type": "fragment"
    }
   },
   "outputs": [],
   "source": []
  },
  {
   "cell_type": "markdown",
   "metadata": {
    "slideshow": {
     "slide_type": "fragment"
    }
   },
   "source": [
    "To reduce typing, you can relabel a library on import:"
   ]
  },
  {
   "cell_type": "code",
   "execution_count": null,
   "metadata": {
    "slideshow": {
     "slide_type": "fragment"
    }
   },
   "outputs": [],
   "source": []
  },
  {
   "cell_type": "code",
   "execution_count": null,
   "metadata": {
    "slideshow": {
     "slide_type": "fragment"
    }
   },
   "outputs": [],
   "source": []
  },
  {
   "cell_type": "markdown",
   "metadata": {},
   "source": [
    "Let's take a look at how we can customize and stylize our visualizations using ```Matplotlib```."
   ]
  },
  {
   "cell_type": "markdown",
   "metadata": {},
   "source": [
    "The first thing we need to do is import the library:"
   ]
  },
  {
   "cell_type": "code",
   "execution_count": null,
   "metadata": {},
   "outputs": [],
   "source": []
  },
  {
   "cell_type": "code",
   "execution_count": null,
   "metadata": {},
   "outputs": [],
   "source": []
  },
  {
   "cell_type": "code",
   "execution_count": null,
   "metadata": {},
   "outputs": [],
   "source": []
  },
  {
   "cell_type": "code",
   "execution_count": null,
   "metadata": {},
   "outputs": [],
   "source": []
  },
  {
   "cell_type": "markdown",
   "metadata": {},
   "source": [
    "On top of the normal Python syntax, IPython has *magic commands*, that are prefixed by the ```%``` character. There are many [magic commands](https://jakevdp.github.io/PythonDataScienceHandbook/01.03-magic-commands.html), these are particularly useful when using Matplotlib:"
   ]
  },
  {
   "cell_type": "code",
   "execution_count": null,
   "metadata": {},
   "outputs": [],
   "source": []
  },
  {
   "cell_type": "code",
   "execution_count": null,
   "metadata": {},
   "outputs": [],
   "source": []
  },
  {
   "cell_type": "code",
   "execution_count": null,
   "metadata": {},
   "outputs": [],
   "source": []
  },
  {
   "cell_type": "code",
   "execution_count": null,
   "metadata": {},
   "outputs": [],
   "source": []
  },
  {
   "cell_type": "code",
   "execution_count": null,
   "metadata": {},
   "outputs": [],
   "source": []
  },
  {
   "cell_type": "code",
   "execution_count": null,
   "metadata": {},
   "outputs": [],
   "source": []
  },
  {
   "cell_type": "markdown",
   "metadata": {},
   "source": [
    "Note that this ```plot``` interpolates among the data points. I.e., we can look at an $x$ value of 14 and see that the corresponding $y$ value is around 200. But those values *do not exist* in the data.\n",
    "\n",
    "* Our choice of plot depends a lot on what we want to convey. If our data is sub-sampled from a continuous function (as in this case), then we probably want interpolation.\n",
    "\n",
    "* If we just want to see the data points, then we can instead use scatter plot:"
   ]
  },
  {
   "cell_type": "code",
   "execution_count": null,
   "metadata": {},
   "outputs": [],
   "source": []
  },
  {
   "cell_type": "markdown",
   "metadata": {},
   "source": [
    "Sometimes, we may want a continuous function with the $y$-values held constant (known as **zero-order hold**) until the next data point.\n",
    "\n",
    "* That is a step or staircase plot:"
   ]
  },
  {
   "cell_type": "code",
   "execution_count": null,
   "metadata": {},
   "outputs": [],
   "source": []
  },
  {
   "cell_type": "markdown",
   "metadata": {},
   "source": [
    "Bar plots are usually used to show counts of items:"
   ]
  },
  {
   "cell_type": "code",
   "execution_count": null,
   "metadata": {},
   "outputs": [],
   "source": []
  },
  {
   "cell_type": "markdown",
   "metadata": {},
   "source": [
    "We can [**style**](https://jakevdp.github.io/PythonDataScienceHandbook/04.11-settings-and-stylesheets.html) these plots in many different ways, and we will learn about the most important ways as we go through the class.\n",
    "\n",
    "* A quick way to change your plot style is:"
   ]
  },
  {
   "cell_type": "code",
   "execution_count": null,
   "metadata": {},
   "outputs": [],
   "source": []
  },
  {
   "cell_type": "code",
   "execution_count": null,
   "metadata": {},
   "outputs": [],
   "source": []
  },
  {
   "cell_type": "code",
   "execution_count": null,
   "metadata": {},
   "outputs": [],
   "source": []
  },
  {
   "cell_type": "markdown",
   "metadata": {},
   "source": [
    "A style sheet reference for the latest versionn of Matplotlib can be found here:\n",
    "https://matplotlib.org/stable/gallery/style_sheets/style_sheets_reference.html"
   ]
  },
  {
   "cell_type": "markdown",
   "metadata": {},
   "source": [
    "### Resource to learn more about Plotting with Matplotlib\n",
    "\n",
    "Chapter 4 \"Visualization with Matplotlib\" from the online book [Python Data Science Handbook](https://jakevdp.github.io/PythonDataScienceHandbook/index.html) by Jake VanderPlas is a great resource to learn more about different types of plots, customize legends and colorbars, adding text annotations and more."
   ]
  },
  {
   "cell_type": "markdown",
   "metadata": {},
   "source": [
    "# Random Experiments"
   ]
  },
  {
   "cell_type": "markdown",
   "metadata": {},
   "source": [
    "What is a random experiment?"
   ]
  },
  {
   "cell_type": "markdown",
   "metadata": {},
   "source": [
    "<div class=\"alert alert-info\" role=\"alert\">\n",
    "  <strong>Random Experiment</strong> \n",
    "    \n",
    "A <strong>random experiment</strong> is an experiment for which the outcome is not completely predictable to an observer based on the observer's knowledge of the system and its inputs.\n",
    "</div>"
   ]
  },
  {
   "cell_type": "markdown",
   "metadata": {},
   "source": [
    "<div class=\"alert alert-info\" role=\"alert\">\n",
    "  <strong>Outcome</strong>\n",
    "    \n",
    "An <strong>outcome</strong> is a non-decomposable result (or output) of a random experiment.\n",
    "</div>"
   ]
  },
  {
   "cell_type": "markdown",
   "metadata": {},
   "source": [
    "**<font color=blue>Examples:</font>**\n",
    "\n",
    "1. Outcomes of flipping a coin: H, T\n",
    "\n",
    "2. Outcomes of rolling a die: 1,2,3,4,5,6\n",
    "    * example that is not an outcome: even=2 or 4 or 6 (decomposable)\n",
    "\n",
    "3. Outcomes for temperature: real numbers\n",
    "    * example that is not an outcome: >=90 \n",
    "\n",
    "4. Outcomes for favorite color"
   ]
  },
  {
   "cell_type": "markdown",
   "metadata": {},
   "source": [
    "<div class=\"alert alert-info\" role=\"alert\">\n",
    "  <strong>Sample Space</strong>\n",
    "    \n",
    "The set of all possible outcomes of a random experiment is called the <strong>sample space</strong> (or sometime the <strong>universal set</strong>). The sample space is denoted by $S$ or $\\Omega$.\n",
    "</div>\n",
    "\n",
    "(A **set** is an unordered collection of *unique* items. More information on sets and set operations will be posted to the course website.)"
   ]
  },
  {
   "cell_type": "markdown",
   "metadata": {},
   "source": [
    "## Random Experiment example\n",
    "\n",
    "Let's consider the following experiment:\n",
    "\n",
    "Given a coin:\n",
    "\n",
    "1. What is the sample space for 1 flip of the coin? {H, T}\n",
    "\n",
    "2. What is the sample space look like for 20 flips of the coin? {all possible ($x_1$,$x_2$,$\\dots$,$x_{20}$) where each $x_i$ is in $\\{H,T\\}$}"
   ]
  },
  {
   "cell_type": "markdown",
   "metadata": {},
   "source": [
    "<div class=\"alert alert-info\" role=\"alert\">\n",
    "  <strong>Event</strong>\n",
    "    \n",
    "A set of outcomes $E \\subset S$ (meaning $E$ is a subset of $S$) is called an <strong>event</strong>. We say that an event $E$ occurs if any of the outcomes in $E$ is the result of the experiment.\n",
    "</div>"
   ]
  },
  {
   "cell_type": "markdown",
   "metadata": {},
   "source": [
    "**<font color=blue>Examples:</font>**\n",
    "\n",
    "* A die comes up even $E=\\{2,4,6\\}$\n",
    "* The temperature is less than 40 degrees $E=(-\\infty, 40)$"
   ]
  },
  {
   "cell_type": "markdown",
   "metadata": {},
   "source": [
    "<div class=\"alert alert-info\" role=\"alert\">\n",
    "  <strong>Event Class</strong>\n",
    "    \n",
    "The <strong>event class</strong> is the set of all events to which we assign probability. For our purposes, it is a set of subsets of $S$. \n",
    "</div>\n",
    "\n",
    "If $S$ is finite, then the event class can be taken to be the power set of $S$ (the set of **all** subsets of $S$)."
   ]
  },
  {
   "cell_type": "markdown",
   "metadata": {},
   "source": [
    "**<font color=blue>Examples:</font>**\n",
    "\n",
    "* What is the event class for flipping a coin? $\\{ {H}, {T}, {H,T}, \\text{null}\\}$\n",
    "* What is the event class for rolling a die? $\\{\\text{null}, \\{1\\}, \\{2\\},\\dots, \\{6\\}, \\{1,2\\}, \\{1,3\\}, \\dots, \\{1,6\\}, \\dots, \\{6,6\\}, \\{1,2,3\\}, \\dots\\}$"
   ]
  },
  {
   "cell_type": "markdown",
   "metadata": {},
   "source": [
    "# First Random Experiment and Simulations"
   ]
  },
  {
   "cell_type": "markdown",
   "metadata": {},
   "source": [
    "Consider the following questions:\n",
    "\n",
    "1. **If you flip a coin 20 times, how many times do you think it will come up heads?** about 10 times\n",
    "\n",
    "2. **If you flip the coin 20 times and it comes up heads 6 times, do you think it is a *fair* or *unfair* coin? How *confident* can you be in your answer?**"
   ]
  },
  {
   "cell_type": "markdown",
   "metadata": {},
   "source": [
    "* Can you conduct an experiment to answer these questions? \n",
    "\n",
    "* What problems may you encounter in conducting this experiment? How can we overcome these problems?"
   ]
  },
  {
   "cell_type": "markdown",
   "metadata": {},
   "source": [
    "Answers:\n",
    "1. We expect the answer will be about 10 because the coin will come up heads one-half the time.\n",
    "\n",
    "2. We don't know yet how to answer this."
   ]
  },
  {
   "cell_type": "markdown",
   "metadata": {},
   "source": [
    "If we take a **fair coin** and flip it 20 times and count the number of heads, and then **repeat the experiment many times**, we can **estimate** how often 6 or fewer heads occurs. If it occurs very rarely (say, less than 5% of the time, then we can say that the coin is unlikely to be fair).\n",
    "\n",
    "*Here we use 6 or fewer heads because if 5 heads occurs, that is an even  more extreme outcome than 6 heads occurring, and so we want to count up how often we see an outcome as extreme OR MORE as 6 heads occurring.*"
   ]
  },
  {
   "cell_type": "markdown",
   "metadata": {},
   "source": [
    "* The **problem** is that we may need to repeat the experiment (of flipping the coin 20 times) many times to accurately estimate how often 6 or fewer heads come up. This may require thousands of coin flips!"
   ]
  },
  {
   "cell_type": "markdown",
   "metadata": {},
   "source": [
    "We can overcome this problem by using a computer to flip the coin in a **simulation**. A **computer simulation** is a computer program that models reality and allows us to conduct experiments that:\n",
    "\n",
    "* would require a lot of time to carry out in real life\n",
    "* would require a lot of resources to carry out in real life\n",
    "* would not be possible to repeat in real life (for instance, simulation of the next day's weather or stock market performance)"
   ]
  },
  {
   "cell_type": "markdown",
   "metadata": {},
   "source": [
    "Let's build simulations of our coin flip experiment and learn about some Python libraries:"
   ]
  },
  {
   "cell_type": "code",
   "execution_count": null,
   "metadata": {},
   "outputs": [],
   "source": []
  },
  {
   "cell_type": "code",
   "execution_count": null,
   "metadata": {},
   "outputs": [],
   "source": []
  },
  {
   "cell_type": "code",
   "execution_count": null,
   "metadata": {},
   "outputs": [],
   "source": []
  },
  {
   "cell_type": "code",
   "execution_count": null,
   "metadata": {},
   "outputs": [],
   "source": []
  },
  {
   "cell_type": "code",
   "execution_count": null,
   "metadata": {},
   "outputs": [],
   "source": []
  },
  {
   "cell_type": "code",
   "execution_count": null,
   "metadata": {},
   "outputs": [],
   "source": []
  },
  {
   "cell_type": "code",
   "execution_count": null,
   "metadata": {},
   "outputs": [],
   "source": []
  },
  {
   "cell_type": "code",
   "execution_count": null,
   "metadata": {},
   "outputs": [],
   "source": []
  },
  {
   "cell_type": "markdown",
   "metadata": {},
   "source": [
    "Running this repeatedly is a pain! Fortunately, the computer can automatically run it for us:"
   ]
  },
  {
   "cell_type": "code",
   "execution_count": null,
   "metadata": {},
   "outputs": [],
   "source": []
  },
  {
   "cell_type": "markdown",
   "metadata": {},
   "source": [
    "Suppose we want to see how often 6 or fewer heads occurs. We can reduce the printing by only printing those extreme events:"
   ]
  },
  {
   "cell_type": "code",
   "execution_count": null,
   "metadata": {},
   "outputs": [],
   "source": []
  },
  {
   "cell_type": "markdown",
   "metadata": {},
   "source": [
    "* We really don't care about the particular experiment on which those events occur. Instead, we are really just looking at the **frequency** of those events."
   ]
  },
  {
   "cell_type": "markdown",
   "metadata": {},
   "source": [
    "<div class=\"alert alert-info\" role=\"alert\">\n",
    "  <strong>Relative Frequency</strong>\n",
    "    \n",
    "The <strong>relative frequency</strong> of an event is the number of times that an event occurs divided by the number of times the experiment is conducted. \n",
    "</div>"
   ]
  },
  {
   "cell_type": "markdown",
   "metadata": {},
   "source": [
    "Let's modify the experiment to calculate the relative frequency of getting 6 or fewer heads on 20 flips of a fair coin:"
   ]
  },
  {
   "cell_type": "code",
   "execution_count": null,
   "metadata": {},
   "outputs": [],
   "source": []
  },
  {
   "cell_type": "markdown",
   "metadata": {},
   "source": [
    "* How does the relative frequency change with the number of experiments simulated?\n",
    "\n",
    "* For 1M simulated experiments, what is the relative frequency of 6 or fewer heads?\n",
    "\n",
    "* What is your conclusion about whether this could be a fair coin?\n",
    "\n",
    "* For 1M simulated experiments, what is the relative frequency of 4 or fewer heads?"
   ]
  },
  {
   "cell_type": "markdown",
   "metadata": {},
   "source": [
    "### Binary Hypothesis Testing\n",
    "\n",
    "This is an example of **binary hypothesis testing**. In this case, we set up two hypothesis:\n",
    "\n",
    "<div class=\"alert alert-info\">\n",
    "    <b>Hypothesis Test</b>\n",
    "    \n",
    "$H_0$: (the *null hypothesis*) is that the observed effect is just caused by randomness in the sampling. It is not real in the underlying system or data. For this exampe, our null hypothesis is that the coin is actually fair.\n",
    "\n",
    "$H_1$: (the *alternative hypothesis*) is that the observed effect is not just caused by random sampling. In this example, the coin is biased toward Tails.\n",
    "</div>"
   ]
  },
  {
   "cell_type": "markdown",
   "metadata": {},
   "source": [
    "In *classical statistics* when conducting hypothesis testing, we say that an effect is **<span style=\"color:blue\">statistically significant</span>** if the probability of observing an effect of that size under the null hypothesis is **smaller than some small threshold value $\\alpha$**. \n",
    "\n",
    "* Typical values of $\\alpha$ are 0.05 or 0.01, but many statisticians argue for even smaller values now. \n",
    "\n",
    "* **The threshold $\\alpha$ to determine statistical significance must always be determined before the experiment is conducted -- otherwise, there is too much temptation to adjust the threshold based on the observed relative frequency.**\n",
    "\n",
    "* The measured relative frequency of the observed effect is called the **<span style=\"color:blue\">$p$-value</span>**.\n",
    "\n",
    "In classical hypothesis testing, we do *not* test the alternative hypothesis directly, nor can we utilize side information that we may already have about the two hypotheses."
   ]
  },
  {
   "cell_type": "markdown",
   "metadata": {
    "slideshow": {
     "slide_type": "subslide"
    }
   },
   "source": [
    "**<h1 align=\"center\">Any Questions?</h1>**"
   ]
  },
  {
   "cell_type": "markdown",
   "metadata": {
    "slideshow": {
     "slide_type": "slide"
    }
   },
   "source": [
    "# Demonstrations"
   ]
  },
  {
   "cell_type": "markdown",
   "metadata": {
    "slideshow": {
     "slide_type": "subslide"
    }
   },
   "source": [
    "## Python Environment Demonstration\n",
    "\n",
    "**Step 1:** Download and install [Anaconda](https://www.anaconda.com/products/individual) with Python 3.9 (default). If you are installing Anaconda for the first time, this will create a *base* environment with all the Anaconda libraries installed and **ready to run**.\n",
    "\n",
    "**Step 2:** (optional) Create a new environment and install all libraries.\n",
    "\n",
    "> *conda create --name eel3850*\n",
    "\n",
    "> *conda activate eel3850*\n",
    "\n",
    "> *conda install anaconda*\n",
    "\n",
    "**Step 3:** (optional) Customize your environment by installing [Jupyter Notebook extensions](https://jupyter-contrib-nbextensions.readthedocs.io/en/latest/install.html) and [RISE (Jupyter Notebook slideshow extensions)](https://rise.readthedocs.io/en/stable/installation.html).\n",
    "\n",
    "> *conda install -c conda-forge jupyter_contrib_nbextensions*\n",
    "\n",
    "> *conda install -c conda-forge rise*"
   ]
  },
  {
   "cell_type": "markdown",
   "metadata": {
    "slideshow": {
     "slide_type": "subslide"
    }
   },
   "source": [
    "## Launching Jupyter Notebooks\n",
    "\n",
    "Using Conda command line:\n",
    "\n",
    "> *conda activate eel3850*\n",
    "\n",
    "> *jupyter notebook* \n",
    "\n",
    "Or launch it with Anaconda navigator interface."
   ]
  },
  {
   "cell_type": "markdown",
   "metadata": {
    "slideshow": {
     "slide_type": "subslide"
    }
   },
   "source": [
    "# To prepare\n",
    "\n",
    "1. Download and install [Anaconda](https://www.anaconda.com/products/individual)\n",
    "2. Download and install [Git](https://git-scm.com/downloads)\n",
    "3. (Optional) Download and install [GitHub Desktop](https://desktop.github.com/)\n",
    "4. Join [GitHub organization](https://github.com/EEL3850-F22)\n",
    "5. Create your repository for [Short Assignment 0](https://ufl.instructure.com/courses/462942/assignments/5366998). You will be automatically added as a collaborator. I will send you an invitation to join organization as a member, only then you will have access to important repositories, such as Lectures.\n",
    "6. Clone the following repositories to your machine: [\"Lectures\"](https://github.com/EEL3850-F22/Lectures) and [\"Assignment-Solutions\"](https://github.com/EEL3850-F22/Assignment-Solutions).\n",
    "7. Take a look at the [**Modules** page in Canvas](https://ufl.instructure.com/courses/462942/modules) and get familiar with a typical lecture layout: it includes readings and activities to help you study."
   ]
  },
  {
   "attachments": {},
   "cell_type": "markdown",
   "metadata": {
    "slideshow": {
     "slide_type": "subslide"
    }
   },
   "source": [
    "**<h1 align=\"center\">Any Questions?</h1>**\n",
    "\n",
    "Feel free to email me afterwards or come talk with me during office hours: Tuesdays and Thursdays @ 11:45am-12:35pm (NEB 433)"
   ]
  },
  {
   "cell_type": "code",
   "execution_count": null,
   "metadata": {},
   "outputs": [],
   "source": []
  }
 ],
 "metadata": {
  "celltoolbar": "Slideshow",
  "kernelspec": {
   "display_name": "Python 3 (ipykernel)",
   "language": "python",
   "name": "python3"
  },
  "language_info": {
   "codemirror_mode": {
    "name": "ipython",
    "version": 3
   },
   "file_extension": ".py",
   "mimetype": "text/x-python",
   "name": "python",
   "nbconvert_exporter": "python",
   "pygments_lexer": "ipython3",
   "version": "3.8.13"
  },
  "latex_envs": {
   "LaTeX_envs_menu_present": true,
   "autoclose": false,
   "autocomplete": true,
   "bibliofile": "biblio.bib",
   "cite_by": "apalike",
   "current_citInitial": 1,
   "eqLabelWithNumbers": true,
   "eqNumInitial": 1,
   "hotkeys": {
    "equation": "Ctrl-E",
    "itemize": "Ctrl-I"
   },
   "labels_anchors": false,
   "latex_user_defs": false,
   "report_style_numbering": false,
   "user_envs_cfg": false
  },
  "varInspector": {
   "cols": {
    "lenName": 16,
    "lenType": 16,
    "lenVar": 40
   },
   "kernels_config": {
    "python": {
     "delete_cmd_postfix": "",
     "delete_cmd_prefix": "del ",
     "library": "var_list.py",
     "varRefreshCmd": "print(var_dic_list())"
    },
    "r": {
     "delete_cmd_postfix": ") ",
     "delete_cmd_prefix": "rm(",
     "library": "var_list.r",
     "varRefreshCmd": "cat(var_dic_list()) "
    }
   },
   "types_to_exclude": [
    "module",
    "function",
    "builtin_function_or_method",
    "instance",
    "_Feature"
   ],
   "window_display": false
  }
 },
 "nbformat": 4,
 "nbformat_minor": 4
}
